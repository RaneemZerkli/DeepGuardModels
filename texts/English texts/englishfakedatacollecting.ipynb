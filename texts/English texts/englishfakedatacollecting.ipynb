{
 "cells": [
  {
   "cell_type": "code",
   "execution_count": null,
   "id": "5f8a33c2",
   "metadata": {},
   "outputs": [
    {
     "name": "stderr",
     "output_type": "stream",
     "text": [
      "A decoder-only architecture is being used, but right-padding was detected! For correct generation results, please set `padding_side='left'` when initializing the tokenizer.\n"
     ]
    }
   ],
   "source": [
    "from transformers import GPT2LMHeadModel, GPT2Tokenizer\n",
    "\n",
    "# Load the pre-trained GPT-2 model and tokenizer\n",
    "model_name = \"gpt2\"  # You can choose a specific GPT-2 variant (small, medium, large, etc.)\n",
    "model = GPT2LMHeadModel.from_pretrained(model_name)\n",
    "tokenizer = GPT2Tokenizer.from_pretrained(model_name)\n",
    "\n",
    "# Generate multiple sentences\n",
    "max_length = 150  # Adjust the desired maximum length for the generated text\n",
    "num_sentences = 3  # Number of sentences to generate\n",
    "\n",
    "output = model.generate( max_length=50, num_return_sequences=10000, no_repeat_ngram_size=2, top_k=50, do_sample=True, \n",
    "                        pad_token_id=50256)\n",
    "# Decode and print the generated text\n",
    "inputs=[]\n",
    "for i, sample_output in enumerate(output):\n",
    "    generated_text = tokenizer.decode(sample_output, skip_special_tokens=True)\n",
    "    inputs.append(generated_text)"
   ]
  },
  {
   "cell_type": "code",
   "execution_count": null,
   "id": "69117d8a",
   "metadata": {},
   "outputs": [],
   "source": [
    "import pandas as pd"
   ]
  },
  {
   "cell_type": "code",
   "execution_count": null,
   "id": "81b6b76d",
   "metadata": {},
   "outputs": [],
   "source": [
    "df=pd.DataFrame({'Inputs':inputs,'Label':0})"
   ]
  }
 ],
 "metadata": {
  "kernelspec": {
   "display_name": "Python 3 (ipykernel)",
   "language": "python",
   "name": "python3"
  },
  "language_info": {
   "codemirror_mode": {
    "name": "ipython",
    "version": 3
   },
   "file_extension": ".py",
   "mimetype": "text/x-python",
   "name": "python",
   "nbconvert_exporter": "python",
   "pygments_lexer": "ipython3",
   "version": "3.10.9"
  }
 },
 "nbformat": 4,
 "nbformat_minor": 5
}
