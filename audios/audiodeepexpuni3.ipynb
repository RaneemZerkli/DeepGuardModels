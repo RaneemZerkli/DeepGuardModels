{
 "cells": [
  {
   "cell_type": "code",
   "execution_count": 8,
   "id": "52b85d4f",
   "metadata": {},
   "outputs": [],
   "source": [
    "import os\n",
    "import librosa\n",
    "import numpy as np\n",
    "import tensorflow as tf\n",
    "from sklearn.model_selection import train_test_split\n"
   ]
  },
  {
   "cell_type": "code",
   "execution_count": 9,
   "id": "101e2aed",
   "metadata": {},
   "outputs": [],
   "source": [
    "def extract_features(file_path, mfcc=True, chroma=True, mel=True):\n",
    "    audio, sample_rate = librosa.load(file_path, res_type='kaiser_fast')\n",
    "    features = []\n",
    "    if mfcc:\n",
    "        mfccs = np.mean(librosa.feature.mfcc(y=audio, sr=sample_rate, n_mfcc=13), axis=1)\n",
    "        features.extend(mfccs)\n",
    "    if chroma:\n",
    "        chroma = np.mean(librosa.feature.chroma_stft(y=audio, sr=sample_rate), axis=1)\n",
    "        features.extend(chroma)\n",
    "    if mel:\n",
    "        mel = np.mean(librosa.feature.melspectrogram(y=audio, sr=sample_rate), axis=1)\n",
    "        features.extend(mel)\n",
    "    return features"
   ]
  },
  {
   "cell_type": "code",
   "execution_count": 10,
   "id": "357447ce",
   "metadata": {},
   "outputs": [],
   "source": [
    "def preprocess_dataset(data_path, labels):\n",
    "    X = []\n",
    "    y = []\n",
    "    for label, folder in enumerate(labels):\n",
    "        for filename in os.listdir(os.path.join(data_path, folder)):\n",
    "            file_path = os.path.join(data_path, folder, filename)\n",
    "            features = extract_features(file_path)\n",
    "            X.append(features)\n",
    "            y.append(label)\n",
    "    return np.array(X), np.array(y)"
   ]
  },
  {
   "cell_type": "code",
   "execution_count": 12,
   "id": "f20f4793",
   "metadata": {},
   "outputs": [],
   "source": [
    "data_path = \"forerecorded/training\"\n",
    "labels = [\"fake\", \"real\"]\n"
   ]
  },
  {
   "cell_type": "code",
   "execution_count": 13,
   "id": "ea7e730c",
   "metadata": {},
   "outputs": [
    {
     "ename": "FileNotFoundError",
     "evalue": "[WinError 3] The system cannot find the path specified: 'forerecorded/training\\\\fake'",
     "output_type": "error",
     "traceback": [
      "\u001b[1;31m---------------------------------------------------------------------------\u001b[0m",
      "\u001b[1;31mFileNotFoundError\u001b[0m                         Traceback (most recent call last)",
      "Cell \u001b[1;32mIn[13], line 1\u001b[0m\n\u001b[1;32m----> 1\u001b[0m X, y \u001b[38;5;241m=\u001b[39m \u001b[43mpreprocess_dataset\u001b[49m\u001b[43m(\u001b[49m\u001b[43mdata_path\u001b[49m\u001b[43m,\u001b[49m\u001b[43m \u001b[49m\u001b[43mlabels\u001b[49m\u001b[43m)\u001b[49m\n",
      "Cell \u001b[1;32mIn[10], line 5\u001b[0m, in \u001b[0;36mpreprocess_dataset\u001b[1;34m(data_path, labels)\u001b[0m\n\u001b[0;32m      3\u001b[0m y \u001b[38;5;241m=\u001b[39m []\n\u001b[0;32m      4\u001b[0m \u001b[38;5;28;01mfor\u001b[39;00m label, folder \u001b[38;5;129;01min\u001b[39;00m \u001b[38;5;28menumerate\u001b[39m(labels):\n\u001b[1;32m----> 5\u001b[0m     \u001b[38;5;28;01mfor\u001b[39;00m filename \u001b[38;5;129;01min\u001b[39;00m \u001b[43mos\u001b[49m\u001b[38;5;241;43m.\u001b[39;49m\u001b[43mlistdir\u001b[49m\u001b[43m(\u001b[49m\u001b[43mos\u001b[49m\u001b[38;5;241;43m.\u001b[39;49m\u001b[43mpath\u001b[49m\u001b[38;5;241;43m.\u001b[39;49m\u001b[43mjoin\u001b[49m\u001b[43m(\u001b[49m\u001b[43mdata_path\u001b[49m\u001b[43m,\u001b[49m\u001b[43m \u001b[49m\u001b[43mfolder\u001b[49m\u001b[43m)\u001b[49m\u001b[43m)\u001b[49m:\n\u001b[0;32m      6\u001b[0m         file_path \u001b[38;5;241m=\u001b[39m os\u001b[38;5;241m.\u001b[39mpath\u001b[38;5;241m.\u001b[39mjoin(data_path, folder, filename)\n\u001b[0;32m      7\u001b[0m         features \u001b[38;5;241m=\u001b[39m extract_features(file_path)\n",
      "\u001b[1;31mFileNotFoundError\u001b[0m: [WinError 3] The system cannot find the path specified: 'forerecorded/training\\\\fake'"
     ]
    }
   ],
   "source": [
    "X, y = preprocess_dataset(data_path, labels)"
   ]
  },
  {
   "cell_type": "code",
   "execution_count": 153,
   "id": "abe5efa2",
   "metadata": {},
   "outputs": [],
   "source": [
    "x_train1, X_test1, y_train1, y_test1 = train_test_split(X, y, test_size=0.2, random_state=42)"
   ]
  },
  {
   "cell_type": "code",
   "execution_count": 132,
   "id": "bfb025cb",
   "metadata": {},
   "outputs": [],
   "source": [
    "data_path1 = \"AUDIO\"\n",
    "\n",
    "\n"
   ]
  },
  {
   "cell_type": "code",
   "execution_count": 124,
   "id": "232e238b",
   "metadata": {},
   "outputs": [],
   "source": [
    "X1, y1 = preprocess_dataset(data_path1, labels)"
   ]
  },
  {
   "cell_type": "code",
   "execution_count": 125,
   "id": "6d443cf7",
   "metadata": {},
   "outputs": [],
   "source": [
    "x_val=X1"
   ]
  },
  {
   "cell_type": "code",
   "execution_count": 126,
   "id": "d7f98b4d",
   "metadata": {},
   "outputs": [],
   "source": [
    "y_val=y1"
   ]
  },
  {
   "cell_type": "code",
   "execution_count": 127,
   "id": "ac0517eb",
   "metadata": {},
   "outputs": [],
   "source": [
    "from tensorflow.keras.layers import Bidirectional"
   ]
  },
  {
   "cell_type": "code",
   "execution_count": 158,
   "id": "ceb8d35f",
   "metadata": {},
   "outputs": [],
   "source": [
    "model1 = tf.keras.Sequential([\n",
    "    Bidirectional(tf.keras.layers.LSTM(64, input_shape=(x_train.shape[1], 1))),\n",
    "    tf.keras.layers.Dropout(0.5),  # Add dropout layer\n",
    "    tf.keras.layers.Dense(64, activation='relu'),\n",
    "    tf.keras.layers.Dropout(0.5),  # Add dropout layer\n",
    "    tf.keras.layers.Dense(1, activation='sigmoid', kernel_regularizer='l1')\n",
    "])"
   ]
  },
  {
   "cell_type": "code",
   "execution_count": 160,
   "id": "136a440e",
   "metadata": {},
   "outputs": [],
   "source": [
    "model1.compile(optimizer='adam', loss='binary_crossentropy', metrics=['accuracy'])\n"
   ]
  },
  {
   "cell_type": "code",
   "execution_count": 156,
   "id": "6892cb60",
   "metadata": {},
   "outputs": [],
   "source": [
    "X_train1 = np.reshape(x_train1, (x_train1.shape[0], x_train1.shape[1], 1))\n",
    "X_test1 = np.reshape(X_test, (X_test1.shape[0], X_test1.shape[1], 1))\n"
   ]
  },
  {
   "cell_type": "code",
   "execution_count": 161,
   "id": "2c6d143e",
   "metadata": {},
   "outputs": [
    {
     "name": "stdout",
     "output_type": "stream",
     "text": [
      "Epoch 1/10\n",
      "1/1 [==============================] - 3s 3s/step - loss: 0.8398 - accuracy: 0.4545 - val_loss: 0.7761 - val_accuracy: 0.6429\n",
      "Epoch 2/10\n",
      "1/1 [==============================] - 0s 129ms/step - loss: 0.8625 - accuracy: 0.3818 - val_loss: 0.7225 - val_accuracy: 0.9286\n",
      "Epoch 3/10\n",
      "1/1 [==============================] - 0s 137ms/step - loss: 0.7769 - accuracy: 0.6000 - val_loss: 0.6745 - val_accuracy: 0.9286\n",
      "Epoch 4/10\n",
      "1/1 [==============================] - 0s 58ms/step - loss: 0.7038 - accuracy: 0.6182 - val_loss: 0.6317 - val_accuracy: 0.9286\n",
      "Epoch 5/10\n",
      "1/1 [==============================] - 0s 45ms/step - loss: 0.7397 - accuracy: 0.6727 - val_loss: 0.5932 - val_accuracy: 0.9286\n",
      "Epoch 6/10\n",
      "1/1 [==============================] - 0s 45ms/step - loss: 0.7081 - accuracy: 0.6364 - val_loss: 0.5587 - val_accuracy: 0.9286\n",
      "Epoch 7/10\n",
      "1/1 [==============================] - 0s 47ms/step - loss: 0.7083 - accuracy: 0.7091 - val_loss: 0.5287 - val_accuracy: 0.9286\n",
      "Epoch 8/10\n",
      "1/1 [==============================] - 0s 47ms/step - loss: 0.7295 - accuracy: 0.6909 - val_loss: 0.5041 - val_accuracy: 0.9286\n",
      "Epoch 9/10\n",
      "1/1 [==============================] - 0s 47ms/step - loss: 0.6752 - accuracy: 0.7455 - val_loss: 0.4831 - val_accuracy: 0.9286\n",
      "Epoch 10/10\n",
      "1/1 [==============================] - 0s 44ms/step - loss: 0.7012 - accuracy: 0.7455 - val_loss: 0.4652 - val_accuracy: 0.9286\n"
     ]
    },
    {
     "data": {
      "text/plain": [
       "<keras.callbacks.History at 0x295937aa500>"
      ]
     },
     "execution_count": 161,
     "metadata": {},
     "output_type": "execute_result"
    }
   ],
   "source": [
    "model1.fit(X_train1, y_train1, epochs=10,  validation_data=(X_test1, y_test1),)"
   ]
  },
  {
   "cell_type": "code",
   "execution_count": 163,
   "id": "daeba20c",
   "metadata": {},
   "outputs": [
    {
     "name": "stdout",
     "output_type": "stream",
     "text": [
      "Epoch 1/10\n",
      "100/100 [==============================] - 2s 19ms/step - loss: 0.6303 - accuracy: 0.7700 - val_loss: 0.3726 - val_accuracy: 0.9286\n",
      "Epoch 2/10\n",
      "100/100 [==============================] - 2s 18ms/step - loss: 0.6471 - accuracy: 0.7700 - val_loss: 0.3985 - val_accuracy: 0.9286\n",
      "Epoch 3/10\n",
      "100/100 [==============================] - 2s 18ms/step - loss: 0.6309 - accuracy: 0.7700 - val_loss: 0.4163 - val_accuracy: 0.9286\n",
      "Epoch 4/10\n",
      "100/100 [==============================] - 2s 18ms/step - loss: 0.6102 - accuracy: 0.7900 - val_loss: 0.4770 - val_accuracy: 0.9286\n",
      "Epoch 5/10\n",
      "100/100 [==============================] - 2s 18ms/step - loss: 0.5561 - accuracy: 0.7900 - val_loss: 0.4074 - val_accuracy: 0.9286\n",
      "Epoch 6/10\n",
      " 50/100 [==============>...............] - ETA: 0s - loss: 0.4981 - accuracy: 0.8000WARNING:tensorflow:Your input ran out of data; interrupting training. Make sure that your dataset or generator can generate at least `steps_per_epoch * epochs` batches (in this case, 1000 batches). You may need to use the repeat() function when building your dataset.\n",
      "100/100 [==============================] - 1s 9ms/step - loss: 0.4981 - accuracy: 0.8000 - val_loss: 0.4327 - val_accuracy: 0.9286\n"
     ]
    },
    {
     "data": {
      "text/plain": [
       "<keras.callbacks.History at 0x293145f9f00>"
      ]
     },
     "execution_count": 163,
     "metadata": {},
     "output_type": "execute_result"
    }
   ],
   "source": [
    "model1.fit(X_train1, y_train1, epochs=10,  validation_data=(X_test1, y_test1),steps_per_epoch=100)"
   ]
  },
  {
   "cell_type": "code",
   "execution_count": 45,
   "id": "ca3b24d1",
   "metadata": {},
   "outputs": [
    {
     "name": "stdout",
     "output_type": "stream",
     "text": [
      "Epoch 1/10\n",
      "80/80 [==============================] - 4s 52ms/step - loss: 0.2315 - accuracy: 0.9245 - val_loss: 0.2189 - val_accuracy: 0.9260\n",
      "Epoch 2/10\n",
      "80/80 [==============================] - 3s 41ms/step - loss: 0.2321 - accuracy: 0.9266 - val_loss: 0.2239 - val_accuracy: 0.9265\n",
      "Epoch 3/10\n",
      "80/80 [==============================] - 3s 38ms/step - loss: 0.2307 - accuracy: 0.9267 - val_loss: 0.2218 - val_accuracy: 0.9207\n",
      "Epoch 4/10\n",
      "80/80 [==============================] - 3s 37ms/step - loss: 0.2078 - accuracy: 0.9376 - val_loss: 0.2140 - val_accuracy: 0.9318\n",
      "Epoch 5/10\n",
      "80/80 [==============================] - 3s 38ms/step - loss: 0.2138 - accuracy: 0.9346 - val_loss: 0.2153 - val_accuracy: 0.9287\n",
      "Epoch 6/10\n",
      "80/80 [==============================] - 3s 38ms/step - loss: 0.2098 - accuracy: 0.9361 - val_loss: 0.2094 - val_accuracy: 0.9349\n",
      "Epoch 7/10\n",
      "80/80 [==============================] - 3s 38ms/step - loss: 0.2034 - accuracy: 0.9416 - val_loss: 0.2058 - val_accuracy: 0.9274\n",
      "Epoch 8/10\n",
      "80/80 [==============================] - 3s 39ms/step - loss: 0.2010 - accuracy: 0.9362 - val_loss: 0.1992 - val_accuracy: 0.9372\n",
      "Epoch 9/10\n",
      "80/80 [==============================] - 3s 38ms/step - loss: 0.2061 - accuracy: 0.9390 - val_loss: 0.2591 - val_accuracy: 0.9109\n",
      "Epoch 10/10\n",
      "80/80 [==============================] - 3s 37ms/step - loss: 0.1883 - accuracy: 0.9442 - val_loss: 0.1878 - val_accuracy: 0.9403\n"
     ]
    },
    {
     "data": {
      "text/plain": [
       "<keras.callbacks.History at 0x2957778e290>"
      ]
     },
     "execution_count": 45,
     "metadata": {},
     "output_type": "execute_result"
    }
   ],
   "source": [
    "model.fit(X_train, y_train, epochs=10, batch_size=128, validation_data=(X_val, y_val),)"
   ]
  },
  {
   "cell_type": "code",
   "execution_count": 46,
   "id": "8a55ec1f",
   "metadata": {},
   "outputs": [
    {
     "name": "stdout",
     "output_type": "stream",
     "text": [
      "Epoch 1/10\n",
      "80/80 [==============================] - 4s 47ms/step - loss: 0.1825 - accuracy: 0.9479 - val_loss: 0.1912 - val_accuracy: 0.9416\n",
      "Epoch 2/10\n",
      "80/80 [==============================] - 3s 39ms/step - loss: 0.1794 - accuracy: 0.9478 - val_loss: 0.2054 - val_accuracy: 0.9300\n",
      "Epoch 3/10\n",
      "80/80 [==============================] - 3s 39ms/step - loss: 0.1748 - accuracy: 0.9517 - val_loss: 0.1852 - val_accuracy: 0.9452\n",
      "Epoch 4/10\n",
      "80/80 [==============================] - 3s 36ms/step - loss: 0.1644 - accuracy: 0.9531 - val_loss: 0.2070 - val_accuracy: 0.9314\n",
      "Epoch 5/10\n",
      "80/80 [==============================] - 3s 38ms/step - loss: 0.1725 - accuracy: 0.9485 - val_loss: 0.2729 - val_accuracy: 0.9051\n",
      "Epoch 6/10\n",
      "80/80 [==============================] - 3s 37ms/step - loss: 0.1769 - accuracy: 0.9462 - val_loss: 0.1796 - val_accuracy: 0.9452\n",
      "Epoch 7/10\n",
      "80/80 [==============================] - 3s 38ms/step - loss: 0.1599 - accuracy: 0.9538 - val_loss: 0.1943 - val_accuracy: 0.9412\n",
      "Epoch 8/10\n",
      "80/80 [==============================] - 3s 36ms/step - loss: 0.1680 - accuracy: 0.9526 - val_loss: 0.1857 - val_accuracy: 0.9412\n",
      "Epoch 9/10\n",
      "80/80 [==============================] - 3s 37ms/step - loss: 0.1717 - accuracy: 0.9499 - val_loss: 0.1966 - val_accuracy: 0.9349\n",
      "Epoch 10/10\n",
      "80/80 [==============================] - 3s 36ms/step - loss: 0.1647 - accuracy: 0.9523 - val_loss: 0.1877 - val_accuracy: 0.9439\n"
     ]
    },
    {
     "data": {
      "text/plain": [
       "<keras.callbacks.History at 0x2950f859840>"
      ]
     },
     "execution_count": 46,
     "metadata": {},
     "output_type": "execute_result"
    }
   ],
   "source": [
    "model.fit(X_train, y_train, epochs=10, batch_size=128, validation_data=(X_val, y_val),)"
   ]
  },
  {
   "cell_type": "code",
   "execution_count": 47,
   "id": "e8f42c33",
   "metadata": {},
   "outputs": [
    {
     "name": "stdout",
     "output_type": "stream",
     "text": [
      "Epoch 1/10\n",
      "40/40 [==============================] - 3s 67ms/step - loss: 0.1413 - accuracy: 0.9627 - val_loss: 0.1774 - val_accuracy: 0.9452\n",
      "Epoch 2/10\n",
      "40/40 [==============================] - 2s 50ms/step - loss: 0.1366 - accuracy: 0.9636 - val_loss: 0.1698 - val_accuracy: 0.9465\n",
      "Epoch 3/10\n",
      "40/40 [==============================] - 2s 46ms/step - loss: 0.1398 - accuracy: 0.9641 - val_loss: 0.1788 - val_accuracy: 0.9461\n",
      "Epoch 4/10\n",
      "40/40 [==============================] - 2s 43ms/step - loss: 0.1329 - accuracy: 0.9636 - val_loss: 0.1750 - val_accuracy: 0.9492\n",
      "Epoch 5/10\n",
      "40/40 [==============================] - 2s 42ms/step - loss: 0.1316 - accuracy: 0.9664 - val_loss: 0.1855 - val_accuracy: 0.9376\n",
      "Epoch 6/10\n",
      "40/40 [==============================] - 2s 41ms/step - loss: 0.1292 - accuracy: 0.9673 - val_loss: 0.1781 - val_accuracy: 0.9425\n",
      "Epoch 7/10\n",
      "40/40 [==============================] - 2s 40ms/step - loss: 0.1312 - accuracy: 0.9660 - val_loss: 0.1787 - val_accuracy: 0.9407\n",
      "Epoch 8/10\n",
      "40/40 [==============================] - 2s 40ms/step - loss: 0.1264 - accuracy: 0.9661 - val_loss: 0.2028 - val_accuracy: 0.9300\n",
      "Epoch 9/10\n",
      "40/40 [==============================] - 2s 40ms/step - loss: 0.1243 - accuracy: 0.9677 - val_loss: 0.1733 - val_accuracy: 0.9461\n",
      "Epoch 10/10\n",
      "40/40 [==============================] - 2s 42ms/step - loss: 0.1223 - accuracy: 0.9686 - val_loss: 0.1578 - val_accuracy: 0.9523\n"
     ]
    },
    {
     "data": {
      "text/plain": [
       "<keras.callbacks.History at 0x2957e7cf610>"
      ]
     },
     "execution_count": 47,
     "metadata": {},
     "output_type": "execute_result"
    }
   ],
   "source": [
    "model.fit(X_train, y_train, epochs=10, batch_size=256, validation_data=(X_val, y_val),)"
   ]
  },
  {
   "cell_type": "code",
   "execution_count": 48,
   "id": "dcece33a",
   "metadata": {},
   "outputs": [
    {
     "name": "stdout",
     "output_type": "stream",
     "text": [
      "Epoch 1/10\n",
      "20/20 [==============================] - 2s 91ms/step - loss: 0.1178 - accuracy: 0.9738 - val_loss: 0.1632 - val_accuracy: 0.9492\n",
      "Epoch 2/10\n",
      "20/20 [==============================] - 1s 70ms/step - loss: 0.1128 - accuracy: 0.9722 - val_loss: 0.1911 - val_accuracy: 0.9389\n",
      "Epoch 3/10\n",
      "20/20 [==============================] - 1s 58ms/step - loss: 0.1151 - accuracy: 0.9709 - val_loss: 0.1827 - val_accuracy: 0.9456\n",
      "Epoch 4/10\n",
      "20/20 [==============================] - 1s 53ms/step - loss: 0.1132 - accuracy: 0.9730 - val_loss: 0.1659 - val_accuracy: 0.9514\n",
      "Epoch 5/10\n",
      "20/20 [==============================] - 1s 47ms/step - loss: 0.1081 - accuracy: 0.9737 - val_loss: 0.1745 - val_accuracy: 0.9443\n",
      "Epoch 6/10\n",
      "20/20 [==============================] - 1s 44ms/step - loss: 0.1077 - accuracy: 0.9754 - val_loss: 0.1840 - val_accuracy: 0.9421\n",
      "Epoch 7/10\n",
      "20/20 [==============================] - 1s 45ms/step - loss: 0.1037 - accuracy: 0.9770 - val_loss: 0.1734 - val_accuracy: 0.9488\n",
      "Epoch 8/10\n",
      "20/20 [==============================] - 1s 41ms/step - loss: 0.1032 - accuracy: 0.9768 - val_loss: 0.1726 - val_accuracy: 0.9532\n",
      "Epoch 9/10\n",
      "20/20 [==============================] - 1s 40ms/step - loss: 0.1120 - accuracy: 0.9734 - val_loss: 0.1843 - val_accuracy: 0.9416\n",
      "Epoch 10/10\n",
      "20/20 [==============================] - 1s 39ms/step - loss: 0.1016 - accuracy: 0.9764 - val_loss: 0.1710 - val_accuracy: 0.9465\n"
     ]
    },
    {
     "data": {
      "text/plain": [
       "<keras.callbacks.History at 0x29325cbdae0>"
      ]
     },
     "execution_count": 48,
     "metadata": {},
     "output_type": "execute_result"
    }
   ],
   "source": [
    "model.fit(X_train, y_train, epochs=20, batch_size=512, validation_data=(X_val, y_val),)"
   ]
  },
  {
   "cell_type": "code",
   "execution_count": 49,
   "id": "dc243ea8",
   "metadata": {},
   "outputs": [
    {
     "name": "stdout",
     "output_type": "stream",
     "text": [
      "Epoch 1/20\n",
      "10/10 [==============================] - 2s 135ms/step - loss: 0.1054 - accuracy: 0.9754 - val_loss: 0.1634 - val_accuracy: 0.9537\n",
      "Epoch 2/20\n",
      "10/10 [==============================] - 1s 109ms/step - loss: 0.0980 - accuracy: 0.9787 - val_loss: 0.1636 - val_accuracy: 0.9528\n",
      "Epoch 3/20\n",
      "10/10 [==============================] - 1s 91ms/step - loss: 0.0949 - accuracy: 0.9806 - val_loss: 0.1616 - val_accuracy: 0.9501\n",
      "Epoch 4/20\n",
      "10/10 [==============================] - 1s 82ms/step - loss: 0.0954 - accuracy: 0.9801 - val_loss: 0.1598 - val_accuracy: 0.9554\n",
      "Epoch 5/20\n",
      "10/10 [==============================] - 1s 78ms/step - loss: 0.0941 - accuracy: 0.9808 - val_loss: 0.1674 - val_accuracy: 0.9514\n",
      "Epoch 6/20\n",
      "10/10 [==============================] - 1s 68ms/step - loss: 0.0932 - accuracy: 0.9799 - val_loss: 0.1679 - val_accuracy: 0.9545\n",
      "Epoch 7/20\n",
      "10/10 [==============================] - 1s 66ms/step - loss: 0.0946 - accuracy: 0.9803 - val_loss: 0.1695 - val_accuracy: 0.9537\n",
      "Epoch 8/20\n",
      "10/10 [==============================] - 1s 65ms/step - loss: 0.0912 - accuracy: 0.9813 - val_loss: 0.1577 - val_accuracy: 0.9568\n",
      "Epoch 9/20\n",
      "10/10 [==============================] - 1s 54ms/step - loss: 0.0900 - accuracy: 0.9810 - val_loss: 0.1610 - val_accuracy: 0.9550\n",
      "Epoch 10/20\n",
      "10/10 [==============================] - 1s 56ms/step - loss: 0.0905 - accuracy: 0.9816 - val_loss: 0.1708 - val_accuracy: 0.9523\n",
      "Epoch 11/20\n",
      "10/10 [==============================] - 1s 52ms/step - loss: 0.0885 - accuracy: 0.9814 - val_loss: 0.1644 - val_accuracy: 0.9532\n",
      "Epoch 12/20\n",
      "10/10 [==============================] - 1s 51ms/step - loss: 0.0913 - accuracy: 0.9803 - val_loss: 0.1880 - val_accuracy: 0.9439\n",
      "Epoch 13/20\n",
      "10/10 [==============================] - 0s 50ms/step - loss: 0.0915 - accuracy: 0.9810 - val_loss: 0.1628 - val_accuracy: 0.9559\n",
      "Epoch 14/20\n",
      "10/10 [==============================] - 0s 49ms/step - loss: 0.0869 - accuracy: 0.9833 - val_loss: 0.1658 - val_accuracy: 0.9528\n",
      "Epoch 15/20\n",
      "10/10 [==============================] - 0s 46ms/step - loss: 0.0866 - accuracy: 0.9832 - val_loss: 0.1705 - val_accuracy: 0.9523\n",
      "Epoch 16/20\n",
      "10/10 [==============================] - 1s 51ms/step - loss: 0.0861 - accuracy: 0.9825 - val_loss: 0.1637 - val_accuracy: 0.9541\n",
      "Epoch 17/20\n",
      "10/10 [==============================] - 0s 50ms/step - loss: 0.0920 - accuracy: 0.9807 - val_loss: 0.1661 - val_accuracy: 0.9532\n",
      "Epoch 18/20\n",
      "10/10 [==============================] - 1s 54ms/step - loss: 0.0882 - accuracy: 0.9828 - val_loss: 0.1728 - val_accuracy: 0.9474\n",
      "Epoch 19/20\n",
      "10/10 [==============================] - 0s 47ms/step - loss: 0.0877 - accuracy: 0.9819 - val_loss: 0.1715 - val_accuracy: 0.9514\n",
      "Epoch 20/20\n",
      "10/10 [==============================] - 1s 51ms/step - loss: 0.0877 - accuracy: 0.9825 - val_loss: 0.1641 - val_accuracy: 0.9550\n"
     ]
    },
    {
     "data": {
      "text/plain": [
       "<keras.callbacks.History at 0x29333cbffa0>"
      ]
     },
     "execution_count": 49,
     "metadata": {},
     "output_type": "execute_result"
    }
   ],
   "source": [
    "model.fit(X_train, y_train, epochs=20, batch_size=1024, validation_data=(X_val, y_val),)"
   ]
  },
  {
   "cell_type": "code",
   "execution_count": 50,
   "id": "68fd5ccb",
   "metadata": {},
   "outputs": [
    {
     "name": "stdout",
     "output_type": "stream",
     "text": [
      "Epoch 1/20\n",
      "10/10 [==============================] - 2s 135ms/step - loss: 0.0863 - accuracy: 0.9847 - val_loss: 0.1638 - val_accuracy: 0.9550\n",
      "Epoch 2/20\n",
      "10/10 [==============================] - 1s 108ms/step - loss: 0.0863 - accuracy: 0.9841 - val_loss: 0.1725 - val_accuracy: 0.9523\n",
      "Epoch 3/20\n",
      "10/10 [==============================] - 1s 96ms/step - loss: 0.0885 - accuracy: 0.9826 - val_loss: 0.1658 - val_accuracy: 0.9541\n",
      "Epoch 4/20\n",
      "10/10 [==============================] - 1s 82ms/step - loss: 0.0870 - accuracy: 0.9837 - val_loss: 0.1694 - val_accuracy: 0.9537\n",
      "Epoch 5/20\n",
      "10/10 [==============================] - 1s 74ms/step - loss: 0.0842 - accuracy: 0.9839 - val_loss: 0.1702 - val_accuracy: 0.9510\n",
      "Epoch 6/20\n",
      "10/10 [==============================] - 1s 67ms/step - loss: 0.0853 - accuracy: 0.9824 - val_loss: 0.1723 - val_accuracy: 0.9545\n",
      "Epoch 7/20\n",
      "10/10 [==============================] - 1s 65ms/step - loss: 0.0841 - accuracy: 0.9843 - val_loss: 0.1774 - val_accuracy: 0.9523\n",
      "Epoch 8/20\n",
      "10/10 [==============================] - 1s 61ms/step - loss: 0.0816 - accuracy: 0.9838 - val_loss: 0.1894 - val_accuracy: 0.9483\n",
      "Epoch 9/20\n",
      "10/10 [==============================] - 1s 53ms/step - loss: 0.0885 - accuracy: 0.9820 - val_loss: 0.1707 - val_accuracy: 0.9541\n",
      "Epoch 10/20\n",
      "10/10 [==============================] - 1s 53ms/step - loss: 0.0809 - accuracy: 0.9848 - val_loss: 0.1770 - val_accuracy: 0.9550\n",
      "Epoch 11/20\n",
      "10/10 [==============================] - 1s 53ms/step - loss: 0.0795 - accuracy: 0.9846 - val_loss: 0.1760 - val_accuracy: 0.9514\n",
      "Epoch 12/20\n",
      "10/10 [==============================] - 0s 50ms/step - loss: 0.0807 - accuracy: 0.9843 - val_loss: 0.1753 - val_accuracy: 0.9492\n",
      "Epoch 13/20\n",
      "10/10 [==============================] - 0s 48ms/step - loss: 0.0782 - accuracy: 0.9873 - val_loss: 0.1769 - val_accuracy: 0.9532\n",
      "Epoch 14/20\n",
      "10/10 [==============================] - 1s 51ms/step - loss: 0.0847 - accuracy: 0.9844 - val_loss: 0.1735 - val_accuracy: 0.9519\n",
      "Epoch 15/20\n",
      "10/10 [==============================] - 0s 50ms/step - loss: 0.0811 - accuracy: 0.9845 - val_loss: 0.1764 - val_accuracy: 0.9496\n",
      "Epoch 16/20\n",
      "10/10 [==============================] - 0s 47ms/step - loss: 0.0800 - accuracy: 0.9833 - val_loss: 0.1732 - val_accuracy: 0.9554\n",
      "Epoch 17/20\n",
      "10/10 [==============================] - 0s 50ms/step - loss: 0.0816 - accuracy: 0.9832 - val_loss: 0.1832 - val_accuracy: 0.9479\n",
      "Epoch 18/20\n",
      "10/10 [==============================] - 1s 53ms/step - loss: 0.0790 - accuracy: 0.9846 - val_loss: 0.1813 - val_accuracy: 0.9479\n",
      "Epoch 19/20\n",
      "10/10 [==============================] - 0s 48ms/step - loss: 0.0788 - accuracy: 0.9859 - val_loss: 0.1774 - val_accuracy: 0.9514\n",
      "Epoch 20/20\n",
      "10/10 [==============================] - 1s 52ms/step - loss: 0.0790 - accuracy: 0.9856 - val_loss: 0.1836 - val_accuracy: 0.9479\n"
     ]
    },
    {
     "data": {
      "text/plain": [
       "<keras.callbacks.History at 0x2956a4e2980>"
      ]
     },
     "execution_count": 50,
     "metadata": {},
     "output_type": "execute_result"
    }
   ],
   "source": [
    "model.fit(X_train, y_train, epochs=20, batch_size=1024, validation_data=(X_val, y_val),)"
   ]
  },
  {
   "cell_type": "code",
   "execution_count": 51,
   "id": "e751e762",
   "metadata": {},
   "outputs": [
    {
     "name": "stdout",
     "output_type": "stream",
     "text": [
      "Epoch 1/20\n",
      "5/5 [==============================] - 1s 228ms/step - loss: 0.0751 - accuracy: 0.9865 - val_loss: 0.1706 - val_accuracy: 0.9541\n",
      "Epoch 2/20\n",
      "5/5 [==============================] - 1s 186ms/step - loss: 0.0750 - accuracy: 0.9880 - val_loss: 0.1754 - val_accuracy: 0.9528\n",
      "Epoch 3/20\n",
      "5/5 [==============================] - 1s 177ms/step - loss: 0.0735 - accuracy: 0.9870 - val_loss: 0.1835 - val_accuracy: 0.9474\n",
      "Epoch 4/20\n",
      "5/5 [==============================] - 1s 161ms/step - loss: 0.0731 - accuracy: 0.9878 - val_loss: 0.1683 - val_accuracy: 0.9581\n",
      "Epoch 5/20\n",
      "5/5 [==============================] - 1s 138ms/step - loss: 0.0727 - accuracy: 0.9874 - val_loss: 0.1813 - val_accuracy: 0.9505\n",
      "Epoch 6/20\n",
      "5/5 [==============================] - 1s 123ms/step - loss: 0.0703 - accuracy: 0.9889 - val_loss: 0.1884 - val_accuracy: 0.9483\n",
      "Epoch 7/20\n",
      "5/5 [==============================] - 1s 116ms/step - loss: 0.0714 - accuracy: 0.9887 - val_loss: 0.1838 - val_accuracy: 0.9514\n",
      "Epoch 8/20\n",
      "5/5 [==============================] - 1s 112ms/step - loss: 0.0727 - accuracy: 0.9878 - val_loss: 0.1728 - val_accuracy: 0.9590\n",
      "Epoch 9/20\n",
      "5/5 [==============================] - 0s 99ms/step - loss: 0.0724 - accuracy: 0.9879 - val_loss: 0.1806 - val_accuracy: 0.9523\n",
      "Epoch 10/20\n",
      "5/5 [==============================] - 0s 96ms/step - loss: 0.0714 - accuracy: 0.9886 - val_loss: 0.1973 - val_accuracy: 0.9465\n",
      "Epoch 11/20\n",
      "5/5 [==============================] - 0s 89ms/step - loss: 0.0734 - accuracy: 0.9873 - val_loss: 0.1820 - val_accuracy: 0.9523\n",
      "Epoch 12/20\n",
      "5/5 [==============================] - 0s 82ms/step - loss: 0.0684 - accuracy: 0.9882 - val_loss: 0.1742 - val_accuracy: 0.9554\n",
      "Epoch 13/20\n",
      "5/5 [==============================] - 0s 82ms/step - loss: 0.0707 - accuracy: 0.9898 - val_loss: 0.1784 - val_accuracy: 0.9545\n",
      "Epoch 14/20\n",
      "5/5 [==============================] - 0s 78ms/step - loss: 0.0719 - accuracy: 0.9879 - val_loss: 0.1851 - val_accuracy: 0.9505\n",
      "Epoch 15/20\n",
      "5/5 [==============================] - 0s 78ms/step - loss: 0.0685 - accuracy: 0.9890 - val_loss: 0.1816 - val_accuracy: 0.9528\n",
      "Epoch 16/20\n",
      "5/5 [==============================] - 0s 77ms/step - loss: 0.0712 - accuracy: 0.9897 - val_loss: 0.1814 - val_accuracy: 0.9537\n",
      "Epoch 17/20\n",
      "5/5 [==============================] - 0s 75ms/step - loss: 0.0696 - accuracy: 0.9886 - val_loss: 0.1768 - val_accuracy: 0.9554\n",
      "Epoch 18/20\n",
      "5/5 [==============================] - 0s 74ms/step - loss: 0.0694 - accuracy: 0.9892 - val_loss: 0.1876 - val_accuracy: 0.9514\n",
      "Epoch 19/20\n",
      "5/5 [==============================] - 0s 70ms/step - loss: 0.0649 - accuracy: 0.9894 - val_loss: 0.1808 - val_accuracy: 0.9537\n",
      "Epoch 20/20\n",
      "5/5 [==============================] - 0s 74ms/step - loss: 0.0646 - accuracy: 0.9904 - val_loss: 0.1782 - val_accuracy: 0.9554\n"
     ]
    },
    {
     "data": {
      "text/plain": [
       "<keras.callbacks.History at 0x295716b6c20>"
      ]
     },
     "execution_count": 51,
     "metadata": {},
     "output_type": "execute_result"
    }
   ],
   "source": [
    "model.fit(X_train, y_train, epochs=20, batch_size=2048, validation_data=(X_val, y_val),)"
   ]
  },
  {
   "cell_type": "code",
   "execution_count": 52,
   "id": "2db84969",
   "metadata": {},
   "outputs": [
    {
     "name": "stdout",
     "output_type": "stream",
     "text": [
      "Epoch 1/20\n",
      "10/10 [==============================] - 2s 136ms/step - loss: 0.0753 - accuracy: 0.9868 - val_loss: 0.1766 - val_accuracy: 0.9532\n",
      "Epoch 2/20\n",
      "10/10 [==============================] - 1s 113ms/step - loss: 0.0708 - accuracy: 0.9879 - val_loss: 0.1749 - val_accuracy: 0.9550\n",
      "Epoch 3/20\n",
      "10/10 [==============================] - 1s 95ms/step - loss: 0.0771 - accuracy: 0.9847 - val_loss: 0.1749 - val_accuracy: 0.9554\n",
      "Epoch 4/20\n",
      "10/10 [==============================] - 1s 87ms/step - loss: 0.0798 - accuracy: 0.9837 - val_loss: 0.1817 - val_accuracy: 0.9510\n",
      "Epoch 5/20\n",
      "10/10 [==============================] - 1s 77ms/step - loss: 0.0773 - accuracy: 0.9840 - val_loss: 0.1687 - val_accuracy: 0.9581\n",
      "Epoch 6/20\n",
      "10/10 [==============================] - 1s 68ms/step - loss: 0.0778 - accuracy: 0.9869 - val_loss: 0.1769 - val_accuracy: 0.9519\n",
      "Epoch 7/20\n",
      "10/10 [==============================] - 1s 63ms/step - loss: 0.0702 - accuracy: 0.9873 - val_loss: 0.1712 - val_accuracy: 0.9541\n",
      "Epoch 8/20\n",
      "10/10 [==============================] - 1s 61ms/step - loss: 0.0714 - accuracy: 0.9880 - val_loss: 0.1767 - val_accuracy: 0.9550\n",
      "Epoch 9/20\n",
      "10/10 [==============================] - 1s 57ms/step - loss: 0.0748 - accuracy: 0.9867 - val_loss: 0.1925 - val_accuracy: 0.9488\n",
      "Epoch 10/20\n",
      "10/10 [==============================] - 1s 56ms/step - loss: 0.0782 - accuracy: 0.9839 - val_loss: 0.1724 - val_accuracy: 0.9563\n",
      "Epoch 11/20\n",
      "10/10 [==============================] - 0s 49ms/step - loss: 0.0790 - accuracy: 0.9837 - val_loss: 0.2017 - val_accuracy: 0.9443\n",
      "Epoch 12/20\n",
      "10/10 [==============================] - 0s 47ms/step - loss: 0.0779 - accuracy: 0.9852 - val_loss: 0.1782 - val_accuracy: 0.9563\n",
      "Epoch 13/20\n",
      "10/10 [==============================] - 0s 49ms/step - loss: 0.0799 - accuracy: 0.9836 - val_loss: 0.1895 - val_accuracy: 0.9474\n",
      "Epoch 14/20\n",
      "10/10 [==============================] - 0s 47ms/step - loss: 0.0696 - accuracy: 0.9884 - val_loss: 0.1849 - val_accuracy: 0.9523\n",
      "Epoch 15/20\n",
      "10/10 [==============================] - 0s 46ms/step - loss: 0.0708 - accuracy: 0.9878 - val_loss: 0.1895 - val_accuracy: 0.9505\n",
      "Epoch 16/20\n",
      "10/10 [==============================] - 0s 49ms/step - loss: 0.0682 - accuracy: 0.9888 - val_loss: 0.1853 - val_accuracy: 0.9496\n",
      "Epoch 17/20\n",
      "10/10 [==============================] - 0s 47ms/step - loss: 0.0655 - accuracy: 0.9894 - val_loss: 0.1808 - val_accuracy: 0.9554\n",
      "Epoch 18/20\n",
      "10/10 [==============================] - 0s 46ms/step - loss: 0.0642 - accuracy: 0.9902 - val_loss: 0.1894 - val_accuracy: 0.9519\n",
      "Epoch 19/20\n",
      "10/10 [==============================] - 0s 47ms/step - loss: 0.0639 - accuracy: 0.9900 - val_loss: 0.1765 - val_accuracy: 0.9586\n",
      "Epoch 20/20\n",
      "10/10 [==============================] - 0s 51ms/step - loss: 0.0675 - accuracy: 0.9887 - val_loss: 0.2023 - val_accuracy: 0.9479\n"
     ]
    },
    {
     "data": {
      "text/plain": [
       "<keras.callbacks.History at 0x2950f8593f0>"
      ]
     },
     "execution_count": 52,
     "metadata": {},
     "output_type": "execute_result"
    }
   ],
   "source": [
    "model.fit(X_train, y_train, epochs=20, batch_size=1024, validation_data=(X_val, y_val),)"
   ]
  },
  {
   "cell_type": "code",
   "execution_count": 53,
   "id": "cb641184",
   "metadata": {},
   "outputs": [],
   "source": [
    "from tensorflow.keras.callbacks import EarlyStopping"
   ]
  },
  {
   "cell_type": "code",
   "execution_count": 57,
   "id": "63e78a6a",
   "metadata": {},
   "outputs": [],
   "source": [
    "early_stopping = EarlyStopping(monitor='val_accuracy', patience=3, restore_best_weights=True)"
   ]
  },
  {
   "cell_type": "code",
   "execution_count": 58,
   "id": "649a1ab0",
   "metadata": {},
   "outputs": [
    {
     "name": "stdout",
     "output_type": "stream",
     "text": [
      "Epoch 1/50\n",
      "10/10 [==============================] - 2s 129ms/step - loss: 0.0733 - accuracy: 0.9863 - val_loss: 0.1959 - val_accuracy: 0.9474\n",
      "Epoch 2/50\n",
      "10/10 [==============================] - 1s 105ms/step - loss: 0.0757 - accuracy: 0.9833 - val_loss: 0.1747 - val_accuracy: 0.9559\n",
      "Epoch 3/50\n",
      "10/10 [==============================] - 1s 87ms/step - loss: 0.0709 - accuracy: 0.9866 - val_loss: 0.1777 - val_accuracy: 0.9528\n",
      "Epoch 4/50\n",
      "10/10 [==============================] - 1s 81ms/step - loss: 0.0670 - accuracy: 0.9883 - val_loss: 0.1812 - val_accuracy: 0.9519\n",
      "Epoch 5/50\n",
      "10/10 [==============================] - 1s 69ms/step - loss: 0.0636 - accuracy: 0.9896 - val_loss: 0.1758 - val_accuracy: 0.9532\n"
     ]
    },
    {
     "data": {
      "text/plain": [
       "<keras.callbacks.History at 0x2931336b9d0>"
      ]
     },
     "execution_count": 58,
     "metadata": {},
     "output_type": "execute_result"
    }
   ],
   "source": [
    "model.fit(X_train, y_train, epochs=50, batch_size=1024, validation_data=(X_val, y_val), callbacks=[early_stopping])"
   ]
  },
  {
   "cell_type": "code",
   "execution_count": 59,
   "id": "024d4f5b",
   "metadata": {},
   "outputs": [
    {
     "name": "stdout",
     "output_type": "stream",
     "text": [
      "Epoch 1/50\n",
      "5/5 [==============================] - 1s 234ms/step - loss: 0.0676 - accuracy: 0.9867 - val_loss: 0.1771 - val_accuracy: 0.9545\n",
      "Epoch 2/50\n",
      "5/5 [==============================] - 1s 181ms/step - loss: 0.0681 - accuracy: 0.9883 - val_loss: 0.1973 - val_accuracy: 0.9465\n",
      "Epoch 3/50\n",
      "5/5 [==============================] - 1s 164ms/step - loss: 0.0667 - accuracy: 0.9896 - val_loss: 0.1804 - val_accuracy: 0.9545\n",
      "Epoch 4/50\n",
      "5/5 [==============================] - 1s 152ms/step - loss: 0.0590 - accuracy: 0.9914 - val_loss: 0.1815 - val_accuracy: 0.9559\n",
      "Epoch 5/50\n",
      "5/5 [==============================] - 1s 133ms/step - loss: 0.0607 - accuracy: 0.9919 - val_loss: 0.1953 - val_accuracy: 0.9501\n",
      "Epoch 6/50\n",
      "5/5 [==============================] - 1s 120ms/step - loss: 0.0612 - accuracy: 0.9921 - val_loss: 0.1981 - val_accuracy: 0.9483\n",
      "Epoch 7/50\n",
      "5/5 [==============================] - 1s 115ms/step - loss: 0.0574 - accuracy: 0.9917 - val_loss: 0.1832 - val_accuracy: 0.9572\n",
      "Epoch 8/50\n",
      "5/5 [==============================] - 1s 111ms/step - loss: 0.0586 - accuracy: 0.9921 - val_loss: 0.1919 - val_accuracy: 0.9554\n",
      "Epoch 9/50\n",
      "5/5 [==============================] - 0s 95ms/step - loss: 0.0578 - accuracy: 0.9921 - val_loss: 0.1917 - val_accuracy: 0.9510\n",
      "Epoch 10/50\n",
      "5/5 [==============================] - 0s 94ms/step - loss: 0.0563 - accuracy: 0.9930 - val_loss: 0.1831 - val_accuracy: 0.9572\n"
     ]
    },
    {
     "data": {
      "text/plain": [
       "<keras.callbacks.History at 0x29323ae4eb0>"
      ]
     },
     "execution_count": 59,
     "metadata": {},
     "output_type": "execute_result"
    }
   ],
   "source": [
    "model.fit(X_train, y_train, epochs=50, batch_size=2048, validation_data=(X_val, y_val), callbacks=[early_stopping])"
   ]
  },
  {
   "cell_type": "code",
   "execution_count": 116,
   "id": "427f8994",
   "metadata": {},
   "outputs": [],
   "source": [
    "new_audio_file_path = \"AUDIO/FAKE/linus-to-obama.wav\""
   ]
  },
  {
   "cell_type": "code",
   "execution_count": 117,
   "id": "1b96a432",
   "metadata": {},
   "outputs": [],
   "source": [
    "new_audio_features = extract_features(new_audio_file_path)"
   ]
  },
  {
   "cell_type": "code",
   "execution_count": 118,
   "id": "ce1121bf",
   "metadata": {},
   "outputs": [],
   "source": [
    "new_audio_features=np.array(new_audio_features)"
   ]
  },
  {
   "cell_type": "code",
   "execution_count": 119,
   "id": "9dcb3dee",
   "metadata": {},
   "outputs": [],
   "source": [
    "new_audio_features = np.reshape(new_audio_features, (1, new_audio_features.shape[0], 1))"
   ]
  },
  {
   "cell_type": "code",
   "execution_count": 120,
   "id": "1daa2262",
   "metadata": {},
   "outputs": [
    {
     "name": "stdout",
     "output_type": "stream",
     "text": [
      "1/1 [==============================] - 0s 35ms/step\n"
     ]
    }
   ],
   "source": [
    "predictions = model.predict(new_audio_features)"
   ]
  },
  {
   "cell_type": "code",
   "execution_count": 121,
   "id": "cf8f17a3",
   "metadata": {},
   "outputs": [],
   "source": [
    "predicted_class = 1 if predictions[0][0] > 0.5 else 0"
   ]
  },
  {
   "cell_type": "code",
   "execution_count": 122,
   "id": "23cb6f69",
   "metadata": {},
   "outputs": [
    {
     "name": "stdout",
     "output_type": "stream",
     "text": [
      "Predicted Class: real\n"
     ]
    }
   ],
   "source": [
    "print(\"Predicted Class:\", labels[predicted_class])"
   ]
  },
  {
   "cell_type": "code",
   "execution_count": null,
   "id": "e3955a45",
   "metadata": {},
   "outputs": [],
   "source": []
  }
 ],
 "metadata": {
  "kernelspec": {
   "display_name": "Python 3 (ipykernel)",
   "language": "python",
   "name": "python3"
  },
  "language_info": {
   "codemirror_mode": {
    "name": "ipython",
    "version": 3
   },
   "file_extension": ".py",
   "mimetype": "text/x-python",
   "name": "python",
   "nbconvert_exporter": "python",
   "pygments_lexer": "ipython3",
   "version": "3.10.9"
  }
 },
 "nbformat": 4,
 "nbformat_minor": 5
}
