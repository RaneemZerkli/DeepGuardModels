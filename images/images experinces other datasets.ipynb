{
 "cells": [
  {
   "cell_type": "code",
   "execution_count": 1,
   "id": "e113da1f",
   "metadata": {},
   "outputs": [],
   "source": [
    "import os\n",
    "import cv2\n",
    "import numpy as np"
   ]
  },
  {
   "cell_type": "code",
   "execution_count": 2,
   "id": "e02f694c",
   "metadata": {},
   "outputs": [],
   "source": [
    "def load_and_preprocess_data(data_dir, img_size=(120, 120)):\n",
    "    images = []\n",
    "    labels = []\n",
    "    \n",
    "    classes = os.listdir(data_dir)\n",
    "    for class_name in classes:\n",
    "        class_path = os.path.join(data_dir, class_name)\n",
    "        if os.path.isdir(class_path):\n",
    "            for filename in os.listdir(class_path):\n",
    "                img_path = os.path.join(class_path, filename)\n",
    "                img = cv2.imread(img_path)\n",
    "                img = cv2.resize(img, img_size)\n",
    "                img = cv2.cvtColor(img, cv2.COLOR_BGR2RGB)  # Convert to RGB\n",
    "                img = img / 255.0  # Normalize pixel values to be between 0 and 1\n",
    "                images.append(img)\n",
    "                labels.append(classes.index(class_name))\n",
    "    \n",
    "    return np.array(images), np.array(labels)\n"
   ]
  },
  {
   "cell_type": "code",
   "execution_count": 3,
   "id": "ae965198",
   "metadata": {},
   "outputs": [],
   "source": [
    "model.compile(loss='binary_crossentropy', optimizer=Adam(), metrics=['accuracy'])\n",
    "X_train, y_train = load_and_preprocess_data(data_dir)\n"
   ]
  },
  {
   "cell_type": "code",
   "execution_count": 9,
   "id": "794c8e03",
   "metadata": {},
   "outputs": [],
   "source": [
    "data_dir1 = 'OneDrive/Desktop/New folder (6)/test' \n",
    "X_test, y_test = load_and_preprocess_data(data_dir1)\n"
   ]
  },
  {
   "cell_type": "code",
   "execution_count": 5,
   "id": "2212bcb2",
   "metadata": {},
   "outputs": [
    {
     "data": {
      "text/plain": [
       "<generator object data_generator at 0x00000235FC0B3E60>"
      ]
     },
     "execution_count": 5,
     "metadata": {},
     "output_type": "execute_result"
    }
   ],
   "source": [
    "generator"
   ]
  },
  {
   "cell_type": "code",
   "execution_count": 5,
   "id": "8a502c62",
   "metadata": {},
   "outputs": [],
   "source": [
    "data_dir1 = 'deepfake_database/validation' \n",
    "X_val, y_val = load_and_preprocess_data(data_dir1)\n"
   ]
  },
  {
   "cell_type": "code",
   "execution_count": 6,
   "id": "0e122b9e",
   "metadata": {},
   "outputs": [],
   "source": [
    "data_dir2 =  'deepfake_database/test' \n",
    "X_test, y_test= load_and_preprocess_data(data_dir2)\n"
   ]
  },
  {
   "cell_type": "code",
   "execution_count": 4,
   "id": "ae66189c",
   "metadata": {},
   "outputs": [],
   "source": [
    "import tensorflow as tf"
   ]
  },
  {
   "cell_type": "code",
   "execution_count": 5,
   "id": "c1798a99",
   "metadata": {},
   "outputs": [],
   "source": [
    "model = tf.keras.Sequential([\n",
    "    tf.keras.layers.Conv2D(32, (3, 3), activation='relu', input_shape=(120, 120, 3)),\n",
    "    tf.keras.layers.MaxPooling2D(2, 2),\n",
    "    tf.keras.layers.Conv2D(64, (3, 3), activation='relu'),\n",
    "    tf.keras.layers.MaxPooling2D(2, 2),\n",
    "    tf.keras.layers.Flatten(),\n",
    "    tf.keras.layers.Dense(128, activation='relu'),\n",
    "    tf.keras.layers.Dense(2, activation='softmax')  # Output layer\n",
    "])"
   ]
  },
  {
   "cell_type": "code",
   "execution_count": 6,
   "id": "9f45e7c4",
   "metadata": {},
   "outputs": [],
   "source": [
    "model.compile(optimizer='adam', loss='sparse_categorical_crossentropy', metrics=['accuracy'])\n",
    "\n",
    "\n"
   ]
  },
  {
   "cell_type": "code",
   "execution_count": null,
   "id": "6bb73a9b",
   "metadata": {},
   "outputs": [],
   "source": [
    "model.fit(generator, steps_per_epoch=num_steps_per_epoch, epochs=num_epochs)"
   ]
  },
  {
   "cell_type": "code",
   "execution_count": 7,
   "id": "c09f0794",
   "metadata": {
    "scrolled": true
   },
   "outputs": [
    {
     "name": "stdout",
     "output_type": "stream",
     "text": [
      "Epoch 1/10\n",
      "2500/2500 [==============================] - 17s 4ms/step - loss: 0.6099 - accuracy: 0.6678\n",
      "Epoch 2/10\n",
      "2500/2500 [==============================] - 10s 4ms/step - loss: 0.4608 - accuracy: 0.7824\n",
      "Epoch 3/10\n",
      "2500/2500 [==============================] - 10s 4ms/step - loss: 0.3263 - accuracy: 0.8574\n",
      "Epoch 4/10\n",
      "2500/2500 [==============================] - 10s 4ms/step - loss: 0.1876 - accuracy: 0.9247\n",
      "Epoch 5/10\n",
      "2500/2500 [==============================] - 10s 4ms/step - loss: 0.1002 - accuracy: 0.9622\n",
      "Epoch 6/10\n",
      "2500/2500 [==============================] - 10s 4ms/step - loss: 0.0558 - accuracy: 0.9793\n",
      "Epoch 7/10\n",
      "2500/2500 [==============================] - 10s 4ms/step - loss: 0.0451 - accuracy: 0.9844\n",
      "Epoch 8/10\n",
      "2500/2500 [==============================] - 10s 4ms/step - loss: 0.0339 - accuracy: 0.9881\n",
      "Epoch 9/10\n",
      "2500/2500 [==============================] - 10s 4ms/step - loss: 0.0340 - accuracy: 0.9894\n",
      "Epoch 10/10\n",
      "2500/2500 [==============================] - 10s 4ms/step - loss: 0.0289 - accuracy: 0.9897\n"
     ]
    },
    {
     "data": {
      "text/plain": [
       "<keras.callbacks.History at 0x2284d677df0>"
      ]
     },
     "execution_count": 7,
     "metadata": {},
     "output_type": "execute_result"
    }
   ],
   "source": [
    " \n",
    "# Train the model\n",
    "model.fit(X_train, y_train, epochs=10,batch_size = 8)\n"
   ]
  },
  {
   "cell_type": "code",
   "execution_count": 8,
   "id": "aa28cb58",
   "metadata": {},
   "outputs": [],
   "source": [
    "model.save('deepfakeimages.h5')"
   ]
  },
  {
   "cell_type": "code",
   "execution_count": 10,
   "id": "57a5992c",
   "metadata": {},
   "outputs": [
    {
     "name": "stdout",
     "output_type": "stream",
     "text": [
      "625/625 [==============================] - 5s 5ms/step - loss: 1.1412 - accuracy: 0.8093\n"
     ]
    },
    {
     "data": {
      "text/plain": [
       "[1.1412358283996582, 0.8093000054359436]"
      ]
     },
     "execution_count": 10,
     "metadata": {},
     "output_type": "execute_result"
    }
   ],
   "source": [
    "model.evaluate(X_test,y_test)"
   ]
  },
  {
   "cell_type": "code",
   "execution_count": 12,
   "id": "6da753bd",
   "metadata": {},
   "outputs": [],
   "source": [
    "from tensorflow.keras.applications import DenseNet121\n",
    "from tensorflow.keras.models import Sequential\n",
    "from tensorflow.keras.layers import Dense, Flatten\n",
    "\n",
    "base_model = DenseNet121(weights='imagenet', include_top=False, input_shape=(120, 120, 3))\n",
    "\n",
    "model = Sequential()\n",
    "model.add(base_model)\n",
    "model.add(Flatten())\n",
    "model.add(Dense(128, activation='relu'))\n",
    "model.add(Dense(2, activation='softmax'))\n",
    "\n",
    "# Freeze the layers of the pre-trained model\n",
    "base_model.trainable = False\n"
   ]
  },
  {
   "cell_type": "code",
   "execution_count": 14,
   "id": "91c2cae8",
   "metadata": {},
   "outputs": [],
   "source": [
    "model.compile(optimizer='adam', loss='sparse_categorical_crossentropy', metrics=['accuracy'])\n",
    "\n",
    "\n"
   ]
  },
  {
   "cell_type": "code",
   "execution_count": 15,
   "id": "bbc0769f",
   "metadata": {},
   "outputs": [
    {
     "name": "stdout",
     "output_type": "stream",
     "text": [
      "Epoch 1/10\n",
      "2500/2500 [==============================] - 44s 16ms/step - loss: 0.5486 - accuracy: 0.7330\n",
      "Epoch 2/10\n",
      "2500/2500 [==============================] - 38s 15ms/step - loss: 0.4647 - accuracy: 0.7821\n",
      "Epoch 3/10\n",
      "2500/2500 [==============================] - 38s 15ms/step - loss: 0.4316 - accuracy: 0.7983\n",
      "Epoch 4/10\n",
      "2500/2500 [==============================] - 38s 15ms/step - loss: 0.4036 - accuracy: 0.8153\n",
      "Epoch 5/10\n",
      "2500/2500 [==============================] - 38s 15ms/step - loss: 0.3818 - accuracy: 0.8310\n",
      "Epoch 6/10\n",
      "2500/2500 [==============================] - 38s 15ms/step - loss: 0.3602 - accuracy: 0.8408\n",
      "Epoch 7/10\n",
      "2500/2500 [==============================] - 38s 15ms/step - loss: 0.3395 - accuracy: 0.8494\n",
      "Epoch 8/10\n",
      "2500/2500 [==============================] - 38s 15ms/step - loss: 0.3194 - accuracy: 0.8579\n",
      "Epoch 9/10\n",
      "2500/2500 [==============================] - 39s 16ms/step - loss: 0.3009 - accuracy: 0.8655\n",
      "Epoch 10/10\n",
      "2500/2500 [==============================] - 45s 18ms/step - loss: 0.2871 - accuracy: 0.8742\n"
     ]
    },
    {
     "data": {
      "text/plain": [
       "<keras.callbacks.History at 0x22c8042f8e0>"
      ]
     },
     "execution_count": 15,
     "metadata": {},
     "output_type": "execute_result"
    }
   ],
   "source": [
    " \n",
    "# Train the model\n",
    "model.fit(X_train, y_train, epochs=10,batch_size = 8)\n"
   ]
  },
  {
   "cell_type": "code",
   "execution_count": 17,
   "id": "9a4b2700",
   "metadata": {},
   "outputs": [
    {
     "name": "stdout",
     "output_type": "stream",
     "text": [
      "100/100 [==============================] - 16s 135ms/step - loss: 0.4608 - accuracy: 0.8037\n"
     ]
    },
    {
     "data": {
      "text/plain": [
       "[0.4607810080051422, 0.8037499785423279]"
      ]
     },
     "execution_count": 17,
     "metadata": {},
     "output_type": "execute_result"
    }
   ],
   "source": [
    "model.evaluate(X_test,y_test,steps=100)"
   ]
  },
  {
   "cell_type": "code",
   "execution_count": null,
   "id": "301330a3",
   "metadata": {},
   "outputs": [],
   "source": []
  }
 ],
 "metadata": {
  "kernelspec": {
   "display_name": "Python 3 (ipykernel)",
   "language": "python",
   "name": "python3"
  },
  "language_info": {
   "codemirror_mode": {
    "name": "ipython",
    "version": 3
   },
   "file_extension": ".py",
   "mimetype": "text/x-python",
   "name": "python",
   "nbconvert_exporter": "python",
   "pygments_lexer": "ipython3",
   "version": "3.10.9"
  }
 },
 "nbformat": 4,
 "nbformat_minor": 5
}
