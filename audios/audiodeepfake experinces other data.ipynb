{
 "cells": [
  {
   "cell_type": "code",
   "execution_count": 1,
   "id": "3c821b79",
   "metadata": {},
   "outputs": [],
   "source": [
    "data_path=\"DeepFake Audio\""
   ]
  },
  {
   "cell_type": "code",
   "execution_count": 2,
   "id": "e7c644db",
   "metadata": {},
   "outputs": [],
   "source": [
    "import os"
   ]
  },
  {
   "cell_type": "code",
   "execution_count": 3,
   "id": "e462032a",
   "metadata": {},
   "outputs": [],
   "source": [
    "def extract_features(file_path, mfcc=True, chroma=True, mel=True):\n",
    "    audio, sample_rate = librosa.load(file_path, res_type='kaiser_fast')\n",
    "    features = []\n",
    "    if mfcc:\n",
    "        mfccs = np.mean(librosa.feature.mfcc(y=audio, sr=sample_rate, n_mfcc=13), axis=1)\n",
    "        features.extend(mfccs)\n",
    "    if chroma:\n",
    "        chroma = np.mean(librosa.feature.chroma_stft(y=audio, sr=sample_rate), axis=1)\n",
    "        features.extend(chroma)\n",
    "    if mel:\n",
    "        mel = np.mean(librosa.feature.melspectrogram(y=audio, sr=sample_rate), axis=1)\n",
    "        features.extend(mel)\n",
    "    return features"
   ]
  },
  {
   "cell_type": "code",
   "execution_count": 4,
   "id": "503e54f0",
   "metadata": {},
   "outputs": [],
   "source": [
    "import librosa\n",
    "import numpy as np"
   ]
  },
  {
   "cell_type": "code",
   "execution_count": 5,
   "id": "bab680bc",
   "metadata": {},
   "outputs": [],
   "source": [
    "def preprocess_dataset(data_path, labels):\n",
    "    X = []\n",
    "    y = []\n",
    "    for label, folder in enumerate(labels):\n",
    "        for filename in os.listdir(os.path.join(data_path, folder)):\n",
    "            file_path = os.path.join(data_path, folder, filename)\n",
    "            features = extract_features(file_path)\n",
    "            X.append(features)\n",
    "            y.append(label)\n",
    "    return np.array(X), np.array(y)"
   ]
  },
  {
   "cell_type": "code",
   "execution_count": 6,
   "id": "05b1fde2",
   "metadata": {},
   "outputs": [],
   "source": [
    "labels = [\"fake\", \"real\"]"
   ]
  },
  {
   "cell_type": "code",
   "execution_count": 7,
   "id": "c882415f",
   "metadata": {},
   "outputs": [],
   "source": [
    "X, y = preprocess_dataset(data_path, labels)"
   ]
  },
  {
   "cell_type": "code",
   "execution_count": 8,
   "id": "ffce417c",
   "metadata": {},
   "outputs": [
    {
     "data": {
      "text/plain": [
       "array([0, 0, 0, ..., 1, 1, 1])"
      ]
     },
     "execution_count": 8,
     "metadata": {},
     "output_type": "execute_result"
    }
   ],
   "source": [
    "y"
   ]
  },
  {
   "cell_type": "code",
   "execution_count": 9,
   "id": "92097e26",
   "metadata": {},
   "outputs": [],
   "source": [
    "from sklearn.model_selection import train_test_split"
   ]
  },
  {
   "cell_type": "code",
   "execution_count": 10,
   "id": "2b5c4c3c",
   "metadata": {},
   "outputs": [],
   "source": [
    "X_train, X_test, y_train, y_test = train_test_split(X, y, test_size=0.2, random_state=42)"
   ]
  },
  {
   "cell_type": "code",
   "execution_count": 11,
   "id": "0e05d96d",
   "metadata": {},
   "outputs": [],
   "source": [
    "from tensorflow.keras.models import Model,Sequential\n",
    "from tensorflow.keras.layers import Input, Dense,Conv1D,MaxPool1D"
   ]
  },
  {
   "cell_type": "code",
   "execution_count": 12,
   "id": "d56f423f",
   "metadata": {},
   "outputs": [],
   "source": [
    "import tensorflow as tf"
   ]
  },
  {
   "cell_type": "code",
   "execution_count": 13,
   "id": "9a572ec0",
   "metadata": {},
   "outputs": [],
   "source": [
    "model1 = tf.keras.Sequential([\n",
    "    tf.keras.layers.LSTM(64, input_shape=(X_train.shape[1], 1))\n",
    "    ,\n",
    "   \n",
    "    tf.keras.layers.Dense(1, activation='sigmoid', kernel_regularizer='l1')\n",
    "])"
   ]
  },
  {
   "cell_type": "code",
   "execution_count": 14,
   "id": "ac85c820",
   "metadata": {},
   "outputs": [],
   "source": [
    "model1.compile(optimizer='adam', loss='binary_crossentropy', metrics=['accuracy'])\n"
   ]
  },
  {
   "cell_type": "code",
   "execution_count": 15,
   "id": "c375e5bd",
   "metadata": {},
   "outputs": [
    {
     "name": "stdout",
     "output_type": "stream",
     "text": [
      "Epoch 1/10\n",
      "122/122 [==============================] - 6s 10ms/step - loss: 0.6300 - accuracy: 0.6975\n",
      "Epoch 2/10\n",
      "122/122 [==============================] - 1s 10ms/step - loss: 0.5084 - accuracy: 0.8044\n",
      "Epoch 3/10\n",
      "122/122 [==============================] - 1s 10ms/step - loss: 0.4875 - accuracy: 0.8083\n",
      "Epoch 4/10\n",
      "122/122 [==============================] - 1s 10ms/step - loss: 0.3996 - accuracy: 0.8652\n",
      "Epoch 5/10\n",
      "122/122 [==============================] - 1s 10ms/step - loss: 0.3363 - accuracy: 0.9018\n",
      "Epoch 6/10\n",
      "122/122 [==============================] - 1s 10ms/step - loss: 0.3087 - accuracy: 0.9103\n",
      "Epoch 7/10\n",
      "122/122 [==============================] - 1s 10ms/step - loss: 0.2940 - accuracy: 0.9168\n",
      "Epoch 8/10\n",
      "122/122 [==============================] - 1s 10ms/step - loss: 0.3003 - accuracy: 0.9106\n",
      "Epoch 9/10\n",
      "122/122 [==============================] - 1s 10ms/step - loss: 0.2822 - accuracy: 0.9212\n",
      "Epoch 10/10\n",
      "122/122 [==============================] - 1s 10ms/step - loss: 0.2925 - accuracy: 0.9150\n"
     ]
    },
    {
     "data": {
      "text/plain": [
       "<keras.callbacks.History at 0x1c77ab9dea0>"
      ]
     },
     "execution_count": 15,
     "metadata": {},
     "output_type": "execute_result"
    }
   ],
   "source": [
    "model1.fit(X_train, y_train, epochs=10, batch_size=32, )"
   ]
  },
  {
   "cell_type": "code",
   "execution_count": 16,
   "id": "fc969f5c",
   "metadata": {},
   "outputs": [
    {
     "name": "stdout",
     "output_type": "stream",
     "text": [
      "Epoch 1/20\n",
      "122/122 [==============================] - 1s 11ms/step - loss: 0.2896 - accuracy: 0.9183\n",
      "Epoch 2/20\n",
      "122/122 [==============================] - 1s 10ms/step - loss: 0.2643 - accuracy: 0.9266\n",
      "Epoch 3/20\n",
      "122/122 [==============================] - 1s 10ms/step - loss: 0.2590 - accuracy: 0.9302\n",
      "Epoch 4/20\n",
      "122/122 [==============================] - 1s 10ms/step - loss: 0.2532 - accuracy: 0.9330\n",
      "Epoch 5/20\n",
      "122/122 [==============================] - 1s 10ms/step - loss: 0.2544 - accuracy: 0.9317\n",
      "Epoch 6/20\n",
      "122/122 [==============================] - 1s 10ms/step - loss: 0.2533 - accuracy: 0.9312\n",
      "Epoch 7/20\n",
      "122/122 [==============================] - 1s 10ms/step - loss: 0.2557 - accuracy: 0.9312\n",
      "Epoch 8/20\n",
      "122/122 [==============================] - 1s 10ms/step - loss: 0.2404 - accuracy: 0.9358\n",
      "Epoch 9/20\n",
      "122/122 [==============================] - 1s 10ms/step - loss: 0.2360 - accuracy: 0.9356\n",
      "Epoch 10/20\n",
      "122/122 [==============================] - 1s 10ms/step - loss: 0.3307 - accuracy: 0.8895\n",
      "Epoch 11/20\n",
      "122/122 [==============================] - 1s 10ms/step - loss: 0.2839 - accuracy: 0.9175\n",
      "Epoch 12/20\n",
      "122/122 [==============================] - 1s 10ms/step - loss: 0.2406 - accuracy: 0.9361\n",
      "Epoch 13/20\n",
      "122/122 [==============================] - 1s 10ms/step - loss: 0.2521 - accuracy: 0.9284\n",
      "Epoch 14/20\n",
      "122/122 [==============================] - 1s 10ms/step - loss: 0.2450 - accuracy: 0.9302\n",
      "Epoch 15/20\n",
      "122/122 [==============================] - 1s 10ms/step - loss: 0.2190 - accuracy: 0.9413\n",
      "Epoch 16/20\n",
      "122/122 [==============================] - 1s 10ms/step - loss: 0.2076 - accuracy: 0.9456\n",
      "Epoch 17/20\n",
      "122/122 [==============================] - 1s 10ms/step - loss: 0.2321 - accuracy: 0.9394\n",
      "Epoch 18/20\n",
      "122/122 [==============================] - 1s 10ms/step - loss: 0.1420 - accuracy: 0.9745\n",
      "Epoch 19/20\n",
      "122/122 [==============================] - 1s 10ms/step - loss: 0.1161 - accuracy: 0.9840\n",
      "Epoch 20/20\n",
      "122/122 [==============================] - 1s 10ms/step - loss: 0.1317 - accuracy: 0.9778\n"
     ]
    },
    {
     "data": {
      "text/plain": [
       "<keras.callbacks.History at 0x1c76a7a7430>"
      ]
     },
     "execution_count": 16,
     "metadata": {},
     "output_type": "execute_result"
    }
   ],
   "source": [
    "model1.fit(X_train, y_train, epochs=20, batch_size=32, )"
   ]
  },
  {
   "cell_type": "code",
   "execution_count": 17,
   "id": "c200322f",
   "metadata": {},
   "outputs": [
    {
     "name": "stdout",
     "output_type": "stream",
     "text": [
      "Epoch 1/2\n",
      "122/122 [==============================] - 1s 11ms/step - loss: 0.1090 - accuracy: 0.9851\n",
      "Epoch 2/2\n",
      "122/122 [==============================] - 1s 10ms/step - loss: 0.1014 - accuracy: 0.9874\n"
     ]
    },
    {
     "data": {
      "text/plain": [
       "<keras.callbacks.History at 0x1c76a7b75e0>"
      ]
     },
     "execution_count": 17,
     "metadata": {},
     "output_type": "execute_result"
    }
   ],
   "source": [
    "model1.fit(X_train, y_train, epochs=2, batch_size=32, )"
   ]
  },
  {
   "cell_type": "code",
   "execution_count": 18,
   "id": "0cf02b81",
   "metadata": {},
   "outputs": [
    {
     "name": "stdout",
     "output_type": "stream",
     "text": [
      "31/31 [==============================] - 1s 10ms/step - loss: 0.0921 - accuracy: 0.9928\n"
     ]
    },
    {
     "data": {
      "text/plain": [
       "[0.09205028414726257, 0.992790937423706]"
      ]
     },
     "execution_count": 18,
     "metadata": {},
     "output_type": "execute_result"
    }
   ],
   "source": [
    "model1.evaluate(X_test,y_test)"
   ]
  },
  {
   "cell_type": "code",
   "execution_count": 19,
   "id": "070d5de1",
   "metadata": {},
   "outputs": [],
   "source": [
    "model1.save('Deepfakeaudio99%ffit.h5')"
   ]
  },
  {
   "cell_type": "code",
   "execution_count": 103,
   "id": "bb5b0152",
   "metadata": {},
   "outputs": [],
   "source": [
    "file_path = 'voice5.mp3'\n",
    "audio_features = extract_features(file_path)"
   ]
  },
  {
   "cell_type": "code",
   "execution_count": 104,
   "id": "dff96951",
   "metadata": {},
   "outputs": [],
   "source": [
    "X_array = np.array(audio_features)"
   ]
  },
  {
   "cell_type": "code",
   "execution_count": 105,
   "id": "9f3a3a90",
   "metadata": {},
   "outputs": [],
   "source": [
    "X_reshaped = X_array.reshape(1, -1)"
   ]
  },
  {
   "cell_type": "code",
   "execution_count": 106,
   "id": "fb261ae1",
   "metadata": {},
   "outputs": [
    {
     "name": "stdout",
     "output_type": "stream",
     "text": [
      "1/1 [==============================] - 0s 14ms/step\n"
     ]
    }
   ],
   "source": [
    "y_pred=model1.predict(X_reshaped)"
   ]
  },
  {
   "cell_type": "code",
   "execution_count": 107,
   "id": "cda9b5f1",
   "metadata": {},
   "outputs": [
    {
     "data": {
      "text/plain": [
       "array([[0.02246037]], dtype=float32)"
      ]
     },
     "execution_count": 107,
     "metadata": {},
     "output_type": "execute_result"
    }
   ],
   "source": [
    "y_pred"
   ]
  },
  {
   "cell_type": "code",
   "execution_count": 108,
   "id": "e43f5749",
   "metadata": {},
   "outputs": [
    {
     "name": "stdout",
     "output_type": "stream",
     "text": [
      "Predicted class: machine generated voice [[0.02246037]]\n"
     ]
    }
   ],
   "source": [
    "if y_pred > 0.5:\n",
    "    predicted_class = 'human voice'\n",
    "else:\n",
    "    predicted_class = 'machine generated voice'\n",
    "\n",
    "# Print the predicted class\n",
    "print('Predicted class:', predicted_class,y_pred)"
   ]
  },
  {
   "cell_type": "code",
   "execution_count": 87,
   "id": "9be16892",
   "metadata": {},
   "outputs": [
    {
     "name": "stdout",
     "output_type": "stream",
     "text": [
      "31/31 [==============================] - 0s 10ms/step\n",
      "Confusion Matrix:\n",
      "[[506   3]\n",
      " [  4 458]]\n",
      "Classification Report:\n",
      "              precision    recall  f1-score   support\n",
      "\n",
      "           0       0.99      0.99      0.99       509\n",
      "           1       0.99      0.99      0.99       462\n",
      "\n",
      "    accuracy                           0.99       971\n",
      "   macro avg       0.99      0.99      0.99       971\n",
      "weighted avg       0.99      0.99      0.99       971\n",
      "\n"
     ]
    }
   ],
   "source": [
    "from sklearn.metrics import confusion_matrix, classification_report\n",
    "\n",
    "# Make predictions on the test set\n",
    "y_pred1 = model1.predict(X_test)\n",
    "\n",
    "# Convert probabilities to class labels\n",
    "y_pred_classes = (y_pred1 > 0.5).astype(int)\n",
    "\n",
    "# Create a confusion matrix\n",
    "conf_matrix = confusion_matrix(y_test, y_pred_classes)\n",
    "\n",
    "print(\"Confusion Matrix:\")\n",
    "print(conf_matrix)\n",
    "\n",
    "# Generate a classification report\n",
    "print(\"Classification Report:\")\n",
    "print(classification_report(y_test, y_pred_classes))\n"
   ]
  },
  {
   "cell_type": "code",
   "execution_count": null,
   "id": "6d6b3d61",
   "metadata": {},
   "outputs": [],
   "source": []
  }
 ],
 "metadata": {
  "kernelspec": {
   "display_name": "Python 3 (ipykernel)",
   "language": "python",
   "name": "python3"
  },
  "language_info": {
   "codemirror_mode": {
    "name": "ipython",
    "version": 3
   },
   "file_extension": ".py",
   "mimetype": "text/x-python",
   "name": "python",
   "nbconvert_exporter": "python",
   "pygments_lexer": "ipython3",
   "version": "3.10.9"
  }
 },
 "nbformat": 4,
 "nbformat_minor": 5
}
