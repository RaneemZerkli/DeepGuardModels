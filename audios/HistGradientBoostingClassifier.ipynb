{
  "cells": [
    {
      "cell_type": "code",
      "execution_count": null,
      "metadata": {
        "colab": {
          "base_uri": "https://localhost:8080/"
        },
        "id": "VhlPnP9D8pwZ",
        "outputId": "ed3e0290-a57e-46ad-b983-16ad525f2f0c"
      },
      "outputs": [
        {
          "output_type": "stream",
          "name": "stdout",
          "text": [
            "   chroma_stft       rms  spectral_centroid  spectral_bandwidth      rolloff  \\\n",
            "0     0.338055  0.027948        2842.948867         4322.916759  6570.586186   \n",
            "1     0.443766  0.037838        2336.129597         3445.777044  3764.949874   \n",
            "2     0.302528  0.056578        2692.988386         2861.133180  4716.610271   \n",
            "3     0.319933  0.031504        2241.665382         3503.766175  3798.641521   \n",
            "4     0.420055  0.016158        2526.069123         3102.659519  5025.077899   \n",
            "5     0.442880  0.012317        3952.880304         3702.717829  7104.089991   \n",
            "6     0.453897  0.021782        4178.072150         3698.644769  7508.242075   \n",
            "7     0.474154  0.011107        3993.039753         3948.154333  7872.563956   \n",
            "8     0.602690  0.000970        3815.431438         3992.517515  6887.564689   \n",
            "9     0.453962  0.017612        2894.560788         3435.434131  5663.232422   \n",
            "\n",
            "   zero_crossing_rate       mfcc1       mfcc2      mfcc3      mfcc4  ...  \\\n",
            "0            0.041050 -462.169586   90.311272  19.073769  24.046888  ...   \n",
            "1            0.047730 -409.413422  120.348808  -7.161531   5.114784  ...   \n",
            "2            0.080342 -318.996033  120.490273 -24.625771  23.891073  ...   \n",
            "3            0.047180 -404.636749  136.320908   2.308172  -3.907071  ...   \n",
            "4            0.051905 -410.497925  152.731400 -18.266771  51.993462  ...   \n",
            "5            0.115387 -498.179657   97.245255 -21.382017  45.624386  ...   \n",
            "6            0.131647 -410.383087   97.026733 -22.508402  49.689598  ...   \n",
            "7            0.114879 -440.818970  103.029533 -21.213911  49.066498  ...   \n",
            "8            0.121769 -539.965088   94.811630 -51.388660  33.196476  ...   \n",
            "9            0.065904 -403.053009  138.079620 -20.038134  39.301231  ...   \n",
            "\n",
            "      mfcc11    mfcc12     mfcc13    mfcc14    mfcc15    mfcc16    mfcc17  \\\n",
            "0 -14.181895 -6.686564   0.902086 -7.251551 -1.198342  4.747403 -4.986279   \n",
            "1   0.372541 -2.131157  -6.876417 -1.359395  0.326401 -5.420016 -2.109968   \n",
            "2  -3.099179 -5.853725  -3.724773 -6.627182 -5.117002 -6.072106 -0.994653   \n",
            "3   1.513633 -1.898315  -2.046493 -7.176277 -3.293508  4.209121  0.121835   \n",
            "4  11.086248 -1.952340   0.810868  6.238493  6.555839  7.535542  2.849219   \n",
            "5   1.654981 -6.466366   2.856888 -0.157036 -2.824058  0.383832 -1.089466   \n",
            "6  -8.828218 -5.320498  -4.209944 -2.051953 -0.714617 -7.889741 -0.377954   \n",
            "7  -5.966704  2.810230  -2.150585 -1.529685  3.354003 -6.589828  5.678379   \n",
            "8   9.036678 -1.619109  10.417936 -9.675606 -0.937404  0.909395  4.827445   \n",
            "9  -8.098880  0.496345  -0.003924  0.801856  3.294856 -5.852333 -1.849402   \n",
            "\n",
            "     mfcc18    mfcc19     mfcc20  \n",
            "0  0.953935 -5.013138  -6.779060  \n",
            "1 -1.757634 -9.537907  -8.494421  \n",
            "2 -1.617120 -3.922354  -7.033001  \n",
            "3 -5.407063 -3.654926  -3.274857  \n",
            "4  2.616843 -1.793357  -5.060998  \n",
            "5  2.998828 -5.218136  -1.423959  \n",
            "6 -8.421499 -5.800948 -12.060839  \n",
            "7 -2.742477 -5.159016 -10.969421  \n",
            "8  5.055848 -3.618021   5.053717  \n",
            "9 -7.108891 -0.818681  -7.824217  \n",
            "\n",
            "[10 rows x 26 columns]\n",
            "0    FAKE\n",
            "1    FAKE\n",
            "2    FAKE\n",
            "3    FAKE\n",
            "4    FAKE\n",
            "5    FAKE\n",
            "6    FAKE\n",
            "7    FAKE\n",
            "8    FAKE\n",
            "9    FAKE\n",
            "Name: LABEL, dtype: object\n"
          ]
        }
      ],
      "source": [
        "import pandas as pd\n",
        "\n",
        "df = pd.read_csv(\"DATASET-balanced.csv\")\n",
        "\n",
        "X = df.iloc[:,:-1]\n",
        "y = df.iloc[:,-1]\n",
        "\n",
        "print(X.head(10))\n",
        "print(y.head(10))"
      ]
    },
    {
      "cell_type": "code",
      "execution_count": null,
      "metadata": {
        "colab": {
          "base_uri": "https://localhost:8080/"
        },
        "id": "VORxyrd-DBM7",
        "outputId": "6d86f371-c07f-4a26-ad3c-264ff5cc4342"
      },
      "outputs": [
        {
          "output_type": "stream",
          "name": "stdout",
          "text": [
            "[0 0 0 ... 1 1 1]\n"
          ]
        }
      ],
      "source": [
        "from sklearn import preprocessing\n",
        "lb = preprocessing.LabelBinarizer()\n",
        "lb.fit(y)\n",
        "y = lb.transform(y)\n",
        "y = y.ravel()\n",
        "print(y)"
      ]
    },
    {
      "cell_type": "code",
      "execution_count": null,
      "metadata": {
        "colab": {
          "base_uri": "https://localhost:8080/"
        },
        "id": "1S5Ia23oKTHr",
        "outputId": "a8552758-2196-4b2d-9c04-f792417464f1"
      },
      "outputs": [
        {
          "name": "stdout",
          "output_type": "stream",
          "text": [
            "KNeighborsClassifier(leaf_size=35, n_neighbors=15)\n",
            "KFold splits: 5\n"
          ]
        }
      ],
      "source": [
        "#from sklearn.neighbors import KNeighborsClassifier\n",
        "#model = KNeighborsClassifier(leaf_size=35 ,n_neighbors=15)\n",
        "\n",
        "\n",
        "#from sklearn.model_selection import KFold\n",
        "#kf = KFold(n_splits=5,  shuffle=True, random_state=1)\n",
        "\n",
        "#print(model)\n",
        "#print(\"KFold splits: \" + str(kf.get_n_splits(X)))"
      ]
    },
    {
      "cell_type": "code",
      "execution_count": null,
      "metadata": {
        "colab": {
          "base_uri": "https://localhost:8080/"
        },
        "id": "BPsTQuWENR3U",
        "outputId": "12e2c166-385b-4cee-a231-a82feb1dfa46"
      },
      "outputs": [
        {
          "output_type": "stream",
          "name": "stdout",
          "text": [
            "HistGradientBoostingClassifier(max_depth=5, min_samples_leaf=2)\n",
            "KFold splits: 5\n"
          ]
        }
      ],
      "source": [
        "#from sklearn.svm import SVC\n",
        "\n",
        "# إنشاء النموذج\n",
        "#model = SVC(kernel='rbf',C=60,degree=2)\n",
        "#from sklearn.linear_model import LogisticRegression\n",
        "\n",
        "# إنشاء النموذج\n",
        "#model = LogisticRegression()\n",
        "#from sklearn.tree import DecisionTreeClassifier\n",
        "\n",
        "# إنشاء النموذج\n",
        "#model = DecisionTreeClassifier()\n",
        "#from sklearn.ensemble import GradientBoostingClassifier\n",
        "# إنشاء النموذج\n",
        "#model = GradientBoostingClassifier()\n",
        "#from sklearn.linear_model import SGDClassifier\n",
        "#model= SGDClassifier()\n",
        "from sklearn.ensemble import HistGradientBoostingClassifier\n",
        "model = HistGradientBoostingClassifier(max_depth=5,min_samples_leaf=2)\n",
        "from sklearn.model_selection import KFold\n",
        "kf = KFold(n_splits=5,  shuffle=True, random_state=1)\n",
        "\n",
        "print(model)\n",
        "print(\"KFold splits: \" + str(kf.get_n_splits(X)))"
      ]
    },
    {
      "cell_type": "code",
      "source": [
        "HistGradientBoostingClassifier?"
      ],
      "metadata": {
        "id": "WgAmJ6_Fek2P"
      },
      "execution_count": null,
      "outputs": []
    },
    {
      "cell_type": "code",
      "execution_count": null,
      "metadata": {
        "colab": {
          "base_uri": "https://localhost:8080/"
        },
        "id": "DCCZq1KyKgWH",
        "outputId": "82384d90-896b-4d38-e4e8-5f0a61fb994e"
      },
      "outputs": [
        {
          "output_type": "stream",
          "name": "stdout",
          "text": [
            "Model trained in: 3.38 seconds.\n"
          ]
        }
      ],
      "source": [
        "\n",
        "import time\n",
        "\n",
        "import numpy as np\n",
        "\n",
        "from sklearn.metrics import accuracy_score, precision_score, recall_score, f1_score, matthews_corrcoef, roc_auc_score\n",
        "\n",
        "acc_score = []\n",
        "prec_score = []\n",
        "rec_score = []\n",
        "f1s = []\n",
        "MCCs = []\n",
        "ROCareas = []\n",
        "acc_train=[]\n",
        "acc_test=[]\n",
        "start = time.time()\n",
        "for train_index , test_index in kf.split(X):\n",
        "    X_train , X_test = X.iloc[train_index,:],X.iloc[test_index,:]\n",
        "    y_train , y_test = y[train_index] , y[test_index]\n",
        "\n",
        "    model.fit(X_train,y_train)\n",
        "    pred_values = model.predict(X_test)\n",
        "\n",
        "    acc = accuracy_score(pred_values , y_test)\n",
        "    acc_score.append(acc)\n",
        "    acctrain=model.score(X_train,y_train)\n",
        "    acc_train.append(acctrain)\n",
        "    acctest=model.score(X_test,y_test)\n",
        "    acc_test.append(acctest)\n",
        "    prec = precision_score(y_test , pred_values, average=\"binary\", pos_label=1)\n",
        "    prec_score.append(prec)\n",
        "\n",
        "    rec = recall_score(y_test , pred_values, average=\"binary\", pos_label=1)\n",
        "    rec_score.append(rec)\n",
        "\n",
        "    f1 = f1_score(y_test , pred_values, average=\"binary\", pos_label=1)\n",
        "    f1s.append(f1)\n",
        "\n",
        "    mcc = matthews_corrcoef(y_test , pred_values)\n",
        "    MCCs.append(mcc)\n",
        "\n",
        "    roc = roc_auc_score(y_test , pred_values)\n",
        "    ROCareas.append(roc)\n",
        "\n",
        "end = time.time()\n",
        "timeTaken = (end - start)\n",
        "print(\"Model trained in: \" + str( round(timeTaken, 2) ) + \" seconds.\")"
      ]
    },
    {
      "cell_type": "code",
      "execution_count": null,
      "metadata": {
        "colab": {
          "base_uri": "https://localhost:8080/"
        },
        "id": "u56RmxI3Kk_N",
        "outputId": "68645551-41c8-4df0-9608-33da742e568a"
      },
      "outputs": [
        {
          "output_type": "stream",
          "name": "stdout",
          "text": [
            "Mean results and (std.):\n",
            "\n",
            "Accuracy: 98.523% (0.287)\n",
            "\n",
            "Precision: 0.99 (0.005)\n",
            "Recall: 0.98 (0.004)\n",
            "F1-Score: 0.985 (0.003)\n",
            "MCC: 0.971 (0.006)\n",
            "ROC AUC: 0.985 (0.003)\n",
            "[0.9984079813203142, 0.9987263850562513, 0.9987263850562513, 0.999151013477661, 0.9989387668470763]\n",
            "[0.9859932088285229, 0.9876910016977929, 0.980899830220713, 0.9830148619957537, 0.9885350318471338]\n"
          ]
        }
      ],
      "source": [
        "print(\"Mean results and (std.):\\n\")\n",
        "print(\"Accuracy: \" + str( round(np.mean(acc_score)*100, 3) ) + \"% (\" + str( round(np.std(acc_score)*100, 3) ) + \")\\n\")\n",
        "print(\"Precision: \" + str( round(np.mean(prec_score), 3) ) + \" (\" + str( round(np.std(prec_score), 3) ) + \")\")\n",
        "print(\"Recall: \" + str( round(np.mean(rec_score), 3) ) + \" (\" + str( round(np.std(rec_score), 3) ) + \")\")\n",
        "print(\"F1-Score: \" + str( round(np.mean(f1s), 3) ) + \" (\" + str( round(np.std(f1s), 3) ) + \")\")\n",
        "print(\"MCC: \" + str( round(np.mean(MCCs), 3) ) + \" (\" + str( round(np.std(MCCs), 3) ) + \")\")\n",
        "print(\"ROC AUC: \" + str( round(np.mean(ROCareas), 3) ) + \" (\" + str( round(np.std(ROCareas), 3) ) + \")\")\n",
        "print(acc_train)\n",
        "print(acc_test)"
      ]
    },
    {
      "cell_type": "code",
      "execution_count": null,
      "metadata": {
        "id": "WYcFAM1uKowq"
      },
      "outputs": [],
      "source": [
        "import librosa\n",
        "import numpy as np\n",
        "\n",
        "\n",
        "def extract_features(audio_file):\n",
        "    y, sr = librosa.load(audio_file, sr=None)\n",
        "    chroma_stft = librosa.feature.chroma_stft(y=y, sr=sr,n_chroma=12)\n",
        "    chroma_stft = chroma_stft[:1]\n",
        "    rms = librosa.feature.rms(y=y)\n",
        "    spectral_centroid = librosa.feature.spectral_centroid(y=y, sr=sr)\n",
        "    spectral_bandwidth = librosa.feature.spectral_bandwidth(y=y, sr=sr)\n",
        "    rolloff = librosa.feature.spectral_rolloff(y=y, sr=sr)\n",
        "    zero_crossing_rate = librosa.feature.zero_crossing_rate(y)\n",
        "    mfccs = librosa.feature.mfcc(y=y, sr=sr,n_mfcc=20 )\n",
        "\n",
        "    # Concatenate features along the correct axis\n",
        "    features = np.concatenate([chroma_stft, rms, spectral_centroid, spectral_bandwidth, rolloff, zero_crossing_rate,mfccs], axis=0)\n",
        "\n",
        "    # Take the mean along the feature axis\n",
        "    features = np.mean(features, axis=1)\n",
        "\n",
        "    return features"
      ]
    },
    {
      "cell_type": "code",
      "source": [
        "!pip install moviepy"
      ],
      "metadata": {
        "colab": {
          "base_uri": "https://localhost:8080/"
        },
        "id": "lc7TQp5D0j5A",
        "outputId": "87cf503e-acbf-465b-9653-79e8cd6de491"
      },
      "execution_count": null,
      "outputs": [
        {
          "output_type": "stream",
          "name": "stdout",
          "text": [
            "Requirement already satisfied: moviepy in /usr/local/lib/python3.10/dist-packages (1.0.3)\n",
            "Requirement already satisfied: decorator<5.0,>=4.0.2 in /usr/local/lib/python3.10/dist-packages (from moviepy) (4.4.2)\n",
            "Requirement already satisfied: tqdm<5.0,>=4.11.2 in /usr/local/lib/python3.10/dist-packages (from moviepy) (4.66.1)\n",
            "Requirement already satisfied: requests<3.0,>=2.8.1 in /usr/local/lib/python3.10/dist-packages (from moviepy) (2.31.0)\n",
            "Requirement already satisfied: proglog<=1.0.0 in /usr/local/lib/python3.10/dist-packages (from moviepy) (0.1.10)\n",
            "Requirement already satisfied: numpy>=1.17.3 in /usr/local/lib/python3.10/dist-packages (from moviepy) (1.23.5)\n",
            "Requirement already satisfied: imageio<3.0,>=2.5 in /usr/local/lib/python3.10/dist-packages (from moviepy) (2.31.6)\n",
            "Requirement already satisfied: imageio-ffmpeg>=0.2.0 in /usr/local/lib/python3.10/dist-packages (from moviepy) (0.4.9)\n",
            "Requirement already satisfied: pillow<10.1.0,>=8.3.2 in /usr/local/lib/python3.10/dist-packages (from imageio<3.0,>=2.5->moviepy) (9.4.0)\n",
            "Requirement already satisfied: setuptools in /usr/local/lib/python3.10/dist-packages (from imageio-ffmpeg>=0.2.0->moviepy) (67.7.2)\n",
            "Requirement already satisfied: charset-normalizer<4,>=2 in /usr/local/lib/python3.10/dist-packages (from requests<3.0,>=2.8.1->moviepy) (3.3.2)\n",
            "Requirement already satisfied: idna<4,>=2.5 in /usr/local/lib/python3.10/dist-packages (from requests<3.0,>=2.8.1->moviepy) (3.6)\n",
            "Requirement already satisfied: urllib3<3,>=1.21.1 in /usr/local/lib/python3.10/dist-packages (from requests<3.0,>=2.8.1->moviepy) (2.0.7)\n",
            "Requirement already satisfied: certifi>=2017.4.17 in /usr/local/lib/python3.10/dist-packages (from requests<3.0,>=2.8.1->moviepy) (2023.11.17)\n"
          ]
        }
      ]
    },
    {
      "cell_type": "code",
      "source": [
        "from moviepy.editor import VideoFileClip\n",
        "\n",
        "def convert_mp4_to_mp3(input_file, output_file):\n",
        "    # Load the video clip\n",
        "    video_clip = VideoFileClip(input_file)\n",
        "\n",
        "    # Extract audio from the video clip\n",
        "    audio_clip = video_clip.audio\n",
        "\n",
        "    # Save the audio clip as an MP3 file\n",
        "    audio_clip.write_audiofile(output_file)\n",
        "\n",
        "    # Close the video and audio clips\n",
        "    video_clip.close()\n",
        "    audio_clip.close()\n",
        "\n",
        "#if name == \"main\":\n",
        "    input_file_path = \"/content/video_2023-12-23_16-20-27.mp4\"  # Replace with the path to your input MP4 file\n",
        "    output_file_path = \"/content/output_audio2.mp3\"  # Replace with the desired output MP3 file path\n",
        "\n",
        "    convert_mp4_to_mp3(input_file_path, output_file_path)"
      ],
      "metadata": {
        "id": "K15KZbTAq8SI"
      },
      "execution_count": null,
      "outputs": []
    },
    {
      "cell_type": "code",
      "execution_count": null,
      "metadata": {
        "id": "kFKnQH5xKtu-"
      },
      "outputs": [],
      "source": [
        "extracted_features = extract_features('output_audio10.mp3')\n",
        "extracted_features = extracted_features.reshape(1, -1)"
      ]
    },
    {
      "cell_type": "code",
      "execution_count": null,
      "metadata": {
        "id": "sJOlpWNPKzHB",
        "colab": {
          "base_uri": "https://localhost:8080/"
        },
        "outputId": "0a45659c-8c70-425e-8c4a-db3bac82fe6a"
      },
      "outputs": [
        {
          "output_type": "execute_result",
          "data": {
            "text/plain": [
              "(1, 26)"
            ]
          },
          "metadata": {},
          "execution_count": 88
        }
      ],
      "source": [
        "extracted_features.shape"
      ]
    },
    {
      "cell_type": "code",
      "execution_count": null,
      "metadata": {
        "id": "CxvXMUHMK39n"
      },
      "outputs": [],
      "source": [
        "extracted_features_df = pd.DataFrame(extracted_features, columns=X_train.columns)"
      ]
    },
    {
      "cell_type": "code",
      "execution_count": null,
      "metadata": {
        "id": "tfHzthxnK6_f",
        "colab": {
          "base_uri": "https://localhost:8080/",
          "height": 130
        },
        "outputId": "770ffb9e-9240-49a5-be49-d2bba936b189"
      },
      "outputs": [
        {
          "output_type": "execute_result",
          "data": {
            "text/plain": [
              "   chroma_stft       rms  spectral_centroid  spectral_bandwidth      rolloff  \\\n",
              "0     0.515619  0.077948        1006.974668         1311.727349  1799.434952   \n",
              "\n",
              "   zero_crossing_rate       mfcc1       mfcc2      mfcc3     mfcc4  ...  \\\n",
              "0            0.025821 -307.386853  174.892614  22.935383  4.445701  ...   \n",
              "\n",
              "     mfcc11    mfcc12    mfcc13    mfcc14    mfcc15    mfcc16   mfcc17  \\\n",
              "0 -5.534829 -3.544725 -4.556477 -4.881964 -4.610014 -5.559209 -6.55907   \n",
              "\n",
              "     mfcc18    mfcc19    mfcc20  \n",
              "0 -5.169925 -2.462851 -2.129107  \n",
              "\n",
              "[1 rows x 26 columns]"
            ],
            "text/html": [
              "\n",
              "  <div id=\"df-f705e11d-5a5d-4d82-b1fa-223df9d47dfa\" class=\"colab-df-container\">\n",
              "    <div>\n",
              "<style scoped>\n",
              "    .dataframe tbody tr th:only-of-type {\n",
              "        vertical-align: middle;\n",
              "    }\n",
              "\n",
              "    .dataframe tbody tr th {\n",
              "        vertical-align: top;\n",
              "    }\n",
              "\n",
              "    .dataframe thead th {\n",
              "        text-align: right;\n",
              "    }\n",
              "</style>\n",
              "<table border=\"1\" class=\"dataframe\">\n",
              "  <thead>\n",
              "    <tr style=\"text-align: right;\">\n",
              "      <th></th>\n",
              "      <th>chroma_stft</th>\n",
              "      <th>rms</th>\n",
              "      <th>spectral_centroid</th>\n",
              "      <th>spectral_bandwidth</th>\n",
              "      <th>rolloff</th>\n",
              "      <th>zero_crossing_rate</th>\n",
              "      <th>mfcc1</th>\n",
              "      <th>mfcc2</th>\n",
              "      <th>mfcc3</th>\n",
              "      <th>mfcc4</th>\n",
              "      <th>...</th>\n",
              "      <th>mfcc11</th>\n",
              "      <th>mfcc12</th>\n",
              "      <th>mfcc13</th>\n",
              "      <th>mfcc14</th>\n",
              "      <th>mfcc15</th>\n",
              "      <th>mfcc16</th>\n",
              "      <th>mfcc17</th>\n",
              "      <th>mfcc18</th>\n",
              "      <th>mfcc19</th>\n",
              "      <th>mfcc20</th>\n",
              "    </tr>\n",
              "  </thead>\n",
              "  <tbody>\n",
              "    <tr>\n",
              "      <th>0</th>\n",
              "      <td>0.515619</td>\n",
              "      <td>0.077948</td>\n",
              "      <td>1006.974668</td>\n",
              "      <td>1311.727349</td>\n",
              "      <td>1799.434952</td>\n",
              "      <td>0.025821</td>\n",
              "      <td>-307.386853</td>\n",
              "      <td>174.892614</td>\n",
              "      <td>22.935383</td>\n",
              "      <td>4.445701</td>\n",
              "      <td>...</td>\n",
              "      <td>-5.534829</td>\n",
              "      <td>-3.544725</td>\n",
              "      <td>-4.556477</td>\n",
              "      <td>-4.881964</td>\n",
              "      <td>-4.610014</td>\n",
              "      <td>-5.559209</td>\n",
              "      <td>-6.55907</td>\n",
              "      <td>-5.169925</td>\n",
              "      <td>-2.462851</td>\n",
              "      <td>-2.129107</td>\n",
              "    </tr>\n",
              "  </tbody>\n",
              "</table>\n",
              "<p>1 rows × 26 columns</p>\n",
              "</div>\n",
              "    <div class=\"colab-df-buttons\">\n",
              "\n",
              "  <div class=\"colab-df-container\">\n",
              "    <button class=\"colab-df-convert\" onclick=\"convertToInteractive('df-f705e11d-5a5d-4d82-b1fa-223df9d47dfa')\"\n",
              "            title=\"Convert this dataframe to an interactive table.\"\n",
              "            style=\"display:none;\">\n",
              "\n",
              "  <svg xmlns=\"http://www.w3.org/2000/svg\" height=\"24px\" viewBox=\"0 -960 960 960\">\n",
              "    <path d=\"M120-120v-720h720v720H120Zm60-500h600v-160H180v160Zm220 220h160v-160H400v160Zm0 220h160v-160H400v160ZM180-400h160v-160H180v160Zm440 0h160v-160H620v160ZM180-180h160v-160H180v160Zm440 0h160v-160H620v160Z\"/>\n",
              "  </svg>\n",
              "    </button>\n",
              "\n",
              "  <style>\n",
              "    .colab-df-container {\n",
              "      display:flex;\n",
              "      gap: 12px;\n",
              "    }\n",
              "\n",
              "    .colab-df-convert {\n",
              "      background-color: #E8F0FE;\n",
              "      border: none;\n",
              "      border-radius: 50%;\n",
              "      cursor: pointer;\n",
              "      display: none;\n",
              "      fill: #1967D2;\n",
              "      height: 32px;\n",
              "      padding: 0 0 0 0;\n",
              "      width: 32px;\n",
              "    }\n",
              "\n",
              "    .colab-df-convert:hover {\n",
              "      background-color: #E2EBFA;\n",
              "      box-shadow: 0px 1px 2px rgba(60, 64, 67, 0.3), 0px 1px 3px 1px rgba(60, 64, 67, 0.15);\n",
              "      fill: #174EA6;\n",
              "    }\n",
              "\n",
              "    .colab-df-buttons div {\n",
              "      margin-bottom: 4px;\n",
              "    }\n",
              "\n",
              "    [theme=dark] .colab-df-convert {\n",
              "      background-color: #3B4455;\n",
              "      fill: #D2E3FC;\n",
              "    }\n",
              "\n",
              "    [theme=dark] .colab-df-convert:hover {\n",
              "      background-color: #434B5C;\n",
              "      box-shadow: 0px 1px 3px 1px rgba(0, 0, 0, 0.15);\n",
              "      filter: drop-shadow(0px 1px 2px rgba(0, 0, 0, 0.3));\n",
              "      fill: #FFFFFF;\n",
              "    }\n",
              "  </style>\n",
              "\n",
              "    <script>\n",
              "      const buttonEl =\n",
              "        document.querySelector('#df-f705e11d-5a5d-4d82-b1fa-223df9d47dfa button.colab-df-convert');\n",
              "      buttonEl.style.display =\n",
              "        google.colab.kernel.accessAllowed ? 'block' : 'none';\n",
              "\n",
              "      async function convertToInteractive(key) {\n",
              "        const element = document.querySelector('#df-f705e11d-5a5d-4d82-b1fa-223df9d47dfa');\n",
              "        const dataTable =\n",
              "          await google.colab.kernel.invokeFunction('convertToInteractive',\n",
              "                                                    [key], {});\n",
              "        if (!dataTable) return;\n",
              "\n",
              "        const docLinkHtml = 'Like what you see? Visit the ' +\n",
              "          '<a target=\"_blank\" href=https://colab.research.google.com/notebooks/data_table.ipynb>data table notebook</a>'\n",
              "          + ' to learn more about interactive tables.';\n",
              "        element.innerHTML = '';\n",
              "        dataTable['output_type'] = 'display_data';\n",
              "        await google.colab.output.renderOutput(dataTable, element);\n",
              "        const docLink = document.createElement('div');\n",
              "        docLink.innerHTML = docLinkHtml;\n",
              "        element.appendChild(docLink);\n",
              "      }\n",
              "    </script>\n",
              "  </div>\n",
              "\n",
              "    </div>\n",
              "  </div>\n"
            ]
          },
          "metadata": {},
          "execution_count": 90
        }
      ],
      "source": [
        "extracted_features_df"
      ]
    },
    {
      "cell_type": "code",
      "execution_count": null,
      "metadata": {
        "id": "qd_cktgiK-Tx"
      },
      "outputs": [],
      "source": [
        "prediction = model.predict(extracted_features_df)"
      ]
    },
    {
      "cell_type": "code",
      "execution_count": null,
      "metadata": {
        "id": "-v-MfOm3LADv",
        "colab": {
          "base_uri": "https://localhost:8080/"
        },
        "outputId": "42c0337e-a95b-4ffe-eab9-055a23a19e9c"
      },
      "outputs": [
        {
          "output_type": "execute_result",
          "data": {
            "text/plain": [
              "array(['REAL'], dtype='<U4')"
            ]
          },
          "metadata": {},
          "execution_count": 92
        }
      ],
      "source": [
        "lb.inverse_transform(prediction)"
      ]
    },
    {
      "cell_type": "code",
      "execution_count": null,
      "metadata": {
        "id": "YMKmoYT1LCmG",
        "colab": {
          "base_uri": "https://localhost:8080/"
        },
        "outputId": "2abcb3ad-0ca2-4ccc-f04b-6e31fe462f24"
      },
      "outputs": [
        {
          "output_type": "stream",
          "name": "stdout",
          "text": [
            "Confusion Matrix:\n",
            "[[1082   80]\n",
            " [  68 1125]]\n",
            "Classification Report:\n",
            "              precision    recall  f1-score   support\n",
            "\n",
            "           0       0.94      0.93      0.94      1162\n",
            "           1       0.93      0.94      0.94      1193\n",
            "\n",
            "    accuracy                           0.94      2355\n",
            "   macro avg       0.94      0.94      0.94      2355\n",
            "weighted avg       0.94      0.94      0.94      2355\n",
            "\n"
          ]
        }
      ],
      "source": [
        "from sklearn.metrics import confusion_matrix, classification_report\n",
        "\n",
        "# Make predictions on the test set\n",
        "y_pred1 = model.predict(X_test)\n",
        "\n",
        "# Convert probabilities to class labels\n",
        "y_pred_classes = (y_pred1 > 0.5).astype(int)\n",
        "\n",
        "# Create a confusion matrix\n",
        "conf_matrix = confusion_matrix(y_test, y_pred_classes)\n",
        "\n",
        "print(\"Confusion Matrix:\")\n",
        "print(conf_matrix)\n",
        "\n",
        "# Generate a classification report\n",
        "print(\"Classification Report:\")\n",
        "print(classification_report(y_test, y_pred_classes))\n"
      ]
    },
    {
      "cell_type": "code",
      "source": [],
      "metadata": {
        "id": "JrDY9EZSZ2F_"
      },
      "execution_count": null,
      "outputs": []
    }
  ],
  "metadata": {
    "colab": {
      "provenance": []
    },
    "kernelspec": {
      "display_name": "Python 3",
      "name": "python3"
    },
    "language_info": {
      "name": "python"
    }
  },
  "nbformat": 4,
  "nbformat_minor": 0
}