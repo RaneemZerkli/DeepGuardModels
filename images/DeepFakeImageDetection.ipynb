{
  "nbformat": 4,
  "nbformat_minor": 0,
  "metadata": {
    "colab": {
      "provenance": [],
      "gpuType": "T4"
    },
    "kernelspec": {
      "name": "python3",
      "display_name": "Python 3"
    },
    "language_info": {
      "name": "python"
    },
    "accelerator": "GPU"
  },
  "cells": [
    {
      "cell_type": "code",
      "execution_count": null,
      "metadata": {
        "id": "ydp8W8jUX05I"
      },
      "outputs": [],
      "source": [
        "!unzip -q /content/archive_3.zip -d /content/\n"
      ]
    },
    {
      "cell_type": "code",
      "source": [
        "import pandas as pd\n",
        "import numpy as np\n",
        "import matplotlib.pyplot as plot\n",
        "import seaborn as sb\n",
        "from tensorflow.keras.preprocessing.image import load_img, img_to_array"
      ],
      "metadata": {
        "id": "478klIQvZp2d"
      },
      "execution_count": null,
      "outputs": []
    },
    {
      "cell_type": "code",
      "source": [
        "data=pd.read_csv(r\"/content/data.csv\")\n",
        "data.head()"
      ],
      "metadata": {
        "colab": {
          "base_uri": "https://localhost:8080/",
          "height": 206
        },
        "id": "DIW6JbYgZx0o",
        "outputId": "fa1488a7-1648-4d3e-a389-39cd32b451eb"
      },
      "execution_count": null,
      "outputs": [
        {
          "output_type": "execute_result",
          "data": {
            "text/plain": [
              "  images_id label\n",
              "0    real_1  real\n",
              "1   real_10  real\n",
              "2  real_100  real\n",
              "3  real_101  real\n",
              "4  real_102  real"
            ],
            "text/html": [
              "\n",
              "  <div id=\"df-6dcfe0a9-5b27-45c8-a395-558678afddfd\" class=\"colab-df-container\">\n",
              "    <div>\n",
              "<style scoped>\n",
              "    .dataframe tbody tr th:only-of-type {\n",
              "        vertical-align: middle;\n",
              "    }\n",
              "\n",
              "    .dataframe tbody tr th {\n",
              "        vertical-align: top;\n",
              "    }\n",
              "\n",
              "    .dataframe thead th {\n",
              "        text-align: right;\n",
              "    }\n",
              "</style>\n",
              "<table border=\"1\" class=\"dataframe\">\n",
              "  <thead>\n",
              "    <tr style=\"text-align: right;\">\n",
              "      <th></th>\n",
              "      <th>images_id</th>\n",
              "      <th>label</th>\n",
              "    </tr>\n",
              "  </thead>\n",
              "  <tbody>\n",
              "    <tr>\n",
              "      <th>0</th>\n",
              "      <td>real_1</td>\n",
              "      <td>real</td>\n",
              "    </tr>\n",
              "    <tr>\n",
              "      <th>1</th>\n",
              "      <td>real_10</td>\n",
              "      <td>real</td>\n",
              "    </tr>\n",
              "    <tr>\n",
              "      <th>2</th>\n",
              "      <td>real_100</td>\n",
              "      <td>real</td>\n",
              "    </tr>\n",
              "    <tr>\n",
              "      <th>3</th>\n",
              "      <td>real_101</td>\n",
              "      <td>real</td>\n",
              "    </tr>\n",
              "    <tr>\n",
              "      <th>4</th>\n",
              "      <td>real_102</td>\n",
              "      <td>real</td>\n",
              "    </tr>\n",
              "  </tbody>\n",
              "</table>\n",
              "</div>\n",
              "    <div class=\"colab-df-buttons\">\n",
              "\n",
              "  <div class=\"colab-df-container\">\n",
              "    <button class=\"colab-df-convert\" onclick=\"convertToInteractive('df-6dcfe0a9-5b27-45c8-a395-558678afddfd')\"\n",
              "            title=\"Convert this dataframe to an interactive table.\"\n",
              "            style=\"display:none;\">\n",
              "\n",
              "  <svg xmlns=\"http://www.w3.org/2000/svg\" height=\"24px\" viewBox=\"0 -960 960 960\">\n",
              "    <path d=\"M120-120v-720h720v720H120Zm60-500h600v-160H180v160Zm220 220h160v-160H400v160Zm0 220h160v-160H400v160ZM180-400h160v-160H180v160Zm440 0h160v-160H620v160ZM180-180h160v-160H180v160Zm440 0h160v-160H620v160Z\"/>\n",
              "  </svg>\n",
              "    </button>\n",
              "\n",
              "  <style>\n",
              "    .colab-df-container {\n",
              "      display:flex;\n",
              "      gap: 12px;\n",
              "    }\n",
              "\n",
              "    .colab-df-convert {\n",
              "      background-color: #E8F0FE;\n",
              "      border: none;\n",
              "      border-radius: 50%;\n",
              "      cursor: pointer;\n",
              "      display: none;\n",
              "      fill: #1967D2;\n",
              "      height: 32px;\n",
              "      padding: 0 0 0 0;\n",
              "      width: 32px;\n",
              "    }\n",
              "\n",
              "    .colab-df-convert:hover {\n",
              "      background-color: #E2EBFA;\n",
              "      box-shadow: 0px 1px 2px rgba(60, 64, 67, 0.3), 0px 1px 3px 1px rgba(60, 64, 67, 0.15);\n",
              "      fill: #174EA6;\n",
              "    }\n",
              "\n",
              "    .colab-df-buttons div {\n",
              "      margin-bottom: 4px;\n",
              "    }\n",
              "\n",
              "    [theme=dark] .colab-df-convert {\n",
              "      background-color: #3B4455;\n",
              "      fill: #D2E3FC;\n",
              "    }\n",
              "\n",
              "    [theme=dark] .colab-df-convert:hover {\n",
              "      background-color: #434B5C;\n",
              "      box-shadow: 0px 1px 3px 1px rgba(0, 0, 0, 0.15);\n",
              "      filter: drop-shadow(0px 1px 2px rgba(0, 0, 0, 0.3));\n",
              "      fill: #FFFFFF;\n",
              "    }\n",
              "  </style>\n",
              "\n",
              "    <script>\n",
              "      const buttonEl =\n",
              "        document.querySelector('#df-6dcfe0a9-5b27-45c8-a395-558678afddfd button.colab-df-convert');\n",
              "      buttonEl.style.display =\n",
              "        google.colab.kernel.accessAllowed ? 'block' : 'none';\n",
              "\n",
              "      async function convertToInteractive(key) {\n",
              "        const element = document.querySelector('#df-6dcfe0a9-5b27-45c8-a395-558678afddfd');\n",
              "        const dataTable =\n",
              "          await google.colab.kernel.invokeFunction('convertToInteractive',\n",
              "                                                    [key], {});\n",
              "        if (!dataTable) return;\n",
              "\n",
              "        const docLinkHtml = 'Like what you see? Visit the ' +\n",
              "          '<a target=\"_blank\" href=https://colab.research.google.com/notebooks/data_table.ipynb>data table notebook</a>'\n",
              "          + ' to learn more about interactive tables.';\n",
              "        element.innerHTML = '';\n",
              "        dataTable['output_type'] = 'display_data';\n",
              "        await google.colab.output.renderOutput(dataTable, element);\n",
              "        const docLink = document.createElement('div');\n",
              "        docLink.innerHTML = docLinkHtml;\n",
              "        element.appendChild(docLink);\n",
              "      }\n",
              "    </script>\n",
              "  </div>\n",
              "\n",
              "\n",
              "<div id=\"df-f727604e-f25d-4273-a4bf-d36804892b7b\">\n",
              "  <button class=\"colab-df-quickchart\" onclick=\"quickchart('df-f727604e-f25d-4273-a4bf-d36804892b7b')\"\n",
              "            title=\"Suggest charts\"\n",
              "            style=\"display:none;\">\n",
              "\n",
              "<svg xmlns=\"http://www.w3.org/2000/svg\" height=\"24px\"viewBox=\"0 0 24 24\"\n",
              "     width=\"24px\">\n",
              "    <g>\n",
              "        <path d=\"M19 3H5c-1.1 0-2 .9-2 2v14c0 1.1.9 2 2 2h14c1.1 0 2-.9 2-2V5c0-1.1-.9-2-2-2zM9 17H7v-7h2v7zm4 0h-2V7h2v10zm4 0h-2v-4h2v4z\"/>\n",
              "    </g>\n",
              "</svg>\n",
              "  </button>\n",
              "\n",
              "<style>\n",
              "  .colab-df-quickchart {\n",
              "      --bg-color: #E8F0FE;\n",
              "      --fill-color: #1967D2;\n",
              "      --hover-bg-color: #E2EBFA;\n",
              "      --hover-fill-color: #174EA6;\n",
              "      --disabled-fill-color: #AAA;\n",
              "      --disabled-bg-color: #DDD;\n",
              "  }\n",
              "\n",
              "  [theme=dark] .colab-df-quickchart {\n",
              "      --bg-color: #3B4455;\n",
              "      --fill-color: #D2E3FC;\n",
              "      --hover-bg-color: #434B5C;\n",
              "      --hover-fill-color: #FFFFFF;\n",
              "      --disabled-bg-color: #3B4455;\n",
              "      --disabled-fill-color: #666;\n",
              "  }\n",
              "\n",
              "  .colab-df-quickchart {\n",
              "    background-color: var(--bg-color);\n",
              "    border: none;\n",
              "    border-radius: 50%;\n",
              "    cursor: pointer;\n",
              "    display: none;\n",
              "    fill: var(--fill-color);\n",
              "    height: 32px;\n",
              "    padding: 0;\n",
              "    width: 32px;\n",
              "  }\n",
              "\n",
              "  .colab-df-quickchart:hover {\n",
              "    background-color: var(--hover-bg-color);\n",
              "    box-shadow: 0 1px 2px rgba(60, 64, 67, 0.3), 0 1px 3px 1px rgba(60, 64, 67, 0.15);\n",
              "    fill: var(--button-hover-fill-color);\n",
              "  }\n",
              "\n",
              "  .colab-df-quickchart-complete:disabled,\n",
              "  .colab-df-quickchart-complete:disabled:hover {\n",
              "    background-color: var(--disabled-bg-color);\n",
              "    fill: var(--disabled-fill-color);\n",
              "    box-shadow: none;\n",
              "  }\n",
              "\n",
              "  .colab-df-spinner {\n",
              "    border: 2px solid var(--fill-color);\n",
              "    border-color: transparent;\n",
              "    border-bottom-color: var(--fill-color);\n",
              "    animation:\n",
              "      spin 1s steps(1) infinite;\n",
              "  }\n",
              "\n",
              "  @keyframes spin {\n",
              "    0% {\n",
              "      border-color: transparent;\n",
              "      border-bottom-color: var(--fill-color);\n",
              "      border-left-color: var(--fill-color);\n",
              "    }\n",
              "    20% {\n",
              "      border-color: transparent;\n",
              "      border-left-color: var(--fill-color);\n",
              "      border-top-color: var(--fill-color);\n",
              "    }\n",
              "    30% {\n",
              "      border-color: transparent;\n",
              "      border-left-color: var(--fill-color);\n",
              "      border-top-color: var(--fill-color);\n",
              "      border-right-color: var(--fill-color);\n",
              "    }\n",
              "    40% {\n",
              "      border-color: transparent;\n",
              "      border-right-color: var(--fill-color);\n",
              "      border-top-color: var(--fill-color);\n",
              "    }\n",
              "    60% {\n",
              "      border-color: transparent;\n",
              "      border-right-color: var(--fill-color);\n",
              "    }\n",
              "    80% {\n",
              "      border-color: transparent;\n",
              "      border-right-color: var(--fill-color);\n",
              "      border-bottom-color: var(--fill-color);\n",
              "    }\n",
              "    90% {\n",
              "      border-color: transparent;\n",
              "      border-bottom-color: var(--fill-color);\n",
              "    }\n",
              "  }\n",
              "</style>\n",
              "\n",
              "  <script>\n",
              "    async function quickchart(key) {\n",
              "      const quickchartButtonEl =\n",
              "        document.querySelector('#' + key + ' button');\n",
              "      quickchartButtonEl.disabled = true;  // To prevent multiple clicks.\n",
              "      quickchartButtonEl.classList.add('colab-df-spinner');\n",
              "      try {\n",
              "        const charts = await google.colab.kernel.invokeFunction(\n",
              "            'suggestCharts', [key], {});\n",
              "      } catch (error) {\n",
              "        console.error('Error during call to suggestCharts:', error);\n",
              "      }\n",
              "      quickchartButtonEl.classList.remove('colab-df-spinner');\n",
              "      quickchartButtonEl.classList.add('colab-df-quickchart-complete');\n",
              "    }\n",
              "    (() => {\n",
              "      let quickchartButtonEl =\n",
              "        document.querySelector('#df-f727604e-f25d-4273-a4bf-d36804892b7b button');\n",
              "      quickchartButtonEl.style.display =\n",
              "        google.colab.kernel.accessAllowed ? 'block' : 'none';\n",
              "    })();\n",
              "  </script>\n",
              "</div>\n",
              "\n",
              "    </div>\n",
              "  </div>\n"
            ]
          },
          "metadata": {},
          "execution_count": 9
        }
      ]
    },
    {
      "cell_type": "markdown",
      "source": [
        "## **data** **preprocessing**\n"
      ],
      "metadata": {
        "id": "0_VqMDdXag8G"
      }
    },
    {
      "cell_type": "code",
      "source": [
        "height, width=224, 224\n",
        "X=np.empty((data.shape[0], height, width, 3))\n",
        "for i in range(data.shape[0]):\n",
        "    img=load_img(\"/content//{}/{}.jpg\".format(data.loc[i, 'label'], \\\n",
        "                  data.loc[i, 'images_id']), target_size=(height, width))\n",
        "    X[i]=img_to_array(img)\n",
        "X.shape"
      ],
      "metadata": {
        "colab": {
          "base_uri": "https://localhost:8080/"
        },
        "id": "S33OTZclaN5f",
        "outputId": "b616acd4-4666-46c7-d4fc-31a068677557"
      },
      "execution_count": null,
      "outputs": [
        {
          "output_type": "execute_result",
          "data": {
            "text/plain": [
              "(1289, 224, 224, 3)"
            ]
          },
          "metadata": {},
          "execution_count": 10
        }
      ]
    },
    {
      "cell_type": "markdown",
      "source": [
        "### **Labeling**"
      ],
      "metadata": {
        "id": "9P8vmT9fbLww"
      }
    },
    {
      "cell_type": "code",
      "source": [
        "def changeLabels(x):\n",
        "    return labels[x]\n",
        "\n",
        "labels=data.label.unique()\n",
        "labels={labels[i]:i for i in range(labels.size)}\n",
        "y=data.label.apply(changeLabels)\n",
        "y[:5]"
      ],
      "metadata": {
        "colab": {
          "base_uri": "https://localhost:8080/"
        },
        "id": "mwB4ZvzgbPcW",
        "outputId": "794552e9-784e-439e-ea8d-a9b24e7450af"
      },
      "execution_count": null,
      "outputs": [
        {
          "output_type": "execute_result",
          "data": {
            "text/plain": [
              "0    0\n",
              "1    0\n",
              "2    0\n",
              "3    0\n",
              "4    0\n",
              "Name: label, dtype: int64"
            ]
          },
          "metadata": {},
          "execution_count": 19
        }
      ]
    },
    {
      "cell_type": "code",
      "source": [
        "from tensorflow.keras.utils import to_categorical"
      ],
      "metadata": {
        "id": "2lUpwgsebR9a"
      },
      "execution_count": null,
      "outputs": []
    },
    {
      "cell_type": "code",
      "source": [
        "y=to_categorical(y, len(labels))\n",
        "y=y.astype(int)\n",
        "y[:5]"
      ],
      "metadata": {
        "colab": {
          "base_uri": "https://localhost:8080/"
        },
        "id": "j1zVdJydbcRL",
        "outputId": "65beaa3d-53b0-43f0-f21f-45a4e32c73df"
      },
      "execution_count": null,
      "outputs": [
        {
          "output_type": "execute_result",
          "data": {
            "text/plain": [
              "array([[1, 0],\n",
              "       [1, 0],\n",
              "       [1, 0],\n",
              "       [1, 0],\n",
              "       [1, 0]])"
            ]
          },
          "metadata": {},
          "execution_count": 20
        }
      ]
    },
    {
      "cell_type": "code",
      "source": [],
      "metadata": {
        "id": "M2qOjm36bega"
      },
      "execution_count": null,
      "outputs": []
    },
    {
      "cell_type": "markdown",
      "source": [
        "**Train-Test Split**"
      ],
      "metadata": {
        "id": "qk7SlofRcMHO"
      }
    },
    {
      "cell_type": "code",
      "source": [
        "from sklearn.model_selection import train_test_split"
      ],
      "metadata": {
        "id": "gCcGDZRjcOX-"
      },
      "execution_count": null,
      "outputs": []
    },
    {
      "cell_type": "code",
      "source": [
        "X_train, X_test, y_train, y_test=train_test_split(X, y, test_size=0.2, random_state=8)\n",
        "X_train.shape, y_train.shape"
      ],
      "metadata": {
        "colab": {
          "base_uri": "https://localhost:8080/"
        },
        "id": "KJLGWlqUcSP3",
        "outputId": "996c00e0-4086-46a4-80f5-330daa0d7a05"
      },
      "execution_count": null,
      "outputs": [
        {
          "output_type": "execute_result",
          "data": {
            "text/plain": [
              "((1031, 224, 224, 3), (1031, 2))"
            ]
          },
          "metadata": {},
          "execution_count": 21
        }
      ]
    },
    {
      "cell_type": "code",
      "source": [
        "from tensorflow.keras.models import Sequential\n",
        "from tensorflow.keras.optimizers import SGD\n",
        "from tensorflow.keras.layers import Dense, Conv2D, Flatten, MaxPooling2D, Dropout,GlobalAveragePooling2D\n",
        "from tensorflow.keras.applications import MobileNetV2\n",
        "from tensorflow.keras.applications import DenseNet121\n",
        "from tensorflow.keras.models import Sequential\n",
        "from tensorflow.keras import layers\n",
        "from tensorflow.keras.optimizers import Adam\n",
        "from tensorflow.keras.applications import VGG19"
      ],
      "metadata": {
        "id": "_eSyfRo-cVHp"
      },
      "execution_count": null,
      "outputs": []
    },
    {
      "cell_type": "markdown",
      "source": [
        "## PRETRAINED MODELS"
      ],
      "metadata": {
        "id": "Vmoi-kflgF2O"
      }
    },
    {
      "cell_type": "code",
      "source": [
        "\n",
        "\n",
        "vgg19 = VGG19(weights='imagenet', include_top=False, input_shape=(224, 224, 3))"
      ],
      "metadata": {
        "id": "b9W3Jg7edEh7",
        "colab": {
          "base_uri": "https://localhost:8080/"
        },
        "outputId": "e535d76f-6ff8-47de-e0e6-01ee67412ead"
      },
      "execution_count": null,
      "outputs": [
        {
          "output_type": "stream",
          "name": "stdout",
          "text": [
            "Downloading data from https://storage.googleapis.com/tensorflow/keras-applications/vgg19/vgg19_weights_tf_dim_ordering_tf_kernels_notop.h5\n",
            "80134624/80134624 [==============================] - 0s 0us/step\n"
          ]
        }
      ]
    },
    {
      "cell_type": "code",
      "source": [
        "model = Sequential([\n",
        "    vgg19,\n",
        "    Flatten(),\n",
        "    Dense(2, activation='softmax')\n",
        "])"
      ],
      "metadata": {
        "id": "VVrT_ls7dT_y"
      },
      "execution_count": null,
      "outputs": []
    },
    {
      "cell_type": "code",
      "source": [
        "model.compile(optimizer='adam', loss='categorical_crossentropy', metrics=['accuracy'])"
      ],
      "metadata": {
        "id": "vFM_QBxydhUk"
      },
      "execution_count": null,
      "outputs": []
    },
    {
      "cell_type": "code",
      "source": [
        "history = model.fit(\n",
        "    X_train,\n",
        "    y_train,\n",
        "    epochs=10,\n",
        "    batch_size=64,\n",
        "   validation_data=(X_test, y_test))"
      ],
      "metadata": {
        "colab": {
          "base_uri": "https://localhost:8080/"
        },
        "id": "WlVuN62WdYSH",
        "outputId": "9bd322d8-1499-402a-e9a3-df3f7ac49e8d"
      },
      "execution_count": null,
      "outputs": [
        {
          "output_type": "stream",
          "name": "stdout",
          "text": [
            "Epoch 1/10\n",
            "17/17 [==============================] - 63s 1s/step - loss: 25.5455 - accuracy: 0.4791 - val_loss: 1.2560 - val_accuracy: 0.4767\n",
            "Epoch 2/10\n",
            "17/17 [==============================] - 15s 895ms/step - loss: 0.7029 - accuracy: 0.5897 - val_loss: 0.6430 - val_accuracy: 0.6240\n",
            "Epoch 3/10\n",
            "17/17 [==============================] - 15s 908ms/step - loss: 0.6344 - accuracy: 0.6508 - val_loss: 0.6166 - val_accuracy: 0.5930\n",
            "Epoch 4/10\n",
            "17/17 [==============================] - 15s 911ms/step - loss: 0.6603 - accuracy: 0.6111 - val_loss: 0.6009 - val_accuracy: 0.6938\n",
            "Epoch 5/10\n",
            "17/17 [==============================] - 16s 915ms/step - loss: 0.5986 - accuracy: 0.6479 - val_loss: 0.5412 - val_accuracy: 0.7829\n",
            "Epoch 6/10\n",
            "17/17 [==============================] - 15s 913ms/step - loss: 0.5018 - accuracy: 0.7536 - val_loss: 0.4299 - val_accuracy: 0.7907\n",
            "Epoch 7/10\n",
            "17/17 [==============================] - 15s 903ms/step - loss: 0.2860 - accuracy: 0.8826 - val_loss: 0.2235 - val_accuracy: 0.9341\n",
            "Epoch 8/10\n",
            "17/17 [==============================] - 15s 901ms/step - loss: 0.1491 - accuracy: 0.9651 - val_loss: 0.1494 - val_accuracy: 0.9457\n",
            "Epoch 9/10\n",
            "17/17 [==============================] - 16s 918ms/step - loss: 0.1103 - accuracy: 0.9661 - val_loss: 0.0553 - val_accuracy: 0.9845\n",
            "Epoch 10/10\n",
            "17/17 [==============================] - 15s 913ms/step - loss: 0.0637 - accuracy: 0.9767 - val_loss: 0.0601 - val_accuracy: 0.9806\n"
          ]
        }
      ]
    },
    {
      "cell_type": "code",
      "source": [
        "for layer in vgg19.layers:\n",
        "    layer.trainable = False"
      ],
      "metadata": {
        "id": "RJSskxcSxmNO"
      },
      "execution_count": null,
      "outputs": []
    },
    {
      "cell_type": "code",
      "source": [
        "model = Sequential()\n",
        "model.add(vgg19)\n",
        "model.add(Flatten())\n",
        "model.add(Dense(256, activation='relu'))\n",
        "model.add(Dense(2, activation='softmax'))"
      ],
      "metadata": {
        "id": "rxttucv7xxrX"
      },
      "execution_count": null,
      "outputs": []
    },
    {
      "cell_type": "code",
      "source": [
        "model.compile(optimizer='adam', loss='categorical_crossentropy', metrics=['accuracy'])"
      ],
      "metadata": {
        "id": "rdSxHRD7yrRZ"
      },
      "execution_count": null,
      "outputs": []
    },
    {
      "cell_type": "code",
      "source": [
        "history = model.fit(\n",
        "    X_train,\n",
        "    y_train,\n",
        "    epochs=10,\n",
        "    batch_size=32,\n",
        "   validation_data=(X_test, y_test))"
      ],
      "metadata": {
        "colab": {
          "base_uri": "https://localhost:8080/"
        },
        "id": "3iq72pF0yh93",
        "outputId": "25facc8f-01dc-4d07-c307-314bdf99310d"
      },
      "execution_count": null,
      "outputs": [
        {
          "output_type": "stream",
          "name": "stdout",
          "text": [
            "Epoch 1/10\n",
            "33/33 [==============================] - 14s 201ms/step - loss: 0.1910 - accuracy: 0.9340 - val_loss: 0.1002 - val_accuracy: 0.9845\n",
            "Epoch 2/10\n",
            "33/33 [==============================] - 6s 185ms/step - loss: 0.0321 - accuracy: 0.9932 - val_loss: 0.1007 - val_accuracy: 0.9729\n",
            "Epoch 3/10\n",
            "33/33 [==============================] - 6s 186ms/step - loss: 0.0259 - accuracy: 0.9913 - val_loss: 0.0719 - val_accuracy: 0.9806\n",
            "Epoch 4/10\n",
            "33/33 [==============================] - 6s 186ms/step - loss: 0.0162 - accuracy: 0.9952 - val_loss: 0.0930 - val_accuracy: 0.9767\n",
            "Epoch 5/10\n",
            "33/33 [==============================] - 6s 181ms/step - loss: 0.0183 - accuracy: 0.9922 - val_loss: 0.0914 - val_accuracy: 0.9767\n",
            "Epoch 6/10\n",
            "33/33 [==============================] - 6s 180ms/step - loss: 0.0214 - accuracy: 0.9922 - val_loss: 0.1891 - val_accuracy: 0.9612\n",
            "Epoch 7/10\n",
            "33/33 [==============================] - 6s 181ms/step - loss: 0.0132 - accuracy: 0.9961 - val_loss: 0.0904 - val_accuracy: 0.9845\n",
            "Epoch 8/10\n",
            "33/33 [==============================] - 6s 179ms/step - loss: 0.0083 - accuracy: 0.9961 - val_loss: 0.0987 - val_accuracy: 0.9806\n",
            "Epoch 9/10\n",
            "33/33 [==============================] - 6s 176ms/step - loss: 0.0084 - accuracy: 0.9952 - val_loss: 0.0971 - val_accuracy: 0.9767\n",
            "Epoch 10/10\n",
            "33/33 [==============================] - 6s 179ms/step - loss: 0.0064 - accuracy: 0.9981 - val_loss: 0.1088 - val_accuracy: 0.9767\n"
          ]
        }
      ]
    },
    {
      "cell_type": "markdown",
      "source": [
        "# **VGG16**"
      ],
      "metadata": {
        "id": "UiK5oGGiFiGz"
      }
    },
    {
      "cell_type": "code",
      "source": [
        "from tensorflow.keras.applications import VGG16"
      ],
      "metadata": {
        "id": "uihb_3PnFfdl"
      },
      "execution_count": null,
      "outputs": []
    },
    {
      "cell_type": "code",
      "source": [
        "vgg16 = VGG16(weights='imagenet', include_top=False, input_shape=(224, 224, 3))\n"
      ],
      "metadata": {
        "colab": {
          "base_uri": "https://localhost:8080/"
        },
        "id": "8TBTfb2vFwo0",
        "outputId": "96c4a6d0-b06a-4c65-fc19-799b4213109b"
      },
      "execution_count": null,
      "outputs": [
        {
          "output_type": "stream",
          "name": "stdout",
          "text": [
            "Downloading data from https://storage.googleapis.com/tensorflow/keras-applications/vgg16/vgg16_weights_tf_dim_ordering_tf_kernels_notop.h5\n",
            "58889256/58889256 [==============================] - 0s 0us/step\n"
          ]
        }
      ]
    },
    {
      "cell_type": "code",
      "source": [
        "model = Sequential([\n",
        "    vgg16,\n",
        "    Flatten(),\n",
        "    Dense(256, activation='relu'),\n",
        "    Dropout(0.5),\n",
        "    Dense(2, activation='sigmoid')\n",
        "])"
      ],
      "metadata": {
        "id": "7hFHDkfnF3ML"
      },
      "execution_count": null,
      "outputs": []
    },
    {
      "cell_type": "code",
      "source": [
        "model.compile(optimizer='adam', loss='binary_crossentropy', metrics=['accuracy'])"
      ],
      "metadata": {
        "id": "mxN-sLT8F9rr"
      },
      "execution_count": null,
      "outputs": []
    },
    {
      "cell_type": "code",
      "source": [
        "history = model.fit(\n",
        "    X_train,\n",
        "    y_train,\n",
        "    epochs=10,\n",
        "    batch_size=64,\n",
        "   validation_data=(X_test, y_test)\n",
        ")"
      ],
      "metadata": {
        "colab": {
          "base_uri": "https://localhost:8080/"
        },
        "id": "MUITvOpeGM9V",
        "outputId": "da1c028d-d1b8-4ff7-fe53-abb20adcc03e"
      },
      "execution_count": null,
      "outputs": [
        {
          "output_type": "stream",
          "name": "stdout",
          "text": [
            "Epoch 1/10\n",
            "17/17 [==============================] - 20s 823ms/step - loss: 3.4922 - accuracy: 0.5441 - val_loss: 0.6976 - val_accuracy: 0.5000\n",
            "Epoch 2/10\n",
            "17/17 [==============================] - 13s 776ms/step - loss: 0.6904 - accuracy: 0.5839 - val_loss: 0.6577 - val_accuracy: 0.6163\n",
            "Epoch 3/10\n",
            "17/17 [==============================] - 13s 778ms/step - loss: 0.6669 - accuracy: 0.5984 - val_loss: 0.6437 - val_accuracy: 0.6628\n",
            "Epoch 4/10\n",
            "17/17 [==============================] - 13s 788ms/step - loss: 0.6483 - accuracy: 0.6450 - val_loss: 1.2150 - val_accuracy: 0.4767\n",
            "Epoch 5/10\n",
            "17/17 [==============================] - 14s 798ms/step - loss: 0.6994 - accuracy: 0.5946 - val_loss: 0.6376 - val_accuracy: 0.6124\n",
            "Epoch 6/10\n",
            "17/17 [==============================] - 13s 788ms/step - loss: 0.4989 - accuracy: 0.7953 - val_loss: 0.2759 - val_accuracy: 0.8837\n",
            "Epoch 7/10\n",
            "17/17 [==============================] - 14s 808ms/step - loss: 0.4300 - accuracy: 0.8361 - val_loss: 0.4649 - val_accuracy: 0.8101\n",
            "Epoch 8/10\n",
            "17/17 [==============================] - 13s 793ms/step - loss: 0.3167 - accuracy: 0.8749 - val_loss: 0.1346 - val_accuracy: 0.9419\n",
            "Epoch 9/10\n",
            "17/17 [==============================] - 14s 796ms/step - loss: 0.1862 - accuracy: 0.9496 - val_loss: 0.2206 - val_accuracy: 0.9341\n",
            "Epoch 10/10\n",
            "17/17 [==============================] - 14s 826ms/step - loss: 0.1345 - accuracy: 0.9641 - val_loss: 0.1148 - val_accuracy: 0.9612\n"
          ]
        }
      ]
    },
    {
      "cell_type": "markdown",
      "source": [
        "## **DENSENET**"
      ],
      "metadata": {
        "id": "e9qqsTtIno71"
      }
    },
    {
      "cell_type": "code",
      "source": [
        "densenet = DenseNet121( weights=None, include_top=False, input_shape=(224,224,3) )"
      ],
      "metadata": {
        "id": "_Fsk1EedmLVF"
      },
      "execution_count": null,
      "outputs": []
    },
    {
      "cell_type": "code",
      "source": [
        "model = Sequential([\n",
        "        densenet,\n",
        "        Flatten(),\n",
        "    Dense(2, activation='softmax')\n",
        "    ])"
      ],
      "metadata": {
        "id": "u_MV0gFenyGV"
      },
      "execution_count": null,
      "outputs": []
    },
    {
      "cell_type": "code",
      "source": [
        "model.compile(loss='categorical_crossentropy', optimizer=Adam(), metrics=['accuracy'])"
      ],
      "metadata": {
        "id": "4rmgoJsMn0Zs"
      },
      "execution_count": null,
      "outputs": []
    },
    {
      "cell_type": "code",
      "source": [
        "history = model.fit(\n",
        "    X_train,\n",
        "    y_train,\n",
        "    epochs=10,\n",
        "    batch_size=64,\n",
        "   validation_data=(X_test, y_test)\n",
        "\n",
        ")"
      ],
      "metadata": {
        "colab": {
          "base_uri": "https://localhost:8080/"
        },
        "id": "20H51DLin3fE",
        "outputId": "1651370a-7ccf-4b5e-f39d-20b26deaaa93"
      },
      "execution_count": null,
      "outputs": [
        {
          "output_type": "stream",
          "name": "stdout",
          "text": [
            "Epoch 1/10\n",
            "17/17 [==============================] - 105s 1s/step - loss: 2.9915 - accuracy: 0.7265 - val_loss: 1367.2935 - val_accuracy: 0.5310\n",
            "Epoch 2/10\n",
            "17/17 [==============================] - 11s 671ms/step - loss: 0.6408 - accuracy: 0.9457 - val_loss: 1383.0864 - val_accuracy: 0.4690\n",
            "Epoch 3/10\n",
            "17/17 [==============================] - 12s 708ms/step - loss: 0.1386 - accuracy: 0.9787 - val_loss: 135.8248 - val_accuracy: 0.5155\n",
            "Epoch 4/10\n",
            "17/17 [==============================] - 11s 677ms/step - loss: 0.1523 - accuracy: 0.9922 - val_loss: 226.9713 - val_accuracy: 0.5271\n",
            "Epoch 5/10\n",
            "17/17 [==============================] - 12s 680ms/step - loss: 0.1232 - accuracy: 0.9874 - val_loss: 36.0776 - val_accuracy: 0.6047\n",
            "Epoch 6/10\n",
            "17/17 [==============================] - 12s 685ms/step - loss: 0.0703 - accuracy: 0.9893 - val_loss: 0.5668 - val_accuracy: 0.9535\n",
            "Epoch 7/10\n",
            "17/17 [==============================] - 12s 719ms/step - loss: 0.0107 - accuracy: 0.9971 - val_loss: 0.9424 - val_accuracy: 0.9380\n",
            "Epoch 8/10\n",
            "17/17 [==============================] - 12s 721ms/step - loss: 0.0033 - accuracy: 0.9990 - val_loss: 1.5663 - val_accuracy: 0.9031\n",
            "Epoch 9/10\n",
            "17/17 [==============================] - 12s 719ms/step - loss: 3.1575e-04 - accuracy: 1.0000 - val_loss: 1.0453 - val_accuracy: 0.9225\n",
            "Epoch 10/10\n",
            "17/17 [==============================] - 12s 718ms/step - loss: 9.9531e-05 - accuracy: 1.0000 - val_loss: 0.5967 - val_accuracy: 0.9419\n"
          ]
        }
      ]
    },
    {
      "cell_type": "markdown",
      "source": [
        "### **MOBILENET**"
      ],
      "metadata": {
        "id": "am9Jy_iwuNbU"
      }
    },
    {
      "cell_type": "code",
      "source": [
        "mobilenetv2 = MobileNetV2(weights='imagenet', include_top=False, input_shape=(224, 224, 3))"
      ],
      "metadata": {
        "colab": {
          "base_uri": "https://localhost:8080/"
        },
        "id": "47_n8xYcuQsE",
        "outputId": "e0b189ea-e604-492d-90cb-af6e661225ad"
      },
      "execution_count": null,
      "outputs": [
        {
          "output_type": "stream",
          "name": "stdout",
          "text": [
            "Downloading data from https://storage.googleapis.com/tensorflow/keras-applications/mobilenet_v2/mobilenet_v2_weights_tf_dim_ordering_tf_kernels_1.0_224_no_top.h5\n",
            "9406464/9406464 [==============================] - 0s 0us/step\n"
          ]
        }
      ]
    },
    {
      "cell_type": "code",
      "source": [
        "model3 = Sequential([\n",
        "    mobilenetv2,\n",
        "    GlobalAveragePooling2D(),\n",
        "    Dense(len(labels), activation='softmax')\n",
        "])"
      ],
      "metadata": {
        "id": "w-twq3TLud1D"
      },
      "execution_count": null,
      "outputs": []
    },
    {
      "cell_type": "code",
      "source": [
        "model3.compile(optimizer=Adam(), loss='categorical_crossentropy', metrics=['accuracy'])"
      ],
      "metadata": {
        "id": "K35kAJZWugwF"
      },
      "execution_count": null,
      "outputs": []
    },
    {
      "cell_type": "code",
      "source": [
        "history = model3.fit(\n",
        "    X_train,\n",
        "    y_train,\n",
        "    epochs=10,\n",
        "    batch_size=64,\n",
        "    validation_data=(X_test, y_test)\n",
        ")"
      ],
      "metadata": {
        "colab": {
          "base_uri": "https://localhost:8080/"
        },
        "id": "L1p9q8qkui-8",
        "outputId": "a64be54f-8d11-4888-d9fa-97211bd71578"
      },
      "execution_count": null,
      "outputs": [
        {
          "output_type": "stream",
          "name": "stdout",
          "text": [
            "Epoch 1/10\n",
            "17/17 [==============================] - 37s 465ms/step - loss: 0.0840 - accuracy: 0.9622 - val_loss: 7.7152 - val_accuracy: 0.5116\n",
            "Epoch 2/10\n",
            "17/17 [==============================] - 4s 256ms/step - loss: 0.0586 - accuracy: 0.9835 - val_loss: 2.0266 - val_accuracy: 0.7597\n",
            "Epoch 3/10\n",
            "17/17 [==============================] - 5s 284ms/step - loss: 0.0053 - accuracy: 0.9981 - val_loss: 2.4192 - val_accuracy: 0.6047\n",
            "Epoch 4/10\n",
            "17/17 [==============================] - 5s 276ms/step - loss: 3.5193e-04 - accuracy: 1.0000 - val_loss: 1.3389 - val_accuracy: 0.7248\n",
            "Epoch 5/10\n",
            "17/17 [==============================] - 4s 259ms/step - loss: 3.5610e-04 - accuracy: 1.0000 - val_loss: 0.9737 - val_accuracy: 0.7984\n",
            "Epoch 6/10\n",
            "17/17 [==============================] - 5s 286ms/step - loss: 5.3443e-05 - accuracy: 1.0000 - val_loss: 0.7721 - val_accuracy: 0.8295\n",
            "Epoch 7/10\n",
            "17/17 [==============================] - 4s 260ms/step - loss: 1.7435e-04 - accuracy: 1.0000 - val_loss: 0.7976 - val_accuracy: 0.8333\n",
            "Epoch 8/10\n",
            "17/17 [==============================] - 5s 281ms/step - loss: 8.6709e-05 - accuracy: 1.0000 - val_loss: 1.4650 - val_accuracy: 0.7248\n",
            "Epoch 9/10\n",
            "17/17 [==============================] - 5s 277ms/step - loss: 6.7834e-05 - accuracy: 1.0000 - val_loss: 1.4640 - val_accuracy: 0.7132\n",
            "Epoch 10/10\n",
            "17/17 [==============================] - 4s 257ms/step - loss: 1.0231e-04 - accuracy: 1.0000 - val_loss: 1.8923 - val_accuracy: 0.6783\n"
          ]
        }
      ]
    },
    {
      "cell_type": "code",
      "source": [
        "model3 = Sequential([\n",
        "    mobilenetv2,\n",
        "    GlobalAveragePooling2D(),\n",
        "    Dropout(0.5),\n",
        "    Dense(len(labels), activation='softmax')\n",
        "])"
      ],
      "metadata": {
        "id": "I-gN0qmIulDT"
      },
      "execution_count": null,
      "outputs": []
    },
    {
      "cell_type": "code",
      "source": [
        "model3.compile(optimizer=Adam(), loss='categorical_crossentropy', metrics=['accuracy'])"
      ],
      "metadata": {
        "id": "I4YxNaDP01fP"
      },
      "execution_count": null,
      "outputs": []
    },
    {
      "cell_type": "code",
      "source": [
        "history = model3.fit(\n",
        "    X_train,\n",
        "    y_train,\n",
        "    epochs=8,\n",
        "    batch_size=64,\n",
        "    validation_data=(X_test, y_test)\n",
        ")"
      ],
      "metadata": {
        "colab": {
          "base_uri": "https://localhost:8080/"
        },
        "id": "J9XkudT60235",
        "outputId": "7f6557c2-b304-4866-90d3-bd14ecf2c004"
      },
      "execution_count": null,
      "outputs": [
        {
          "output_type": "stream",
          "name": "stdout",
          "text": [
            "Epoch 1/8\n",
            "17/17 [==============================] - 28s 338ms/step - loss: 0.1175 - accuracy: 0.9457 - val_loss: 0.3795 - val_accuracy: 0.9147\n",
            "Epoch 2/8\n",
            "17/17 [==============================] - 5s 276ms/step - loss: 0.0218 - accuracy: 0.9961 - val_loss: 0.0476 - val_accuracy: 0.9845\n",
            "Epoch 3/8\n",
            "17/17 [==============================] - 4s 259ms/step - loss: 0.0104 - accuracy: 0.9942 - val_loss: 0.7125 - val_accuracy: 0.9264\n",
            "Epoch 4/8\n",
            "17/17 [==============================] - 4s 257ms/step - loss: 0.0012 - accuracy: 1.0000 - val_loss: 0.7529 - val_accuracy: 0.9264\n",
            "Epoch 5/8\n",
            "17/17 [==============================] - 5s 283ms/step - loss: 7.3477e-05 - accuracy: 1.0000 - val_loss: 1.6751 - val_accuracy: 0.8721\n",
            "Epoch 6/8\n",
            "17/17 [==============================] - 4s 261ms/step - loss: 7.0781e-05 - accuracy: 1.0000 - val_loss: 2.1138 - val_accuracy: 0.8605\n",
            "Epoch 7/8\n",
            "17/17 [==============================] - 5s 277ms/step - loss: 1.6055e-05 - accuracy: 1.0000 - val_loss: 4.2978 - val_accuracy: 0.7558\n",
            "Epoch 8/8\n",
            "17/17 [==============================] - 4s 263ms/step - loss: 1.1757e-05 - accuracy: 1.0000 - val_loss: 3.9845 - val_accuracy: 0.7597\n"
          ]
        }
      ]
    },
    {
      "cell_type": "markdown",
      "source": [
        "## **CNN**"
      ],
      "metadata": {
        "id": "2yXfIoLixtq5"
      }
    },
    {
      "cell_type": "code",
      "source": [
        "model4 = Sequential()\n",
        "model4.add(Conv2D(16, kernel_size=3, activation='relu', input_shape=(height, width, 3)))\n",
        "model4.add(MaxPooling2D(pool_size=(2, 2)))\n",
        "model4.add(Flatten())\n",
        "model4.add(Dense(16, activation='relu'))\n",
        "model4.add(Dropout(0.2))\n",
        "model4.add(Dense(2, activation='softmax'))\n"
      ],
      "metadata": {
        "id": "Bm1R1QSq3-U0"
      },
      "execution_count": null,
      "outputs": []
    },
    {
      "cell_type": "code",
      "source": [
        "epochs=8\n",
        "model4.compile(loss='categorical_crossentropy', optimizer=\"adam\", metrics=['accuracy'])\n",
        "stats=model4.fit(X_train, y_train, epochs=epochs, validation_split=0.2)\n",
        "model4.summary()"
      ],
      "metadata": {
        "colab": {
          "base_uri": "https://localhost:8080/"
        },
        "id": "hUoeioAE4Hph",
        "outputId": "d254ac42-462f-4fe9-a8cc-35d67553b35b"
      },
      "execution_count": null,
      "outputs": [
        {
          "output_type": "stream",
          "name": "stdout",
          "text": [
            "Epoch 1/8\n",
            "26/26 [==============================] - 4s 64ms/step - loss: 456.5215 - accuracy: 0.5376 - val_loss: 0.6925 - val_accuracy: 0.5411\n",
            "Epoch 2/8\n",
            "26/26 [==============================] - 1s 28ms/step - loss: 0.6915 - accuracy: 0.5667 - val_loss: 0.6918 - val_accuracy: 0.5411\n",
            "Epoch 3/8\n",
            "26/26 [==============================] - 1s 25ms/step - loss: 0.6904 - accuracy: 0.5667 - val_loss: 0.6913 - val_accuracy: 0.5411\n",
            "Epoch 4/8\n",
            "26/26 [==============================] - 1s 27ms/step - loss: 0.6894 - accuracy: 0.5667 - val_loss: 0.6908 - val_accuracy: 0.5411\n",
            "Epoch 5/8\n",
            "26/26 [==============================] - 1s 27ms/step - loss: 0.6885 - accuracy: 0.5667 - val_loss: 0.6904 - val_accuracy: 0.5411\n",
            "Epoch 6/8\n",
            "26/26 [==============================] - 1s 27ms/step - loss: 0.6879 - accuracy: 0.5667 - val_loss: 0.6901 - val_accuracy: 0.5411\n",
            "Epoch 7/8\n",
            "26/26 [==============================] - 1s 27ms/step - loss: 0.6871 - accuracy: 0.5667 - val_loss: 0.6900 - val_accuracy: 0.5411\n",
            "Epoch 8/8\n",
            "26/26 [==============================] - 1s 34ms/step - loss: 0.6866 - accuracy: 0.5667 - val_loss: 0.6899 - val_accuracy: 0.5411\n",
            "Model: \"sequential_3\"\n",
            "_________________________________________________________________\n",
            " Layer (type)                Output Shape              Param #   \n",
            "=================================================================\n",
            " conv2d (Conv2D)             (None, 222, 222, 16)      448       \n",
            "                                                                 \n",
            " max_pooling2d (MaxPooling2  (None, 111, 111, 16)      0         \n",
            " D)                                                              \n",
            "                                                                 \n",
            " flatten_2 (Flatten)         (None, 197136)            0         \n",
            "                                                                 \n",
            " dense_3 (Dense)             (None, 16)                3154192   \n",
            "                                                                 \n",
            " dropout_1 (Dropout)         (None, 16)                0         \n",
            "                                                                 \n",
            " dense_4 (Dense)             (None, 2)                 34        \n",
            "                                                                 \n",
            "=================================================================\n",
            "Total params: 3154674 (12.03 MB)\n",
            "Trainable params: 3154674 (12.03 MB)\n",
            "Non-trainable params: 0 (0.00 Byte)\n",
            "_________________________________________________________________\n"
          ]
        }
      ]
    },
    {
      "cell_type": "code",
      "source": [
        "model4 = Sequential()\n",
        "model4.add(Conv2D(128, kernel_size=3, activation='relu', input_shape=(height, width, 3)))\n",
        "model4.add(MaxPooling2D(pool_size=(3, 3)))\n",
        "model4.add(Conv2D(64, kernel_size=3, activation='relu'))\n",
        "model4.add(MaxPooling2D(pool_size=(3, 3)))\n",
        "model4.add(Conv2D(64, kernel_size=3, activation='relu'))\n",
        "model4.add(MaxPooling2D(pool_size=(3, 3)))\n",
        "model4.add(Flatten())\n",
        "model4.add(Dense(256, activation='relu'))\n",
        "model4.add(Dropout(0.5))\n",
        "model4.add(Dense(2, activation='softmax'))\n"
      ],
      "metadata": {
        "id": "odWYdmMK4Zsg"
      },
      "execution_count": null,
      "outputs": []
    },
    {
      "cell_type": "code",
      "source": [
        "epochs=8\n",
        "model4.compile(loss='categorical_crossentropy', optimizer=\"adam\", metrics=['accuracy'])\n",
        "stats=model4.fit(X_train, y_train, epochs=epochs, validation_split=0.2)\n",
        "model4.summary()"
      ],
      "metadata": {
        "colab": {
          "base_uri": "https://localhost:8080/"
        },
        "id": "hA_IjKSg4dzT",
        "outputId": "1be6d42d-4032-49ee-9a07-ea8a9b0d85d9"
      },
      "execution_count": null,
      "outputs": [
        {
          "output_type": "stream",
          "name": "stdout",
          "text": [
            "Epoch 1/8\n",
            "26/26 [==============================] - 9s 189ms/step - loss: 12.7096 - accuracy: 0.6153 - val_loss: 0.3247 - val_accuracy: 0.8406\n",
            "Epoch 2/8\n",
            "26/26 [==============================] - 2s 90ms/step - loss: 0.1561 - accuracy: 0.9308 - val_loss: 0.0408 - val_accuracy: 0.9952\n",
            "Epoch 3/8\n",
            "26/26 [==============================] - 2s 93ms/step - loss: 0.0598 - accuracy: 0.9794 - val_loss: 0.0238 - val_accuracy: 0.9903\n",
            "Epoch 4/8\n",
            "26/26 [==============================] - 2s 83ms/step - loss: 0.0408 - accuracy: 0.9818 - val_loss: 0.0169 - val_accuracy: 0.9952\n",
            "Epoch 5/8\n",
            "26/26 [==============================] - 2s 88ms/step - loss: 0.0194 - accuracy: 0.9964 - val_loss: 0.0186 - val_accuracy: 0.9952\n",
            "Epoch 6/8\n",
            "26/26 [==============================] - 2s 82ms/step - loss: 0.0298 - accuracy: 0.9891 - val_loss: 0.0224 - val_accuracy: 0.9903\n",
            "Epoch 7/8\n",
            "26/26 [==============================] - 2s 82ms/step - loss: 0.0131 - accuracy: 0.9964 - val_loss: 0.0073 - val_accuracy: 1.0000\n",
            "Epoch 8/8\n",
            "26/26 [==============================] - 2s 89ms/step - loss: 0.0110 - accuracy: 0.9964 - val_loss: 0.0347 - val_accuracy: 0.9855\n",
            "Model: \"sequential_4\"\n",
            "_________________________________________________________________\n",
            " Layer (type)                Output Shape              Param #   \n",
            "=================================================================\n",
            " conv2d_1 (Conv2D)           (None, 222, 222, 128)     3584      \n",
            "                                                                 \n",
            " max_pooling2d_1 (MaxPoolin  (None, 74, 74, 128)       0         \n",
            " g2D)                                                            \n",
            "                                                                 \n",
            " conv2d_2 (Conv2D)           (None, 72, 72, 64)        73792     \n",
            "                                                                 \n",
            " max_pooling2d_2 (MaxPoolin  (None, 24, 24, 64)        0         \n",
            " g2D)                                                            \n",
            "                                                                 \n",
            " conv2d_3 (Conv2D)           (None, 22, 22, 64)        36928     \n",
            "                                                                 \n",
            " max_pooling2d_3 (MaxPoolin  (None, 7, 7, 64)          0         \n",
            " g2D)                                                            \n",
            "                                                                 \n",
            " flatten_3 (Flatten)         (None, 3136)              0         \n",
            "                                                                 \n",
            " dense_5 (Dense)             (None, 256)               803072    \n",
            "                                                                 \n",
            " dropout_2 (Dropout)         (None, 256)               0         \n",
            "                                                                 \n",
            " dense_6 (Dense)             (None, 2)                 514       \n",
            "                                                                 \n",
            "=================================================================\n",
            "Total params: 917890 (3.50 MB)\n",
            "Trainable params: 917890 (3.50 MB)\n",
            "Non-trainable params: 0 (0.00 Byte)\n",
            "_________________________________________________________________\n"
          ]
        }
      ]
    },
    {
      "cell_type": "code",
      "source": [
        "model4=Sequential()\n",
        "model4.add(Conv2D(64, kernel_size=3, activation='relu', input_shape=(height, width, 3)))\n",
        "model4.add(MaxPooling2D(pool_size=(3, 3)))\n",
        "model4.add(Conv2D(32, kernel_size=3, activation='relu'))\n",
        "model4.add(MaxPooling2D(pool_size=(3, 3)))\n",
        "model4.add(Conv2D(32, kernel_size=3, activation='relu'))\n",
        "model4.add(MaxPooling2D(pool_size=(3, 3)))\n",
        "model4.add(Flatten())\n",
        "model4.add(Dense(64, activation='relu'))\n",
        "model4.add(Dropout(0.45))\n",
        "model4.add(Dense(2, activation='softmax'))"
      ],
      "metadata": {
        "id": "JMQDxJZjxv0d"
      },
      "execution_count": null,
      "outputs": []
    },
    {
      "cell_type": "code",
      "source": [
        "epochs=8\n",
        "model4.compile(loss='categorical_crossentropy', optimizer=\"adam\", metrics=['accuracy'])\n",
        "stats=model4.fit(X_train, y_train, epochs=epochs, validation_split=0.2)\n",
        "model4.summary()"
      ],
      "metadata": {
        "colab": {
          "base_uri": "https://localhost:8080/"
        },
        "id": "OKVTQ1WWxyEH",
        "outputId": "8361170c-f0ec-43ff-db8b-819b66fd88df"
      },
      "execution_count": null,
      "outputs": [
        {
          "output_type": "stream",
          "name": "stdout",
          "text": [
            "Epoch 1/8\n",
            "26/26 [==============================] - 6s 117ms/step - loss: 3.3833 - accuracy: 0.6796 - val_loss: 0.2195 - val_accuracy: 0.9275\n",
            "Epoch 2/8\n",
            "26/26 [==============================] - 1s 47ms/step - loss: 0.2733 - accuracy: 0.8871 - val_loss: 0.1029 - val_accuracy: 0.9855\n",
            "Epoch 3/8\n",
            "26/26 [==============================] - 1s 46ms/step - loss: 0.1088 - accuracy: 0.9648 - val_loss: 0.1188 - val_accuracy: 0.9662\n",
            "Epoch 4/8\n",
            "26/26 [==============================] - 1s 46ms/step - loss: 0.0843 - accuracy: 0.9709 - val_loss: 0.0819 - val_accuracy: 0.9855\n",
            "Epoch 5/8\n",
            "26/26 [==============================] - 1s 51ms/step - loss: 0.0463 - accuracy: 0.9879 - val_loss: 0.0824 - val_accuracy: 0.9903\n",
            "Epoch 6/8\n",
            "26/26 [==============================] - 1s 57ms/step - loss: 0.0498 - accuracy: 0.9842 - val_loss: 0.0401 - val_accuracy: 0.9903\n",
            "Epoch 7/8\n",
            "26/26 [==============================] - 1s 49ms/step - loss: 0.0292 - accuracy: 0.9915 - val_loss: 0.0575 - val_accuracy: 0.9903\n",
            "Epoch 8/8\n",
            "26/26 [==============================] - 1s 47ms/step - loss: 0.0202 - accuracy: 0.9915 - val_loss: 0.0563 - val_accuracy: 0.9903\n",
            "Model: \"sequential_5\"\n",
            "_________________________________________________________________\n",
            " Layer (type)                Output Shape              Param #   \n",
            "=================================================================\n",
            " conv2d_4 (Conv2D)           (None, 222, 222, 64)      1792      \n",
            "                                                                 \n",
            " max_pooling2d_4 (MaxPoolin  (None, 74, 74, 64)        0         \n",
            " g2D)                                                            \n",
            "                                                                 \n",
            " conv2d_5 (Conv2D)           (None, 72, 72, 32)        18464     \n",
            "                                                                 \n",
            " max_pooling2d_5 (MaxPoolin  (None, 24, 24, 32)        0         \n",
            " g2D)                                                            \n",
            "                                                                 \n",
            " conv2d_6 (Conv2D)           (None, 22, 22, 32)        9248      \n",
            "                                                                 \n",
            " max_pooling2d_6 (MaxPoolin  (None, 7, 7, 32)          0         \n",
            " g2D)                                                            \n",
            "                                                                 \n",
            " flatten_4 (Flatten)         (None, 1568)              0         \n",
            "                                                                 \n",
            " dense_7 (Dense)             (None, 64)                100416    \n",
            "                                                                 \n",
            " dropout_3 (Dropout)         (None, 64)                0         \n",
            "                                                                 \n",
            " dense_8 (Dense)             (None, 2)                 130       \n",
            "                                                                 \n",
            "=================================================================\n",
            "Total params: 130050 (508.01 KB)\n",
            "Trainable params: 130050 (508.01 KB)\n",
            "Non-trainable params: 0 (0.00 Byte)\n",
            "_________________________________________________________________\n"
          ]
        }
      ]
    },
    {
      "cell_type": "code",
      "source": [
        "print('Accuracy:')\n",
        "_, accuracy=model4.evaluate(X_test, y_test)"
      ],
      "metadata": {
        "colab": {
          "base_uri": "https://localhost:8080/"
        },
        "id": "bpxVVo94xz1P",
        "outputId": "6efb52b0-65fc-4e87-b9e1-f09931a906c6"
      },
      "execution_count": null,
      "outputs": [
        {
          "output_type": "stream",
          "name": "stdout",
          "text": [
            "Accuracy:\n",
            "9/9 [==============================] - 0s 42ms/step - loss: 0.0612 - accuracy: 0.9845\n"
          ]
        }
      ]
    },
    {
      "cell_type": "code",
      "source": [
        "classes_predicted=model4.predict(X_test)"
      ],
      "metadata": {
        "colab": {
          "base_uri": "https://localhost:8080/"
        },
        "id": "SkgNKuuzzuld",
        "outputId": "50d6ec47-faca-4ee2-8a9c-a25fc9ec00fc"
      },
      "execution_count": null,
      "outputs": [
        {
          "output_type": "stream",
          "name": "stdout",
          "text": [
            "9/9 [==============================] - 0s 16ms/step\n"
          ]
        }
      ]
    },
    {
      "cell_type": "code",
      "source": [],
      "metadata": {
        "id": "Csq3xuYn1nYj"
      },
      "execution_count": null,
      "outputs": []
    }
  ]
}