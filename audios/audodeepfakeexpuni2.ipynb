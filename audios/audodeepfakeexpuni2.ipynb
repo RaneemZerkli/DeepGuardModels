{
 "cells": [
  {
   "cell_type": "code",
   "execution_count": 1,
   "id": "7ed73552",
   "metadata": {},
   "outputs": [],
   "source": [
    "data_path=\"for-rerecorded/training\""
   ]
  },
  {
   "cell_type": "code",
   "execution_count": 2,
   "id": "c3ad38e5",
   "metadata": {},
   "outputs": [],
   "source": [
    "import os"
   ]
  },
  {
   "cell_type": "code",
   "execution_count": 3,
   "id": "599bca21",
   "metadata": {},
   "outputs": [],
   "source": [
    "def extract_features(file_path, mfcc=True, chroma=True, mel=True):\n",
    "    audio, sample_rate = librosa.load(file_path, res_type='kaiser_fast')\n",
    "    features = []\n",
    "    if mfcc:\n",
    "        mfccs = np.mean(librosa.feature.mfcc(y=audio, sr=sample_rate, n_mfcc=13), axis=1)\n",
    "        features.extend(mfccs)\n",
    "    if chroma:\n",
    "        chroma = np.mean(librosa.feature.chroma_stft(y=audio, sr=sample_rate), axis=1)\n",
    "        features.extend(chroma)\n",
    "    if mel:\n",
    "        mel = np.mean(librosa.feature.melspectrogram(y=audio, sr=sample_rate), axis=1)\n",
    "        features.extend(mel)\n",
    "    return features"
   ]
  },
  {
   "cell_type": "code",
   "execution_count": 11,
   "id": "10bd2785",
   "metadata": {},
   "outputs": [],
   "source": [
    "import librosa\n",
    "import numpy as np"
   ]
  },
  {
   "cell_type": "code",
   "execution_count": 12,
   "id": "bb37181d",
   "metadata": {},
   "outputs": [],
   "source": [
    "def preprocess_dataset(data_path, labels):\n",
    "    X = []\n",
    "    y = []\n",
    "    for label, folder in enumerate(labels):\n",
    "        for filename in os.listdir(os.path.join(data_path, folder)):\n",
    "            file_path = os.path.join(data_path, folder, filename)\n",
    "            features = extract_features(file_path)\n",
    "            X.append(features)\n",
    "            y.append(label)\n",
    "    return np.array(X), np.array(y)"
   ]
  },
  {
   "cell_type": "code",
   "execution_count": 13,
   "id": "18bacfcd",
   "metadata": {},
   "outputs": [],
   "source": [
    "labels = [\"fake\", \"real\"]"
   ]
  },
  {
   "cell_type": "code",
   "execution_count": 14,
   "id": "67db4751",
   "metadata": {},
   "outputs": [],
   "source": [
    "X, y = preprocess_dataset(data_path, labels)"
   ]
  },
  {
   "cell_type": "code",
   "execution_count": 15,
   "id": "48de8c32",
   "metadata": {},
   "outputs": [],
   "source": [
    "data_path1=\"for-rerecorded/validation\""
   ]
  },
  {
   "cell_type": "code",
   "execution_count": 16,
   "id": "2b7b0eb8",
   "metadata": {},
   "outputs": [],
   "source": [
    "X1, y1 = preprocess_dataset(data_path1, labels)"
   ]
  },
  {
   "cell_type": "code",
   "execution_count": 17,
   "id": "d4e56b2f",
   "metadata": {},
   "outputs": [],
   "source": [
    "X_train=X"
   ]
  },
  {
   "cell_type": "code",
   "execution_count": 18,
   "id": "eb790978",
   "metadata": {},
   "outputs": [],
   "source": [
    "y_train=y"
   ]
  },
  {
   "cell_type": "code",
   "execution_count": 19,
   "id": "9e2aa4ba",
   "metadata": {},
   "outputs": [],
   "source": [
    "X_val=X1"
   ]
  },
  {
   "cell_type": "code",
   "execution_count": 20,
   "id": "19daeab6",
   "metadata": {},
   "outputs": [],
   "source": [
    "y_val=y1"
   ]
  },
  {
   "cell_type": "code",
   "execution_count": 21,
   "id": "c38af4ee",
   "metadata": {},
   "outputs": [],
   "source": [
    "from tensorflow.keras.models import Model,Sequential\n",
    "from tensorflow.keras.layers import Input, Dense,Conv2D,MaxPooling2D"
   ]
  },
  {
   "cell_type": "code",
   "execution_count": 142,
   "id": "65b7184a",
   "metadata": {},
   "outputs": [],
   "source": [
    "\n",
    "model = Sequential()\n",
    "\n",
    "# Assuming input_shape is the shape of your input features\n",
    "\n",
    "\n",
    "# Convolutional layers\n",
    "model.add(Conv1D(32, kernel_size=3, activation='relu', input_shape=(X_train.shape[1], 1)))\n",
    "model.add(MaxPool1D(pool_size=2))\n",
    "model.add(Conv1D(64, kernel_size=3, activation='relu'))\n",
    "model.add(MaxPool1D(pool_size=2))\n",
    "model.add(Dense(1, activation='sigmoid'))"
   ]
  },
  {
   "cell_type": "code",
   "execution_count": 143,
   "id": "051054bf",
   "metadata": {},
   "outputs": [],
   "source": [
    "\n",
    "model.compile(optimizer='adam', loss='binary_crossentropy', metrics=['accuracy'])"
   ]
  },
  {
   "cell_type": "code",
   "execution_count": 22,
   "id": "00f85139",
   "metadata": {},
   "outputs": [],
   "source": [
    "import tensorflow as tf"
   ]
  },
  {
   "cell_type": "code",
   "execution_count": 23,
   "id": "0411c177",
   "metadata": {},
   "outputs": [],
   "source": [
    "model1 = tf.keras.Sequential([\n",
    "    tf.keras.layers.LSTM(64, input_shape=(X_train.shape[1], 1))\n",
    "    ,\n",
    "    tf.keras.layers.Dropout(0.5),  # Add dropout layer\n",
    "    tf.keras.layers.Dense(64, activation='relu'),\n",
    "    tf.keras.layers.Dropout(0.5),  # Add dropout layer\n",
    "    tf.keras.layers.Dense(1, activation='sigmoid', kernel_regularizer='l1')\n",
    "])"
   ]
  },
  {
   "cell_type": "code",
   "execution_count": 24,
   "id": "1673606b",
   "metadata": {},
   "outputs": [],
   "source": [
    "\n",
    "model1.compile(optimizer='adam', loss='binary_crossentropy', metrics=['accuracy'])"
   ]
  },
  {
   "cell_type": "code",
   "execution_count": 25,
   "id": "33efa807",
   "metadata": {},
   "outputs": [],
   "source": [
    "X_train1 = np.reshape(X_train, (X_train.shape[0], X_train.shape[1], 1))\n",
    "\n"
   ]
  },
  {
   "cell_type": "code",
   "execution_count": 27,
   "id": "ff3e10d4",
   "metadata": {},
   "outputs": [
    {
     "name": "stdout",
     "output_type": "stream",
     "text": [
      "Epoch 1/20\n",
      "150/150 [==============================] - 9s 20ms/step - loss: 0.7523 - accuracy: 0.5527\n",
      "Epoch 2/20\n",
      "150/150 [==============================] - 2s 16ms/step - loss: 0.6840 - accuracy: 0.6215\n",
      "Epoch 3/20\n",
      "150/150 [==============================] - 2s 14ms/step - loss: 0.6865 - accuracy: 0.6010\n",
      "Epoch 4/20\n",
      "150/150 [==============================] - 2s 13ms/step - loss: 0.6697 - accuracy: 0.6300\n",
      "Epoch 5/20\n",
      "150/150 [==============================] - 2s 13ms/step - loss: 0.6615 - accuracy: 0.6400\n",
      "Epoch 6/20\n",
      "150/150 [==============================] - 2s 13ms/step - loss: 0.6235 - accuracy: 0.6906\n",
      "Epoch 7/20\n",
      "150/150 [==============================] - 2s 13ms/step - loss: 0.6103 - accuracy: 0.7106\n",
      "Epoch 8/20\n",
      "150/150 [==============================] - 2s 13ms/step - loss: 0.5643 - accuracy: 0.7358\n",
      "Epoch 9/20\n",
      "150/150 [==============================] - 2s 14ms/step - loss: 0.5252 - accuracy: 0.7654\n",
      "Epoch 10/20\n",
      "150/150 [==============================] - 2s 13ms/step - loss: 0.4929 - accuracy: 0.7846\n",
      "Epoch 11/20\n",
      "150/150 [==============================] - 2s 14ms/step - loss: 0.4448 - accuracy: 0.8023\n",
      "Epoch 12/20\n",
      "150/150 [==============================] - 2s 14ms/step - loss: 0.4679 - accuracy: 0.7944\n",
      "Epoch 13/20\n",
      "150/150 [==============================] - 2s 13ms/step - loss: 0.4524 - accuracy: 0.8000\n",
      "Epoch 14/20\n",
      "150/150 [==============================] - 2s 13ms/step - loss: 0.4283 - accuracy: 0.8108\n",
      "Epoch 15/20\n",
      "150/150 [==============================] - 2s 13ms/step - loss: 0.4296 - accuracy: 0.8100\n",
      "Epoch 16/20\n",
      "150/150 [==============================] - 2s 13ms/step - loss: 0.4399 - accuracy: 0.8094\n",
      "Epoch 17/20\n",
      "150/150 [==============================] - 2s 13ms/step - loss: 0.3856 - accuracy: 0.8456\n",
      "Epoch 18/20\n",
      "150/150 [==============================] - 2s 13ms/step - loss: 0.4157 - accuracy: 0.8223\n",
      "Epoch 19/20\n",
      "150/150 [==============================] - 2s 13ms/step - loss: 0.3868 - accuracy: 0.8421\n",
      "Epoch 20/20\n",
      "150/150 [==============================] - 2s 13ms/step - loss: 0.3778 - accuracy: 0.8413\n"
     ]
    },
    {
     "data": {
      "text/plain": [
       "<keras.callbacks.History at 0x2159639bc10>"
      ]
     },
     "execution_count": 27,
     "metadata": {},
     "output_type": "execute_result"
    }
   ],
   "source": [
    "model1.fit(X_train1, y_train, epochs=20, batch_size=32,steps_per_epoch=150)"
   ]
  },
  {
   "cell_type": "code",
   "execution_count": 28,
   "id": "78498d63",
   "metadata": {},
   "outputs": [
    {
     "name": "stdout",
     "output_type": "stream",
     "text": [
      "Epoch 1/20\n",
      "150/150 [==============================] - 2s 15ms/step - loss: 0.4094 - accuracy: 0.8300\n",
      "Epoch 2/20\n",
      "150/150 [==============================] - 2s 14ms/step - loss: 0.3669 - accuracy: 0.8583\n",
      "Epoch 3/20\n",
      "150/150 [==============================] - 2s 14ms/step - loss: 0.3671 - accuracy: 0.8527\n",
      "Epoch 4/20\n",
      "150/150 [==============================] - 2s 14ms/step - loss: 0.3736 - accuracy: 0.8573\n",
      "Epoch 5/20\n",
      "150/150 [==============================] - 2s 15ms/step - loss: 0.3555 - accuracy: 0.8640\n",
      "Epoch 6/20\n",
      "150/150 [==============================] - 2s 14ms/step - loss: 0.3452 - accuracy: 0.8700\n",
      "Epoch 7/20\n",
      "150/150 [==============================] - 2s 13ms/step - loss: 0.3305 - accuracy: 0.8752\n",
      "Epoch 8/20\n",
      "150/150 [==============================] - 2s 14ms/step - loss: 0.3312 - accuracy: 0.8746\n",
      "Epoch 9/20\n",
      "150/150 [==============================] - 2s 14ms/step - loss: 0.3963 - accuracy: 0.8396\n",
      "Epoch 10/20\n",
      "150/150 [==============================] - 2s 14ms/step - loss: 0.3812 - accuracy: 0.8485\n",
      "Epoch 11/20\n",
      "150/150 [==============================] - 2s 14ms/step - loss: 0.3226 - accuracy: 0.8819\n",
      "Epoch 12/20\n",
      "150/150 [==============================] - 2s 14ms/step - loss: 0.3436 - accuracy: 0.8708\n",
      "Epoch 13/20\n",
      "150/150 [==============================] - 2s 15ms/step - loss: 0.3242 - accuracy: 0.8765\n",
      "Epoch 14/20\n",
      "150/150 [==============================] - 2s 14ms/step - loss: 0.3180 - accuracy: 0.8779\n",
      "Epoch 15/20\n",
      "150/150 [==============================] - 2s 14ms/step - loss: 0.3151 - accuracy: 0.8808\n",
      "Epoch 16/20\n",
      "150/150 [==============================] - 2s 14ms/step - loss: 0.2810 - accuracy: 0.8992\n",
      "Epoch 17/20\n",
      "150/150 [==============================] - 2s 14ms/step - loss: 0.3051 - accuracy: 0.8875\n",
      "Epoch 18/20\n",
      "150/150 [==============================] - 2s 14ms/step - loss: 0.2883 - accuracy: 0.8952\n",
      "Epoch 19/20\n",
      "150/150 [==============================] - 2s 13ms/step - loss: 0.2879 - accuracy: 0.8983\n",
      "Epoch 20/20\n",
      "150/150 [==============================] - 2s 14ms/step - loss: 0.2723 - accuracy: 0.9046\n"
     ]
    },
    {
     "data": {
      "text/plain": [
       "<keras.callbacks.History at 0x215cd75ac80>"
      ]
     },
     "execution_count": 28,
     "metadata": {},
     "output_type": "execute_result"
    }
   ],
   "source": [
    "model1.fit(X_train1, y_train, epochs=20, batch_size=32,steps_per_epoch=150)"
   ]
  },
  {
   "cell_type": "code",
   "execution_count": 29,
   "id": "1872275d",
   "metadata": {},
   "outputs": [
    {
     "name": "stdout",
     "output_type": "stream",
     "text": [
      "Epoch 1/20\n",
      "150/150 [==============================] - 4s 21ms/step - loss: 0.2450 - accuracy: 0.9161\n",
      "Epoch 2/20\n",
      "150/150 [==============================] - 3s 19ms/step - loss: 0.2299 - accuracy: 0.9182\n",
      "Epoch 3/20\n",
      "150/150 [==============================] - 3s 18ms/step - loss: 0.2224 - accuracy: 0.9230\n",
      "Epoch 4/20\n",
      "150/150 [==============================] - 3s 19ms/step - loss: 0.2239 - accuracy: 0.9235\n",
      "Epoch 5/20\n",
      "150/150 [==============================] - 3s 18ms/step - loss: 0.2141 - accuracy: 0.9265\n",
      "Epoch 6/20\n",
      "150/150 [==============================] - 3s 19ms/step - loss: 0.2076 - accuracy: 0.9305\n",
      "Epoch 7/20\n",
      "150/150 [==============================] - 3s 19ms/step - loss: 0.1994 - accuracy: 0.9306\n",
      "Epoch 8/20\n",
      "150/150 [==============================] - 3s 18ms/step - loss: 0.1945 - accuracy: 0.9336\n",
      "Epoch 9/20\n",
      "150/150 [==============================] - 3s 18ms/step - loss: 0.1933 - accuracy: 0.9346\n",
      "Epoch 10/20\n",
      "150/150 [==============================] - 3s 19ms/step - loss: 0.1952 - accuracy: 0.9341\n",
      "Epoch 11/20\n",
      " 98/150 [==================>...........] - ETA: 0s - loss: 0.1845 - accuracy: 0.9373WARNING:tensorflow:Your input ran out of data; interrupting training. Make sure that your dataset or generator can generate at least `steps_per_epoch * epochs` batches (in this case, 3000 batches). You may need to use the repeat() function when building your dataset.\n",
      "150/150 [==============================] - 3s 18ms/step - loss: 0.1832 - accuracy: 0.9378\n"
     ]
    },
    {
     "data": {
      "text/plain": [
       "<keras.callbacks.History at 0x215cd792620>"
      ]
     },
     "execution_count": 29,
     "metadata": {},
     "output_type": "execute_result"
    }
   ],
   "source": [
    "model1.fit(X_train1, y_train, epochs=20, batch_size=128,steps_per_epoch=150)"
   ]
  },
  {
   "cell_type": "code",
   "execution_count": 30,
   "id": "099edff9",
   "metadata": {},
   "outputs": [
    {
     "name": "stdout",
     "output_type": "stream",
     "text": [
      "Epoch 1/20\n",
      "80/80 [==============================] - 2s 21ms/step - loss: 0.1776 - accuracy: 0.9406\n",
      "Epoch 2/20\n",
      "80/80 [==============================] - 2s 19ms/step - loss: 0.1811 - accuracy: 0.9387\n",
      "Epoch 3/20\n",
      "80/80 [==============================] - 2s 20ms/step - loss: 0.1873 - accuracy: 0.9350\n",
      "Epoch 4/20\n",
      "80/80 [==============================] - 2s 19ms/step - loss: 0.1782 - accuracy: 0.9398\n",
      "Epoch 5/20\n",
      "80/80 [==============================] - 1s 18ms/step - loss: 0.1712 - accuracy: 0.9434\n",
      "Epoch 6/20\n",
      "80/80 [==============================] - 2s 19ms/step - loss: 0.1642 - accuracy: 0.9461\n",
      "Epoch 7/20\n",
      "80/80 [==============================] - 2s 20ms/step - loss: 0.1709 - accuracy: 0.9440\n",
      "Epoch 8/20\n",
      "80/80 [==============================] - 1s 19ms/step - loss: 0.1715 - accuracy: 0.9432\n",
      "Epoch 9/20\n",
      "80/80 [==============================] - 2s 19ms/step - loss: 0.1655 - accuracy: 0.9458\n",
      "Epoch 10/20\n",
      "80/80 [==============================] - 2s 19ms/step - loss: 0.1709 - accuracy: 0.9421\n",
      "Epoch 11/20\n",
      "80/80 [==============================] - 1s 19ms/step - loss: 0.1628 - accuracy: 0.9463\n",
      "Epoch 12/20\n",
      "80/80 [==============================] - 2s 19ms/step - loss: 0.1619 - accuracy: 0.9421\n",
      "Epoch 13/20\n",
      "80/80 [==============================] - 1s 19ms/step - loss: 0.1538 - accuracy: 0.9475\n",
      "Epoch 14/20\n",
      "80/80 [==============================] - 1s 18ms/step - loss: 0.1505 - accuracy: 0.9531\n",
      "Epoch 15/20\n",
      "80/80 [==============================] - 2s 19ms/step - loss: 0.1653 - accuracy: 0.9431\n",
      "Epoch 16/20\n",
      "80/80 [==============================] - 1s 19ms/step - loss: 0.1530 - accuracy: 0.9481\n",
      "Epoch 17/20\n",
      "80/80 [==============================] - 2s 19ms/step - loss: 0.1452 - accuracy: 0.9505\n",
      "Epoch 18/20\n",
      "80/80 [==============================] - 2s 19ms/step - loss: 0.1534 - accuracy: 0.9464\n",
      "Epoch 19/20\n",
      "80/80 [==============================] - 2s 20ms/step - loss: 0.1521 - accuracy: 0.9501\n",
      "Epoch 20/20\n",
      "80/80 [==============================] - 2s 19ms/step - loss: 0.1505 - accuracy: 0.9492\n"
     ]
    },
    {
     "data": {
      "text/plain": [
       "<keras.callbacks.History at 0x215f5271900>"
      ]
     },
     "execution_count": 30,
     "metadata": {},
     "output_type": "execute_result"
    }
   ],
   "source": [
    "model1.fit(X_train1, y_train, epochs=20, batch_size=128,)"
   ]
  },
  {
   "cell_type": "code",
   "execution_count": 31,
   "id": "7ce942d7",
   "metadata": {},
   "outputs": [
    {
     "name": "stdout",
     "output_type": "stream",
     "text": [
      "Epoch 1/100\n",
      "80/80 [==============================] - 2s 21ms/step - loss: 0.1515 - accuracy: 0.9504\n",
      "Epoch 2/100\n",
      "80/80 [==============================] - 1s 19ms/step - loss: 0.1492 - accuracy: 0.9502\n",
      "Epoch 3/100\n",
      "80/80 [==============================] - 2s 19ms/step - loss: 0.1529 - accuracy: 0.9471\n",
      "Epoch 4/100\n",
      "80/80 [==============================] - 2s 19ms/step - loss: 0.1473 - accuracy: 0.9526\n",
      "Epoch 5/100\n",
      "80/80 [==============================] - 2s 19ms/step - loss: 0.1358 - accuracy: 0.9557\n",
      "Epoch 6/100\n",
      "80/80 [==============================] - 2s 19ms/step - loss: 0.1403 - accuracy: 0.9541\n",
      "Epoch 7/100\n",
      "80/80 [==============================] - 2s 19ms/step - loss: 0.1527 - accuracy: 0.9488\n",
      "Epoch 8/100\n",
      "80/80 [==============================] - 2s 19ms/step - loss: 0.1457 - accuracy: 0.9506\n",
      "Epoch 9/100\n",
      "80/80 [==============================] - 2s 19ms/step - loss: 0.1337 - accuracy: 0.9569\n",
      "Epoch 10/100\n",
      "80/80 [==============================] - 2s 20ms/step - loss: 0.1381 - accuracy: 0.9559\n",
      "Epoch 11/100\n",
      "80/80 [==============================] - 2s 20ms/step - loss: 0.1348 - accuracy: 0.9554\n",
      "Epoch 12/100\n",
      "80/80 [==============================] - 2s 20ms/step - loss: 0.1308 - accuracy: 0.9573\n",
      "Epoch 13/100\n",
      "80/80 [==============================] - 1s 18ms/step - loss: 0.1305 - accuracy: 0.9580\n",
      "Epoch 14/100\n",
      "80/80 [==============================] - 2s 19ms/step - loss: 0.1274 - accuracy: 0.9604\n",
      "Epoch 15/100\n",
      "80/80 [==============================] - 1s 19ms/step - loss: 0.1289 - accuracy: 0.9579\n",
      "Epoch 16/100\n",
      "80/80 [==============================] - 2s 19ms/step - loss: 0.1294 - accuracy: 0.9588\n",
      "Epoch 17/100\n",
      "80/80 [==============================] - 2s 19ms/step - loss: 0.1247 - accuracy: 0.9591\n",
      "Epoch 18/100\n",
      "80/80 [==============================] - 1s 19ms/step - loss: 0.1305 - accuracy: 0.9578\n",
      "Epoch 19/100\n",
      "80/80 [==============================] - 1s 18ms/step - loss: 0.1151 - accuracy: 0.9667\n",
      "Epoch 20/100\n",
      "80/80 [==============================] - 1s 19ms/step - loss: 0.1270 - accuracy: 0.9579\n",
      "Epoch 21/100\n",
      "80/80 [==============================] - 2s 19ms/step - loss: 0.1234 - accuracy: 0.9596\n",
      "Epoch 22/100\n",
      "80/80 [==============================] - 1s 18ms/step - loss: 0.1299 - accuracy: 0.9591\n",
      "Epoch 23/100\n",
      "80/80 [==============================] - 1s 18ms/step - loss: 0.1174 - accuracy: 0.9637\n",
      "Epoch 24/100\n",
      "80/80 [==============================] - 2s 19ms/step - loss: 0.1185 - accuracy: 0.9618\n",
      "Epoch 25/100\n",
      "80/80 [==============================] - 2s 19ms/step - loss: 0.1148 - accuracy: 0.9634\n",
      "Epoch 26/100\n",
      "80/80 [==============================] - 2s 19ms/step - loss: 0.1326 - accuracy: 0.9550\n",
      "Epoch 27/100\n",
      "80/80 [==============================] - 1s 19ms/step - loss: 0.1185 - accuracy: 0.9606\n",
      "Epoch 28/100\n",
      "80/80 [==============================] - 2s 19ms/step - loss: 0.1154 - accuracy: 0.9639\n",
      "Epoch 29/100\n",
      "80/80 [==============================] - 1s 18ms/step - loss: 0.1066 - accuracy: 0.9686\n",
      "Epoch 30/100\n",
      "80/80 [==============================] - 1s 18ms/step - loss: 0.1184 - accuracy: 0.9631\n",
      "Epoch 31/100\n",
      "80/80 [==============================] - 2s 19ms/step - loss: 0.1030 - accuracy: 0.9675\n",
      "Epoch 32/100\n",
      "80/80 [==============================] - 1s 18ms/step - loss: 0.1051 - accuracy: 0.9654\n",
      "Epoch 33/100\n",
      "80/80 [==============================] - 1s 19ms/step - loss: 0.1063 - accuracy: 0.9660\n",
      "Epoch 34/100\n",
      "80/80 [==============================] - 2s 19ms/step - loss: 0.1078 - accuracy: 0.9671\n",
      "Epoch 35/100\n",
      "80/80 [==============================] - 1s 19ms/step - loss: 0.1207 - accuracy: 0.9605\n",
      "Epoch 36/100\n",
      "80/80 [==============================] - 1s 18ms/step - loss: 0.1074 - accuracy: 0.9657\n",
      "Epoch 37/100\n",
      "80/80 [==============================] - 1s 18ms/step - loss: 0.1113 - accuracy: 0.9633\n",
      "Epoch 38/100\n",
      "80/80 [==============================] - 1s 19ms/step - loss: 0.1007 - accuracy: 0.9694\n",
      "Epoch 39/100\n",
      "80/80 [==============================] - 2s 20ms/step - loss: 0.1034 - accuracy: 0.9670\n",
      "Epoch 40/100\n",
      "80/80 [==============================] - 1s 19ms/step - loss: 0.1025 - accuracy: 0.9690\n",
      "Epoch 41/100\n",
      "80/80 [==============================] - 2s 19ms/step - loss: 0.1035 - accuracy: 0.9682\n",
      "Epoch 42/100\n",
      "80/80 [==============================] - 2s 19ms/step - loss: 0.1016 - accuracy: 0.9657\n",
      "Epoch 43/100\n",
      "80/80 [==============================] - 1s 18ms/step - loss: 0.0943 - accuracy: 0.9711\n",
      "Epoch 44/100\n",
      "80/80 [==============================] - 2s 19ms/step - loss: 0.0977 - accuracy: 0.9699\n",
      "Epoch 45/100\n",
      "80/80 [==============================] - 2s 20ms/step - loss: 0.1001 - accuracy: 0.9692\n",
      "Epoch 46/100\n",
      "80/80 [==============================] - 2s 19ms/step - loss: 0.0900 - accuracy: 0.9705\n",
      "Epoch 47/100\n",
      "80/80 [==============================] - 2s 19ms/step - loss: 0.0897 - accuracy: 0.9722\n",
      "Epoch 48/100\n",
      "80/80 [==============================] - 2s 19ms/step - loss: 0.1006 - accuracy: 0.9665\n",
      "Epoch 49/100\n",
      "80/80 [==============================] - 2s 19ms/step - loss: 0.0964 - accuracy: 0.9702\n",
      "Epoch 50/100\n",
      "80/80 [==============================] - 2s 19ms/step - loss: 0.0931 - accuracy: 0.9720\n",
      "Epoch 51/100\n",
      "80/80 [==============================] - 1s 19ms/step - loss: 0.0976 - accuracy: 0.9691\n",
      "Epoch 52/100\n",
      "80/80 [==============================] - 1s 19ms/step - loss: 0.0955 - accuracy: 0.9691\n",
      "Epoch 53/100\n",
      "80/80 [==============================] - 2s 19ms/step - loss: 0.0833 - accuracy: 0.9737\n",
      "Epoch 54/100\n",
      "80/80 [==============================] - 2s 19ms/step - loss: 0.0893 - accuracy: 0.9713\n",
      "Epoch 55/100\n",
      "80/80 [==============================] - 2s 21ms/step - loss: 0.0834 - accuracy: 0.9751\n",
      "Epoch 56/100\n",
      "80/80 [==============================] - 2s 20ms/step - loss: 0.0960 - accuracy: 0.9716\n",
      "Epoch 57/100\n",
      "80/80 [==============================] - 2s 20ms/step - loss: 0.0881 - accuracy: 0.9729\n",
      "Epoch 58/100\n",
      "80/80 [==============================] - 2s 19ms/step - loss: 0.0932 - accuracy: 0.9709\n",
      "Epoch 59/100\n",
      "80/80 [==============================] - 2s 19ms/step - loss: 0.0833 - accuracy: 0.9740\n",
      "Epoch 60/100\n",
      "80/80 [==============================] - 1s 19ms/step - loss: 0.0799 - accuracy: 0.9757\n",
      "Epoch 61/100\n",
      "80/80 [==============================] - 2s 19ms/step - loss: 0.0881 - accuracy: 0.9720\n",
      "Epoch 62/100\n",
      "80/80 [==============================] - 1s 18ms/step - loss: 0.0813 - accuracy: 0.9748\n",
      "Epoch 63/100\n",
      "80/80 [==============================] - 1s 18ms/step - loss: 0.0834 - accuracy: 0.9751\n",
      "Epoch 64/100\n",
      "80/80 [==============================] - 1s 18ms/step - loss: 0.0794 - accuracy: 0.9749\n",
      "Epoch 65/100\n",
      "80/80 [==============================] - 1s 19ms/step - loss: 0.0733 - accuracy: 0.9770\n",
      "Epoch 66/100\n",
      "80/80 [==============================] - 2s 20ms/step - loss: 0.0834 - accuracy: 0.9762\n",
      "Epoch 67/100\n",
      "80/80 [==============================] - 1s 18ms/step - loss: 0.0933 - accuracy: 0.9687\n",
      "Epoch 68/100\n",
      "80/80 [==============================] - 1s 18ms/step - loss: 0.0913 - accuracy: 0.9710\n",
      "Epoch 69/100\n",
      "80/80 [==============================] - 1s 18ms/step - loss: 0.0821 - accuracy: 0.9742\n",
      "Epoch 70/100\n",
      "80/80 [==============================] - 1s 18ms/step - loss: 0.0770 - accuracy: 0.9762\n",
      "Epoch 71/100\n",
      "80/80 [==============================] - 1s 18ms/step - loss: 0.0687 - accuracy: 0.9810\n",
      "Epoch 72/100\n",
      "80/80 [==============================] - 1s 18ms/step - loss: 0.0660 - accuracy: 0.9806\n",
      "Epoch 73/100\n",
      "80/80 [==============================] - 1s 18ms/step - loss: 0.0782 - accuracy: 0.9745\n",
      "Epoch 74/100\n",
      "80/80 [==============================] - 1s 19ms/step - loss: 0.0840 - accuracy: 0.9734\n",
      "Epoch 75/100\n",
      "80/80 [==============================] - 1s 19ms/step - loss: 0.0811 - accuracy: 0.9735\n",
      "Epoch 76/100\n",
      "80/80 [==============================] - 1s 18ms/step - loss: 0.0706 - accuracy: 0.9791\n",
      "Epoch 77/100\n",
      "80/80 [==============================] - 1s 18ms/step - loss: 0.0658 - accuracy: 0.9800\n",
      "Epoch 78/100\n",
      "80/80 [==============================] - 1s 18ms/step - loss: 0.0607 - accuracy: 0.9822\n",
      "Epoch 79/100\n",
      "80/80 [==============================] - 1s 18ms/step - loss: 0.0730 - accuracy: 0.9785\n",
      "Epoch 80/100\n",
      "80/80 [==============================] - 1s 17ms/step - loss: 0.0757 - accuracy: 0.9755\n",
      "Epoch 81/100\n",
      "80/80 [==============================] - 1s 18ms/step - loss: 0.0724 - accuracy: 0.9773\n",
      "Epoch 82/100\n",
      "80/80 [==============================] - 1s 18ms/step - loss: 0.0666 - accuracy: 0.9786\n",
      "Epoch 83/100\n",
      "80/80 [==============================] - 2s 19ms/step - loss: 0.0696 - accuracy: 0.9782\n",
      "Epoch 84/100\n",
      "80/80 [==============================] - 1s 18ms/step - loss: 0.0634 - accuracy: 0.9834\n",
      "Epoch 85/100\n",
      "80/80 [==============================] - 1s 18ms/step - loss: 0.0868 - accuracy: 0.9746\n",
      "Epoch 86/100\n",
      "80/80 [==============================] - 1s 18ms/step - loss: 0.0635 - accuracy: 0.9819\n",
      "Epoch 87/100\n",
      "80/80 [==============================] - 1s 18ms/step - loss: 0.0879 - accuracy: 0.9721\n",
      "Epoch 88/100\n",
      "80/80 [==============================] - 1s 18ms/step - loss: 0.0798 - accuracy: 0.9736\n",
      "Epoch 89/100\n",
      "80/80 [==============================] - 1s 17ms/step - loss: 0.0509 - accuracy: 0.9875\n",
      "Epoch 90/100\n",
      "80/80 [==============================] - 1s 19ms/step - loss: 0.0728 - accuracy: 0.9769\n",
      "Epoch 91/100\n",
      "80/80 [==============================] - 1s 18ms/step - loss: 0.0599 - accuracy: 0.9832\n",
      "Epoch 92/100\n",
      "80/80 [==============================] - 1s 18ms/step - loss: 0.0708 - accuracy: 0.9795\n",
      "Epoch 93/100\n",
      "80/80 [==============================] - 2s 19ms/step - loss: 0.0606 - accuracy: 0.9827\n",
      "Epoch 94/100\n",
      "80/80 [==============================] - 2s 19ms/step - loss: 0.0637 - accuracy: 0.9799\n",
      "Epoch 95/100\n",
      "80/80 [==============================] - 1s 18ms/step - loss: 0.0667 - accuracy: 0.9796\n",
      "Epoch 96/100\n",
      "80/80 [==============================] - 1s 18ms/step - loss: 0.0613 - accuracy: 0.9820\n",
      "Epoch 97/100\n",
      "80/80 [==============================] - 1s 18ms/step - loss: 0.0780 - accuracy: 0.9762\n",
      "Epoch 98/100\n",
      "80/80 [==============================] - 1s 18ms/step - loss: 0.0728 - accuracy: 0.9786\n",
      "Epoch 99/100\n",
      "80/80 [==============================] - 1s 18ms/step - loss: 0.0639 - accuracy: 0.9817\n",
      "Epoch 100/100\n",
      "80/80 [==============================] - 1s 18ms/step - loss: 0.0718 - accuracy: 0.9781\n"
     ]
    },
    {
     "data": {
      "text/plain": [
       "<keras.callbacks.History at 0x215f54c1510>"
      ]
     },
     "execution_count": 31,
     "metadata": {},
     "output_type": "execute_result"
    }
   ],
   "source": [
    "model1.fit(X_train1, y_train, epochs=100, batch_size=128,)"
   ]
  },
  {
   "cell_type": "code",
   "execution_count": 32,
   "id": "0a3942ba",
   "metadata": {},
   "outputs": [],
   "source": [
    "X_val1 = np.reshape(X_val, (X_val.shape[0], X_val.shape[1], 1))\n",
    "\n"
   ]
  },
  {
   "cell_type": "code",
   "execution_count": 33,
   "id": "fb92276b",
   "metadata": {},
   "outputs": [
    {
     "name": "stdout",
     "output_type": "stream",
     "text": [
      "71/71 [==============================] - 1s 11ms/step - loss: 0.2236 - accuracy: 0.9430\n"
     ]
    },
    {
     "data": {
      "text/plain": [
       "[0.22355753183364868, 0.9429590106010437]"
      ]
     },
     "execution_count": 33,
     "metadata": {},
     "output_type": "execute_result"
    }
   ],
   "source": [
    "model1.evaluate(X_val1,y_val)"
   ]
  },
  {
   "cell_type": "code",
   "execution_count": 57,
   "id": "284e8939",
   "metadata": {},
   "outputs": [],
   "source": [
    "new_audio_file_path = \"AUDIO/REAL/linus-original.wav\""
   ]
  },
  {
   "cell_type": "code",
   "execution_count": 58,
   "id": "80d60cfd",
   "metadata": {},
   "outputs": [],
   "source": [
    "new_audio_features = extract_features(new_audio_file_path)"
   ]
  },
  {
   "cell_type": "code",
   "execution_count": 59,
   "id": "b887b5ac",
   "metadata": {},
   "outputs": [],
   "source": [
    "new_audio_features=np.array(new_audio_features)"
   ]
  },
  {
   "cell_type": "code",
   "execution_count": 60,
   "id": "e795b547",
   "metadata": {},
   "outputs": [],
   "source": [
    "new_audio_features = np.reshape(new_audio_features, (1, new_audio_features.shape[0], 1))"
   ]
  },
  {
   "cell_type": "code",
   "execution_count": 61,
   "id": "4722d67e",
   "metadata": {},
   "outputs": [
    {
     "name": "stdout",
     "output_type": "stream",
     "text": [
      "1/1 [==============================] - 0s 19ms/step\n"
     ]
    }
   ],
   "source": [
    "predictions = model1.predict(new_audio_features)"
   ]
  },
  {
   "cell_type": "code",
   "execution_count": 62,
   "id": "4601ce39",
   "metadata": {},
   "outputs": [],
   "source": [
    "predicted_class = 1 if predictions[0][0] > 0.5 else 0"
   ]
  },
  {
   "cell_type": "code",
   "execution_count": 63,
   "id": "6f42c19d",
   "metadata": {},
   "outputs": [
    {
     "name": "stdout",
     "output_type": "stream",
     "text": [
      "Predicted Class: fake\n"
     ]
    }
   ],
   "source": [
    "print(\"Predicted Class:\", labels[predicted_class])"
   ]
  },
  {
   "cell_type": "code",
   "execution_count": 65,
   "id": "8cd189c4",
   "metadata": {},
   "outputs": [],
   "source": [
    "model1.save('deepfakevoiceCNN.h5')"
   ]
  },
  {
   "cell_type": "code",
   "execution_count": null,
   "id": "16b7589d",
   "metadata": {},
   "outputs": [],
   "source": []
  },
  {
   "cell_type": "code",
   "execution_count": null,
   "id": "a8e37a81",
   "metadata": {},
   "outputs": [],
   "source": []
  },
  {
   "cell_type": "code",
   "execution_count": null,
   "id": "87be95a2",
   "metadata": {},
   "outputs": [],
   "source": []
  },
  {
   "cell_type": "code",
   "execution_count": null,
   "id": "a6a6122a",
   "metadata": {},
   "outputs": [],
   "source": []
  },
  {
   "cell_type": "code",
   "execution_count": null,
   "id": "1b851b3e",
   "metadata": {},
   "outputs": [],
   "source": []
  },
  {
   "cell_type": "code",
   "execution_count": null,
   "id": "34595db4",
   "metadata": {},
   "outputs": [],
   "source": []
  },
  {
   "cell_type": "code",
   "execution_count": null,
   "id": "a35de11f",
   "metadata": {},
   "outputs": [],
   "source": []
  },
  {
   "cell_type": "code",
   "execution_count": null,
   "id": "a6625735",
   "metadata": {},
   "outputs": [],
   "source": []
  },
  {
   "cell_type": "code",
   "execution_count": null,
   "id": "f4cce9f4",
   "metadata": {},
   "outputs": [],
   "source": []
  },
  {
   "cell_type": "code",
   "execution_count": null,
   "id": "24257122",
   "metadata": {},
   "outputs": [],
   "source": []
  },
  {
   "cell_type": "code",
   "execution_count": null,
   "id": "20e28b62",
   "metadata": {},
   "outputs": [],
   "source": []
  },
  {
   "cell_type": "code",
   "execution_count": null,
   "id": "fa6f5ef5",
   "metadata": {},
   "outputs": [],
   "source": []
  },
  {
   "cell_type": "code",
   "execution_count": null,
   "id": "2a058c1f",
   "metadata": {},
   "outputs": [],
   "source": []
  },
  {
   "cell_type": "code",
   "execution_count": null,
   "id": "09c9dcc7",
   "metadata": {},
   "outputs": [],
   "source": []
  },
  {
   "cell_type": "code",
   "execution_count": null,
   "id": "951c3d09",
   "metadata": {},
   "outputs": [],
   "source": []
  },
  {
   "cell_type": "code",
   "execution_count": null,
   "id": "f965a6d5",
   "metadata": {},
   "outputs": [],
   "source": []
  },
  {
   "cell_type": "code",
   "execution_count": null,
   "id": "8d61e035",
   "metadata": {},
   "outputs": [],
   "source": []
  },
  {
   "cell_type": "code",
   "execution_count": null,
   "id": "edd89a23",
   "metadata": {},
   "outputs": [],
   "source": []
  },
  {
   "cell_type": "code",
   "execution_count": null,
   "id": "7dd88b5a",
   "metadata": {},
   "outputs": [],
   "source": []
  },
  {
   "cell_type": "code",
   "execution_count": null,
   "id": "fbe7b440",
   "metadata": {},
   "outputs": [],
   "source": []
  },
  {
   "cell_type": "code",
   "execution_count": null,
   "id": "f626033b",
   "metadata": {},
   "outputs": [],
   "source": []
  },
  {
   "cell_type": "code",
   "execution_count": null,
   "id": "c45b912d",
   "metadata": {},
   "outputs": [],
   "source": []
  },
  {
   "cell_type": "code",
   "execution_count": null,
   "id": "f35ecdea",
   "metadata": {},
   "outputs": [],
   "source": []
  },
  {
   "cell_type": "code",
   "execution_count": null,
   "id": "e6f8334b",
   "metadata": {},
   "outputs": [],
   "source": []
  },
  {
   "cell_type": "code",
   "execution_count": null,
   "id": "76fb0350",
   "metadata": {},
   "outputs": [],
   "source": []
  },
  {
   "cell_type": "code",
   "execution_count": null,
   "id": "017b570e",
   "metadata": {},
   "outputs": [],
   "source": []
  },
  {
   "cell_type": "code",
   "execution_count": null,
   "id": "f61e9a25",
   "metadata": {},
   "outputs": [],
   "source": []
  },
  {
   "cell_type": "code",
   "execution_count": null,
   "id": "d68aa4f7",
   "metadata": {},
   "outputs": [],
   "source": []
  },
  {
   "cell_type": "code",
   "execution_count": null,
   "id": "500cf092",
   "metadata": {},
   "outputs": [],
   "source": []
  },
  {
   "cell_type": "code",
   "execution_count": null,
   "id": "bab1e088",
   "metadata": {},
   "outputs": [],
   "source": []
  },
  {
   "cell_type": "code",
   "execution_count": null,
   "id": "84c3c50e",
   "metadata": {},
   "outputs": [],
   "source": []
  },
  {
   "cell_type": "code",
   "execution_count": null,
   "id": "36c57be3",
   "metadata": {},
   "outputs": [],
   "source": []
  },
  {
   "cell_type": "code",
   "execution_count": null,
   "id": "e5f9091c",
   "metadata": {},
   "outputs": [],
   "source": []
  },
  {
   "cell_type": "code",
   "execution_count": null,
   "id": "94540951",
   "metadata": {},
   "outputs": [],
   "source": []
  },
  {
   "cell_type": "code",
   "execution_count": null,
   "id": "20d16cbe",
   "metadata": {},
   "outputs": [],
   "source": []
  },
  {
   "cell_type": "code",
   "execution_count": null,
   "id": "1989482b",
   "metadata": {},
   "outputs": [],
   "source": []
  },
  {
   "cell_type": "code",
   "execution_count": null,
   "id": "704ae063",
   "metadata": {},
   "outputs": [],
   "source": []
  },
  {
   "cell_type": "code",
   "execution_count": null,
   "id": "a5820698",
   "metadata": {},
   "outputs": [],
   "source": []
  },
  {
   "cell_type": "code",
   "execution_count": null,
   "id": "e06177a5",
   "metadata": {},
   "outputs": [],
   "source": []
  },
  {
   "cell_type": "code",
   "execution_count": null,
   "id": "757f6d4d",
   "metadata": {},
   "outputs": [],
   "source": []
  },
  {
   "cell_type": "code",
   "execution_count": null,
   "id": "47bb8ad8",
   "metadata": {},
   "outputs": [],
   "source": []
  },
  {
   "cell_type": "code",
   "execution_count": null,
   "id": "8dcec952",
   "metadata": {},
   "outputs": [],
   "source": []
  }
 ],
 "metadata": {
  "kernelspec": {
   "display_name": "Python 3 (ipykernel)",
   "language": "python",
   "name": "python3"
  },
  "language_info": {
   "codemirror_mode": {
    "name": "ipython",
    "version": 3
   },
   "file_extension": ".py",
   "mimetype": "text/x-python",
   "name": "python",
   "nbconvert_exporter": "python",
   "pygments_lexer": "ipython3",
   "version": "3.10.9"
  }
 },
 "nbformat": 4,
 "nbformat_minor": 5
}
