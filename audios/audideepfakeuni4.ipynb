{
 "cells": [
  {
   "cell_type": "code",
   "execution_count": 1,
   "id": "8a4996de",
   "metadata": {},
   "outputs": [],
   "source": [
    "import os\n",
    "import librosa\n",
    "import numpy as np\n",
    "import tensorflow as tf\n",
    "from sklearn.model_selection import train_test_split\n"
   ]
  },
  {
   "cell_type": "code",
   "execution_count": 2,
   "id": "0dbcd1e0",
   "metadata": {},
   "outputs": [],
   "source": [
    "def extract_features(file_path, mfcc=True, chroma=True, mel=True):\n",
    "    audio, sample_rate = librosa.load(file_path, res_type='kaiser_fast')\n",
    "    features = []\n",
    "    if mfcc:\n",
    "        mfccs = np.mean(librosa.feature.mfcc(y=audio, sr=sample_rate, n_mfcc=13), axis=1)\n",
    "        features.extend(mfccs)\n",
    "    if chroma:\n",
    "        chroma = np.mean(librosa.feature.chroma_stft(y=audio, sr=sample_rate), axis=1)\n",
    "        features.extend(chroma)\n",
    "    if mel:\n",
    "        mel = np.mean(librosa.feature.melspectrogram(y=audio, sr=sample_rate), axis=1)\n",
    "        features.extend(mel)\n",
    "    return features"
   ]
  },
  {
   "cell_type": "code",
   "execution_count": 3,
   "id": "dfaec9b8",
   "metadata": {},
   "outputs": [],
   "source": [
    "def preprocess_dataset(data_path, labels):\n",
    "    X = []\n",
    "    y = []\n",
    "    for label, folder in enumerate(labels):\n",
    "        for filename in os.listdir(os.path.join(data_path, folder)):\n",
    "            file_path = os.path.join(data_path, folder, filename)\n",
    "            features = extract_features(file_path)\n",
    "            X.append(features)\n",
    "            y.append(label)\n",
    "    return np.array(X), np.array(y)"
   ]
  },
  {
   "cell_type": "code",
   "execution_count": 4,
   "id": "529b853a",
   "metadata": {},
   "outputs": [],
   "source": [
    "data_path = \"for-rerecorded/training\"\n",
    "labels = [\"fake\", \"real\"]\n"
   ]
  },
  {
   "cell_type": "code",
   "execution_count": 5,
   "id": "2b077a7c",
   "metadata": {},
   "outputs": [],
   "source": [
    "X, y = preprocess_dataset(data_path, labels)"
   ]
  },
  {
   "cell_type": "code",
   "execution_count": 6,
   "id": "9aa0874a",
   "metadata": {},
   "outputs": [],
   "source": [
    "x_train=X"
   ]
  },
  {
   "cell_type": "code",
   "execution_count": 7,
   "id": "1d1b32e4",
   "metadata": {},
   "outputs": [],
   "source": [
    "y_train=y"
   ]
  },
  {
   "cell_type": "code",
   "execution_count": 9,
   "id": "452cde5f",
   "metadata": {},
   "outputs": [],
   "source": [
    "data_path1 = \"for-rerecorded/validation\"\n",
    "\n",
    "\n"
   ]
  },
  {
   "cell_type": "code",
   "execution_count": 10,
   "id": "f82a10b1",
   "metadata": {},
   "outputs": [],
   "source": [
    "X1, y1 = preprocess_dataset(data_path1, labels)"
   ]
  },
  {
   "cell_type": "code",
   "execution_count": 11,
   "id": "c175ffb8",
   "metadata": {},
   "outputs": [],
   "source": [
    "x_val=X1"
   ]
  },
  {
   "cell_type": "code",
   "execution_count": 12,
   "id": "0efddb06",
   "metadata": {},
   "outputs": [],
   "source": [
    "y_val=y1"
   ]
  },
  {
   "cell_type": "code",
   "execution_count": 14,
   "id": "536f0fef",
   "metadata": {},
   "outputs": [],
   "source": [
    "model = tf.keras.Sequential([\n",
    "    tf.keras.layers.LSTM(128, input_shape=(x_train.shape[1], 1)),\n",
    "    tf.keras.layers.Dense(64, activation='relu'),\n",
    "    tf.keras.layers.Dense(1, activation='sigmoid')  # binary classification\n",
    "])"
   ]
  },
  {
   "cell_type": "code",
   "execution_count": 15,
   "id": "1c827767",
   "metadata": {},
   "outputs": [],
   "source": [
    "model.compile(optimizer='adam', loss='binary_crossentropy', metrics=['accuracy'])\n"
   ]
  },
  {
   "cell_type": "code",
   "execution_count": 16,
   "id": "501c4e07",
   "metadata": {},
   "outputs": [],
   "source": [
    "X_train = np.reshape(x_train, (x_train.shape[0], x_train.shape[1], 1))\n",
    "X_val = np.reshape(x_val, (x_val.shape[0], x_val.shape[1], 1))\n"
   ]
  },
  {
   "cell_type": "code",
   "execution_count": 18,
   "id": "9528d8ec",
   "metadata": {},
   "outputs": [
    {
     "name": "stdout",
     "output_type": "stream",
     "text": [
      "Epoch 1/10\n",
      "319/319 [==============================] - 14s 22ms/step - loss: 0.6808 - accuracy: 0.5624 - val_loss: 0.7061 - val_accuracy: 0.5361\n",
      "Epoch 2/10\n",
      "319/319 [==============================] - 6s 19ms/step - loss: 0.6427 - accuracy: 0.6408 - val_loss: 0.6329 - val_accuracy: 0.6836\n",
      "Epoch 3/10\n",
      "319/319 [==============================] - 6s 20ms/step - loss: 0.5214 - accuracy: 0.7505 - val_loss: 0.4437 - val_accuracy: 0.7972\n",
      "Epoch 4/10\n",
      "319/319 [==============================] - 6s 19ms/step - loss: 0.4399 - accuracy: 0.8028 - val_loss: 0.4716 - val_accuracy: 0.7865\n",
      "Epoch 5/10\n",
      "319/319 [==============================] - 6s 19ms/step - loss: 0.4062 - accuracy: 0.8151 - val_loss: 0.4255 - val_accuracy: 0.8186\n",
      "Epoch 6/10\n",
      "319/319 [==============================] - 6s 19ms/step - loss: 0.3760 - accuracy: 0.8315 - val_loss: 0.4123 - val_accuracy: 0.8195\n",
      "Epoch 7/10\n",
      "319/319 [==============================] - 6s 19ms/step - loss: 0.3492 - accuracy: 0.8438 - val_loss: 0.3420 - val_accuracy: 0.8485\n",
      "Epoch 8/10\n",
      "319/319 [==============================] - 6s 19ms/step - loss: 0.3303 - accuracy: 0.8548 - val_loss: 0.3250 - val_accuracy: 0.8699\n",
      "Epoch 9/10\n",
      "319/319 [==============================] - 6s 19ms/step - loss: 0.2917 - accuracy: 0.8811 - val_loss: 0.3045 - val_accuracy: 0.8730\n",
      "Epoch 10/10\n",
      "319/319 [==============================] - 6s 19ms/step - loss: 0.2716 - accuracy: 0.8895 - val_loss: 0.2911 - val_accuracy: 0.8868\n"
     ]
    },
    {
     "data": {
      "text/plain": [
       "<keras.callbacks.History at 0x2bf76f679a0>"
      ]
     },
     "execution_count": 18,
     "metadata": {},
     "output_type": "execute_result"
    }
   ],
   "source": [
    "model.fit(X_train, y_train, epochs=10, batch_size=32, validation_data=(X_val, y_val))"
   ]
  },
  {
   "cell_type": "code",
   "execution_count": 19,
   "id": "8d655c74",
   "metadata": {},
   "outputs": [
    {
     "name": "stdout",
     "output_type": "stream",
     "text": [
      "Epoch 1/15\n",
      "638/638 [==============================] - 11s 17ms/step - loss: 0.3073 - accuracy: 0.8710 - val_loss: 0.2543 - val_accuracy: 0.8944\n",
      "Epoch 2/15\n",
      "638/638 [==============================] - 10s 16ms/step - loss: 0.2663 - accuracy: 0.8927 - val_loss: 0.2310 - val_accuracy: 0.9113\n",
      "Epoch 3/15\n",
      "638/638 [==============================] - 10s 16ms/step - loss: 0.2725 - accuracy: 0.8888 - val_loss: 0.3640 - val_accuracy: 0.8516\n",
      "Epoch 4/15\n",
      "638/638 [==============================] - 10s 15ms/step - loss: 0.2490 - accuracy: 0.9031 - val_loss: 0.2421 - val_accuracy: 0.9046\n",
      "Epoch 5/15\n",
      "638/638 [==============================] - 10s 15ms/step - loss: 0.2162 - accuracy: 0.9175 - val_loss: 0.2343 - val_accuracy: 0.9046\n",
      "Epoch 6/15\n",
      "638/638 [==============================] - 10s 15ms/step - loss: 0.1888 - accuracy: 0.9300 - val_loss: 0.2478 - val_accuracy: 0.9091\n",
      "Epoch 7/15\n",
      "638/638 [==============================] - 10s 15ms/step - loss: 0.1770 - accuracy: 0.9358 - val_loss: 0.2094 - val_accuracy: 0.9135\n",
      "Epoch 8/15\n",
      "638/638 [==============================] - 10s 15ms/step - loss: 0.1760 - accuracy: 0.9367 - val_loss: 0.2188 - val_accuracy: 0.9162\n",
      "Epoch 9/15\n",
      "638/638 [==============================] - 9s 15ms/step - loss: 0.1560 - accuracy: 0.9429 - val_loss: 0.1792 - val_accuracy: 0.9278\n",
      "Epoch 10/15\n",
      "638/638 [==============================] - 10s 15ms/step - loss: 0.1537 - accuracy: 0.9434 - val_loss: 0.1736 - val_accuracy: 0.9345\n",
      "Epoch 11/15\n",
      "638/638 [==============================] - 10s 16ms/step - loss: 0.1497 - accuracy: 0.9435 - val_loss: 0.1789 - val_accuracy: 0.9363\n",
      "Epoch 12/15\n",
      "638/638 [==============================] - 10s 16ms/step - loss: 0.1305 - accuracy: 0.9539 - val_loss: 0.1828 - val_accuracy: 0.9283\n",
      "Epoch 13/15\n",
      "638/638 [==============================] - 10s 15ms/step - loss: 0.1362 - accuracy: 0.9520 - val_loss: 0.1984 - val_accuracy: 0.9260\n",
      "Epoch 14/15\n",
      "638/638 [==============================] - 10s 16ms/step - loss: 0.1176 - accuracy: 0.9585 - val_loss: 0.1757 - val_accuracy: 0.9274\n",
      "Epoch 15/15\n",
      "638/638 [==============================] - 10s 16ms/step - loss: 0.1182 - accuracy: 0.9570 - val_loss: 0.1634 - val_accuracy: 0.9376\n"
     ]
    },
    {
     "data": {
      "text/plain": [
       "<keras.callbacks.History at 0x2bf77846cb0>"
      ]
     },
     "execution_count": 19,
     "metadata": {},
     "output_type": "execute_result"
    }
   ],
   "source": [
    "model.fit(X_train, y_train, epochs=15, batch_size=16, validation_data=(X_val, y_val))"
   ]
  },
  {
   "cell_type": "code",
   "execution_count": 177,
   "id": "10f7f4a5",
   "metadata": {},
   "outputs": [],
   "source": [
    "new_audio_file_path = \"for-rerecorded/testing/fake/recording13022.wav_norm_mono.wav\""
   ]
  },
  {
   "cell_type": "code",
   "execution_count": 178,
   "id": "5269a773",
   "metadata": {},
   "outputs": [],
   "source": [
    "new_audio_features = extract_features(new_audio_file_path)"
   ]
  },
  {
   "cell_type": "code",
   "execution_count": 179,
   "id": "f3cb2940",
   "metadata": {},
   "outputs": [],
   "source": [
    "new_audio_features=np.array(new_audio_features)"
   ]
  },
  {
   "cell_type": "code",
   "execution_count": 180,
   "id": "d54d3593",
   "metadata": {},
   "outputs": [],
   "source": [
    "new_audio_features = np.reshape(new_audio_features, (1, new_audio_features.shape[0], 1))"
   ]
  },
  {
   "cell_type": "code",
   "execution_count": 181,
   "id": "163974d4",
   "metadata": {},
   "outputs": [
    {
     "name": "stdout",
     "output_type": "stream",
     "text": [
      "1/1 [==============================] - 0s 24ms/step\n"
     ]
    }
   ],
   "source": [
    "predictions = model.predict(new_audio_features)"
   ]
  },
  {
   "cell_type": "code",
   "execution_count": 182,
   "id": "6c6c9afc",
   "metadata": {},
   "outputs": [],
   "source": [
    "predicted_class = 1 if predictions[0][0] > 0.5 else 0"
   ]
  },
  {
   "cell_type": "code",
   "execution_count": 183,
   "id": "3aab955e",
   "metadata": {},
   "outputs": [
    {
     "name": "stdout",
     "output_type": "stream",
     "text": [
      "Predicted Class: fake\n"
     ]
    }
   ],
   "source": [
    "print(\"Predicted Class:\", labels[predicted_class])"
   ]
  },
  {
   "cell_type": "code",
   "execution_count": 35,
   "id": "e8ab6dec",
   "metadata": {},
   "outputs": [],
   "source": [
    "model.save('deepfakeaudio1.h5')"
   ]
  },
  {
   "cell_type": "code",
   "execution_count": 36,
   "id": "9fbc59b3",
   "metadata": {},
   "outputs": [],
   "source": [
    "model1 = tf.keras.Sequential([\n",
    "    tf.keras.layers.LSTM(64, input_shape=(x_train.shape[1], 1)),\n",
    "    tf.keras.layers.Dense(32, activation='relu'),\n",
    "    tf.keras.layers.Dense(1, activation='sigmoid')  # binary classification\n",
    "])"
   ]
  },
  {
   "cell_type": "code",
   "execution_count": 37,
   "id": "456db331",
   "metadata": {},
   "outputs": [],
   "source": [
    "model1.compile(optimizer='adam', loss='binary_crossentropy', metrics=['accuracy'])\n"
   ]
  },
  {
   "cell_type": "code",
   "execution_count": 38,
   "id": "4113f4b1",
   "metadata": {},
   "outputs": [
    {
     "name": "stdout",
     "output_type": "stream",
     "text": [
      "Epoch 1/10\n",
      "319/319 [==============================] - 8s 22ms/step - loss: 0.6588 - accuracy: 0.6114 - val_loss: 0.6382 - val_accuracy: 0.6502\n",
      "Epoch 2/10\n",
      "319/319 [==============================] - 5s 15ms/step - loss: 0.6403 - accuracy: 0.6457 - val_loss: 0.6819 - val_accuracy: 0.5735\n",
      "Epoch 3/10\n",
      "319/319 [==============================] - 5s 14ms/step - loss: 0.6285 - accuracy: 0.6611 - val_loss: 0.6317 - val_accuracy: 0.6649\n",
      "Epoch 4/10\n",
      "319/319 [==============================] - 5s 14ms/step - loss: 0.5446 - accuracy: 0.7317 - val_loss: 0.4841 - val_accuracy: 0.7857\n",
      "Epoch 5/10\n",
      "319/319 [==============================] - 5s 14ms/step - loss: 0.4553 - accuracy: 0.7884 - val_loss: 0.4259 - val_accuracy: 0.8066\n",
      "Epoch 6/10\n",
      "319/319 [==============================] - 5s 14ms/step - loss: 0.4048 - accuracy: 0.8135 - val_loss: 0.4145 - val_accuracy: 0.8070\n",
      "Epoch 7/10\n",
      "319/319 [==============================] - 4s 14ms/step - loss: 0.3812 - accuracy: 0.8212 - val_loss: 0.3598 - val_accuracy: 0.8351\n",
      "Epoch 8/10\n",
      "319/319 [==============================] - 5s 15ms/step - loss: 0.3568 - accuracy: 0.8382 - val_loss: 0.5531 - val_accuracy: 0.6390\n",
      "Epoch 9/10\n",
      "319/319 [==============================] - 5s 15ms/step - loss: 0.3376 - accuracy: 0.8494 - val_loss: 0.3687 - val_accuracy: 0.8485\n",
      "Epoch 10/10\n",
      "319/319 [==============================] - 5s 15ms/step - loss: 0.3462 - accuracy: 0.8471 - val_loss: 0.4805 - val_accuracy: 0.8039\n"
     ]
    },
    {
     "data": {
      "text/plain": [
       "<keras.callbacks.History at 0x2bf77af7640>"
      ]
     },
     "execution_count": 38,
     "metadata": {},
     "output_type": "execute_result"
    }
   ],
   "source": [
    "model1.fit(X_train, y_train, epochs=10, batch_size=32, validation_data=(X_val, y_val))"
   ]
  },
  {
   "cell_type": "code",
   "execution_count": 39,
   "id": "28aa0565",
   "metadata": {},
   "outputs": [
    {
     "name": "stdout",
     "output_type": "stream",
     "text": [
      "Epoch 1/10\n",
      "160/160 [==============================] - 4s 19ms/step - loss: 0.2966 - accuracy: 0.8770 - val_loss: 0.2975 - val_accuracy: 0.8877\n",
      "Epoch 2/10\n",
      "160/160 [==============================] - 3s 17ms/step - loss: 0.2709 - accuracy: 0.8905 - val_loss: 0.2847 - val_accuracy: 0.8895\n",
      "Epoch 3/10\n",
      "160/160 [==============================] - 3s 17ms/step - loss: 0.2720 - accuracy: 0.8925 - val_loss: 0.3404 - val_accuracy: 0.8636\n",
      "Epoch 4/10\n",
      "160/160 [==============================] - 3s 17ms/step - loss: 0.2429 - accuracy: 0.9056 - val_loss: 0.2670 - val_accuracy: 0.8980\n",
      "Epoch 5/10\n",
      "160/160 [==============================] - 3s 16ms/step - loss: 0.2609 - accuracy: 0.8942 - val_loss: 0.2678 - val_accuracy: 0.8922\n",
      "Epoch 6/10\n",
      "160/160 [==============================] - 3s 17ms/step - loss: 0.2266 - accuracy: 0.9111 - val_loss: 0.2720 - val_accuracy: 0.8975\n",
      "Epoch 7/10\n",
      "160/160 [==============================] - 3s 16ms/step - loss: 0.2263 - accuracy: 0.9125 - val_loss: 0.2746 - val_accuracy: 0.8988\n",
      "Epoch 8/10\n",
      "160/160 [==============================] - 3s 16ms/step - loss: 0.2250 - accuracy: 0.9135 - val_loss: 0.2966 - val_accuracy: 0.8824\n",
      "Epoch 9/10\n",
      "160/160 [==============================] - 3s 17ms/step - loss: 0.2256 - accuracy: 0.9140 - val_loss: 0.2354 - val_accuracy: 0.9135\n",
      "Epoch 10/10\n",
      "160/160 [==============================] - 3s 16ms/step - loss: 0.2072 - accuracy: 0.9194 - val_loss: 0.2371 - val_accuracy: 0.9069\n"
     ]
    },
    {
     "data": {
      "text/plain": [
       "<keras.callbacks.History at 0x2bf77f82440>"
      ]
     },
     "execution_count": 39,
     "metadata": {},
     "output_type": "execute_result"
    }
   ],
   "source": [
    "model1.fit(X_train, y_train, epochs=10, batch_size=64, validation_data=(X_val, y_val))"
   ]
  },
  {
   "cell_type": "code",
   "execution_count": 41,
   "id": "0373320d",
   "metadata": {},
   "outputs": [],
   "source": [
    "model3 = tf.keras.Sequential([\n",
    "    tf.keras.layers.LSTM(64, input_shape=(x_train.shape[1], 1)),\n",
    "    tf.keras.layers.Dropout(0.2),\n",
    "    tf.keras.layers.Dense(32, activation='relu'),\n",
    "    tf.keras.layers.Dense(1, activation='sigmoid')  # binary classification\n",
    "])"
   ]
  },
  {
   "cell_type": "code",
   "execution_count": 42,
   "id": "7b222b77",
   "metadata": {},
   "outputs": [],
   "source": [
    "model3.compile(optimizer='adam', loss='binary_crossentropy', metrics=['accuracy'])\n"
   ]
  },
  {
   "cell_type": "code",
   "execution_count": 43,
   "id": "82b9862e",
   "metadata": {},
   "outputs": [
    {
     "name": "stdout",
     "output_type": "stream",
     "text": [
      "Epoch 1/10\n",
      "100/100 [==============================] - 5s 34ms/step - loss: 0.6845 - accuracy: 0.5628 - val_loss: 0.6606 - val_accuracy: 0.6355\n",
      "Epoch 2/10\n",
      "100/100 [==============================] - 2s 23ms/step - loss: 0.6645 - accuracy: 0.6034 - val_loss: 0.6883 - val_accuracy: 0.5169\n",
      "Epoch 3/10\n",
      "100/100 [==============================] - 2s 21ms/step - loss: 0.6373 - accuracy: 0.6422 - val_loss: 0.6509 - val_accuracy: 0.6350\n",
      "Epoch 4/10\n",
      "100/100 [==============================] - 2s 20ms/step - loss: 0.6445 - accuracy: 0.6397 - val_loss: 0.6486 - val_accuracy: 0.6279\n",
      "Epoch 5/10\n",
      "100/100 [==============================] - 2s 20ms/step - loss: 0.6380 - accuracy: 0.6553 - val_loss: 0.6432 - val_accuracy: 0.6426\n",
      "Epoch 6/10\n",
      "100/100 [==============================] - 2s 19ms/step - loss: 0.5969 - accuracy: 0.6997 - val_loss: 0.5766 - val_accuracy: 0.7130\n",
      "Epoch 7/10\n",
      "100/100 [==============================] - 2s 20ms/step - loss: 0.5983 - accuracy: 0.6978 - val_loss: 0.5687 - val_accuracy: 0.7201\n",
      "Epoch 8/10\n",
      "100/100 [==============================] - 2s 19ms/step - loss: 0.5139 - accuracy: 0.7613 - val_loss: 0.5024 - val_accuracy: 0.7562\n",
      "Epoch 9/10\n",
      "100/100 [==============================] - 2s 20ms/step - loss: 0.4815 - accuracy: 0.7797 - val_loss: 0.4476 - val_accuracy: 0.7932\n",
      "Epoch 10/10\n",
      "100/100 [==============================] - 2s 20ms/step - loss: 0.4304 - accuracy: 0.7987 - val_loss: 0.4148 - val_accuracy: 0.8030\n"
     ]
    },
    {
     "data": {
      "text/plain": [
       "<keras.callbacks.History at 0x2bf77a32b30>"
      ]
     },
     "execution_count": 43,
     "metadata": {},
     "output_type": "execute_result"
    }
   ],
   "source": [
    "model3.fit(X_train, y_train, epochs=10, batch_size=32, validation_data=(X_val, y_val),steps_per_epoch=100)"
   ]
  },
  {
   "cell_type": "code",
   "execution_count": 44,
   "id": "c51cfd98",
   "metadata": {},
   "outputs": [
    {
     "name": "stdout",
     "output_type": "stream",
     "text": [
      "Epoch 1/10\n",
      "100/100 [==============================] - 3s 31ms/step - loss: 0.4101 - accuracy: 0.7991 - val_loss: 0.4111 - val_accuracy: 0.8177\n",
      "Epoch 2/10\n",
      "100/100 [==============================] - 2s 24ms/step - loss: 0.4218 - accuracy: 0.8078 - val_loss: 0.4041 - val_accuracy: 0.8012\n",
      "Epoch 3/10\n",
      "100/100 [==============================] - 2s 20ms/step - loss: 0.4214 - accuracy: 0.8069 - val_loss: 0.3990 - val_accuracy: 0.8137\n",
      "Epoch 4/10\n",
      "100/100 [==============================] - 2s 18ms/step - loss: 0.3833 - accuracy: 0.8244 - val_loss: 0.3791 - val_accuracy: 0.8271\n",
      "Epoch 5/10\n",
      "100/100 [==============================] - 2s 17ms/step - loss: 0.3796 - accuracy: 0.8297 - val_loss: 0.4308 - val_accuracy: 0.7977\n",
      "Epoch 6/10\n",
      "100/100 [==============================] - 2s 18ms/step - loss: 0.3940 - accuracy: 0.8203 - val_loss: 0.3635 - val_accuracy: 0.8422\n",
      "Epoch 7/10\n",
      "100/100 [==============================] - 2s 18ms/step - loss: 0.3738 - accuracy: 0.8338 - val_loss: 0.3549 - val_accuracy: 0.8414\n",
      "Epoch 8/10\n",
      "100/100 [==============================] - 2s 18ms/step - loss: 0.3628 - accuracy: 0.8438 - val_loss: 0.3475 - val_accuracy: 0.8494\n",
      "Epoch 9/10\n",
      "100/100 [==============================] - 2s 18ms/step - loss: 0.3530 - accuracy: 0.8416 - val_loss: 0.3365 - val_accuracy: 0.8578\n",
      "Epoch 10/10\n",
      "100/100 [==============================] - 2s 18ms/step - loss: 0.3427 - accuracy: 0.8575 - val_loss: 0.3383 - val_accuracy: 0.8547\n"
     ]
    },
    {
     "data": {
      "text/plain": [
       "<keras.callbacks.History at 0x2bf5dd562f0>"
      ]
     },
     "execution_count": 44,
     "metadata": {},
     "output_type": "execute_result"
    }
   ],
   "source": [
    "model3.fit(X_train, y_train, epochs=10, batch_size=32, validation_data=(X_val, y_val),steps_per_epoch=100)"
   ]
  },
  {
   "cell_type": "code",
   "execution_count": 45,
   "id": "58bc0b4b",
   "metadata": {},
   "outputs": [
    {
     "name": "stdout",
     "output_type": "stream",
     "text": [
      "Epoch 1/20\n",
      "100/100 [==============================] - 2s 21ms/step - loss: 0.3489 - accuracy: 0.8528 - val_loss: 0.3320 - val_accuracy: 0.8587\n",
      "Epoch 2/20\n",
      "100/100 [==============================] - 2s 19ms/step - loss: 0.3058 - accuracy: 0.8797 - val_loss: 0.3734 - val_accuracy: 0.8503\n",
      "Epoch 3/20\n",
      "100/100 [==============================] - 2s 18ms/step - loss: 0.3232 - accuracy: 0.8681 - val_loss: 0.3479 - val_accuracy: 0.8458\n",
      "Epoch 4/20\n",
      "100/100 [==============================] - 2s 18ms/step - loss: 0.3178 - accuracy: 0.8734 - val_loss: 0.3036 - val_accuracy: 0.8832\n",
      "Epoch 5/20\n",
      "100/100 [==============================] - 2s 18ms/step - loss: 0.2995 - accuracy: 0.8809 - val_loss: 0.2921 - val_accuracy: 0.8819\n",
      "Epoch 6/20\n",
      "100/100 [==============================] - 2s 18ms/step - loss: 0.2889 - accuracy: 0.8819 - val_loss: 0.2852 - val_accuracy: 0.8837\n",
      "Epoch 7/20\n",
      "100/100 [==============================] - 2s 18ms/step - loss: 0.2789 - accuracy: 0.8872 - val_loss: 0.2753 - val_accuracy: 0.8855\n",
      "Epoch 8/20\n",
      "100/100 [==============================] - 2s 19ms/step - loss: 0.2863 - accuracy: 0.8834 - val_loss: 0.2770 - val_accuracy: 0.8864\n",
      "Epoch 9/20\n",
      "100/100 [==============================] - 2s 18ms/step - loss: 0.2686 - accuracy: 0.8953 - val_loss: 0.2845 - val_accuracy: 0.8801\n",
      "Epoch 10/20\n",
      "100/100 [==============================] - 2s 17ms/step - loss: 0.2691 - accuracy: 0.8947 - val_loss: 0.2884 - val_accuracy: 0.8859\n",
      "Epoch 11/20\n",
      "100/100 [==============================] - 2s 18ms/step - loss: 0.2786 - accuracy: 0.8900 - val_loss: 0.2932 - val_accuracy: 0.8828\n",
      "Epoch 12/20\n",
      "100/100 [==============================] - 2s 18ms/step - loss: 0.2764 - accuracy: 0.8903 - val_loss: 0.2694 - val_accuracy: 0.8930\n",
      "Epoch 13/20\n",
      "100/100 [==============================] - 2s 18ms/step - loss: 0.2769 - accuracy: 0.8950 - val_loss: 0.2892 - val_accuracy: 0.8877\n",
      "Epoch 14/20\n",
      "100/100 [==============================] - 2s 19ms/step - loss: 0.2697 - accuracy: 0.8938 - val_loss: 0.2616 - val_accuracy: 0.8957\n",
      "Epoch 15/20\n",
      "100/100 [==============================] - 2s 17ms/step - loss: 0.2461 - accuracy: 0.9022 - val_loss: 0.2629 - val_accuracy: 0.9006\n",
      "Epoch 16/20\n",
      "100/100 [==============================] - 2s 17ms/step - loss: 0.2436 - accuracy: 0.9056 - val_loss: 0.2705 - val_accuracy: 0.8962\n",
      "Epoch 17/20\n",
      "100/100 [==============================] - 2s 17ms/step - loss: 0.2528 - accuracy: 0.9019 - val_loss: 0.2473 - val_accuracy: 0.9060\n",
      "Epoch 18/20\n",
      "100/100 [==============================] - 2s 17ms/step - loss: 0.2231 - accuracy: 0.9159 - val_loss: 0.2627 - val_accuracy: 0.8975\n",
      "Epoch 19/20\n",
      "100/100 [==============================] - 2s 18ms/step - loss: 0.2598 - accuracy: 0.9009 - val_loss: 0.2743 - val_accuracy: 0.8877\n",
      "Epoch 20/20\n",
      "100/100 [==============================] - 2s 18ms/step - loss: 0.2557 - accuracy: 0.8984 - val_loss: 0.2601 - val_accuracy: 0.8980\n"
     ]
    },
    {
     "data": {
      "text/plain": [
       "<keras.callbacks.History at 0x2bf5dd5f5b0>"
      ]
     },
     "execution_count": 45,
     "metadata": {},
     "output_type": "execute_result"
    }
   ],
   "source": [
    "model3.fit(X_train, y_train, epochs=20, batch_size=32, validation_data=(X_val, y_val),steps_per_epoch=100)"
   ]
  },
  {
   "cell_type": "code",
   "execution_count": 46,
   "id": "95d770da",
   "metadata": {},
   "outputs": [],
   "source": [
    "model3.save('deepfakeaudio2.h5')"
   ]
  },
  {
   "cell_type": "code",
   "execution_count": 58,
   "id": "2362bc83",
   "metadata": {},
   "outputs": [],
   "source": [
    "model4 = tf.keras.Sequential([\n",
    "    tf.keras.layers.LSTM(64, input_shape=(x_train.shape[1], 1)),\n",
    "    tf.keras.layers.Dropout(0.25),\n",
    "    tf.keras.layers.Dense(32, activation='relu'),\n",
    "    tf.keras.layers.Dense(1, activation='sigmoid')  # binary classification\n",
    "])"
   ]
  },
  {
   "cell_type": "code",
   "execution_count": 59,
   "id": "2d637ff2",
   "metadata": {},
   "outputs": [],
   "source": [
    "model4.compile(optimizer='adam', loss='binary_crossentropy', metrics=['accuracy'])\n"
   ]
  },
  {
   "cell_type": "code",
   "execution_count": 60,
   "id": "8aedffa9",
   "metadata": {},
   "outputs": [],
   "source": [
    "from tensorflow.keras.callbacks import EarlyStopping"
   ]
  },
  {
   "cell_type": "code",
   "execution_count": 61,
   "id": "a561a282",
   "metadata": {},
   "outputs": [],
   "source": [
    "early_stopping = EarlyStopping(monitor='val_loss', patience=3, restore_best_weights=True)"
   ]
  },
  {
   "cell_type": "code",
   "execution_count": 62,
   "id": "dfe56384",
   "metadata": {},
   "outputs": [
    {
     "name": "stdout",
     "output_type": "stream",
     "text": [
      "Epoch 1/50\n",
      "319/319 [==============================] - 8s 22ms/step - loss: 0.6607 - accuracy: 0.6145 - val_loss: 0.6329 - val_accuracy: 0.6640\n",
      "Epoch 2/50\n",
      "319/319 [==============================] - 5s 15ms/step - loss: 0.6325 - accuracy: 0.6603 - val_loss: 0.6315 - val_accuracy: 0.6640\n",
      "Epoch 3/50\n",
      "319/319 [==============================] - 5s 15ms/step - loss: 0.5818 - accuracy: 0.7096 - val_loss: 0.5319 - val_accuracy: 0.7527\n",
      "Epoch 4/50\n",
      "319/319 [==============================] - 5s 14ms/step - loss: 0.4876 - accuracy: 0.7745 - val_loss: 0.4339 - val_accuracy: 0.8084\n",
      "Epoch 5/50\n",
      "319/319 [==============================] - 5s 14ms/step - loss: 0.4353 - accuracy: 0.7980 - val_loss: 0.4213 - val_accuracy: 0.8066\n",
      "Epoch 6/50\n",
      "319/319 [==============================] - 5s 15ms/step - loss: 0.4133 - accuracy: 0.8091 - val_loss: 0.4957 - val_accuracy: 0.7750\n",
      "Epoch 7/50\n",
      "319/319 [==============================] - 5s 15ms/step - loss: 0.3749 - accuracy: 0.8336 - val_loss: 0.3795 - val_accuracy: 0.8200\n",
      "Epoch 8/50\n",
      "319/319 [==============================] - 5s 15ms/step - loss: 0.3407 - accuracy: 0.8455 - val_loss: 0.3625 - val_accuracy: 0.8507\n",
      "Epoch 9/50\n",
      "319/319 [==============================] - 5s 15ms/step - loss: 0.3161 - accuracy: 0.8666 - val_loss: 0.3532 - val_accuracy: 0.8610\n",
      "Epoch 10/50\n",
      "319/319 [==============================] - 5s 16ms/step - loss: 0.2984 - accuracy: 0.8731 - val_loss: 0.3019 - val_accuracy: 0.8761\n",
      "Epoch 11/50\n",
      "319/319 [==============================] - 5s 15ms/step - loss: 0.2692 - accuracy: 0.8899 - val_loss: 0.2519 - val_accuracy: 0.8988\n",
      "Epoch 12/50\n",
      "319/319 [==============================] - 5s 14ms/step - loss: 0.2576 - accuracy: 0.8942 - val_loss: 0.4274 - val_accuracy: 0.8128\n",
      "Epoch 13/50\n",
      "319/319 [==============================] - 5s 15ms/step - loss: 0.2346 - accuracy: 0.9061 - val_loss: 0.2302 - val_accuracy: 0.9069\n",
      "Epoch 14/50\n",
      "319/319 [==============================] - 5s 14ms/step - loss: 0.2161 - accuracy: 0.9143 - val_loss: 0.2529 - val_accuracy: 0.8975\n",
      "Epoch 15/50\n",
      "319/319 [==============================] - 5s 14ms/step - loss: 0.2215 - accuracy: 0.9113 - val_loss: 0.2327 - val_accuracy: 0.8944\n",
      "Epoch 16/50\n",
      "319/319 [==============================] - 5s 15ms/step - loss: 0.2107 - accuracy: 0.9154 - val_loss: 0.2168 - val_accuracy: 0.9095\n",
      "Epoch 17/50\n",
      "319/319 [==============================] - 5s 15ms/step - loss: 0.1903 - accuracy: 0.9247 - val_loss: 0.2676 - val_accuracy: 0.8953\n",
      "Epoch 18/50\n",
      "319/319 [==============================] - 5s 15ms/step - loss: 0.1985 - accuracy: 0.9222 - val_loss: 0.2158 - val_accuracy: 0.9149\n",
      "Epoch 19/50\n",
      "319/319 [==============================] - 5s 15ms/step - loss: 0.1869 - accuracy: 0.9270 - val_loss: 0.2158 - val_accuracy: 0.9113\n",
      "Epoch 20/50\n",
      "319/319 [==============================] - 5s 15ms/step - loss: 0.1765 - accuracy: 0.9317 - val_loss: 0.2235 - val_accuracy: 0.9086\n",
      "Epoch 21/50\n",
      "319/319 [==============================] - 5s 15ms/step - loss: 0.1669 - accuracy: 0.9341 - val_loss: 0.2325 - val_accuracy: 0.9193\n"
     ]
    },
    {
     "data": {
      "text/plain": [
       "<keras.callbacks.History at 0x2c14178a590>"
      ]
     },
     "execution_count": 62,
     "metadata": {},
     "output_type": "execute_result"
    }
   ],
   "source": [
    "model4.fit(X_train, y_train, epochs=50, batch_size=32, validation_data=(X_val, y_val), callbacks=[early_stopping])"
   ]
  },
  {
   "cell_type": "code",
   "execution_count": 70,
   "id": "467733e0",
   "metadata": {},
   "outputs": [],
   "source": [
    "model4 = tf.keras.Sequential([\n",
    "    tf.keras.layers.LSTM(32, input_shape=(x_train.shape[1], 1)),\n",
    "    tf.keras.layers.Dropout(0.25),\n",
    "    tf.keras.layers.Dense(32, activation='relu'),\n",
    "    tf.keras.layers.Dense(1, activation='sigmoid')  # binary classification\n",
    "])"
   ]
  },
  {
   "cell_type": "code",
   "execution_count": 71,
   "id": "64271366",
   "metadata": {},
   "outputs": [],
   "source": [
    "model4.compile(optimizer='adam', loss='binary_crossentropy', metrics=['accuracy'])\n"
   ]
  },
  {
   "cell_type": "code",
   "execution_count": 72,
   "id": "2e4b2aa4",
   "metadata": {},
   "outputs": [
    {
     "name": "stdout",
     "output_type": "stream",
     "text": [
      "Epoch 1/50\n",
      "319/319 [==============================] - 8s 21ms/step - loss: 0.6613 - accuracy: 0.6029 - val_loss: 0.6376 - val_accuracy: 0.6511\n",
      "Epoch 2/50\n",
      "319/319 [==============================] - 5s 16ms/step - loss: 0.6376 - accuracy: 0.6535 - val_loss: 0.6313 - val_accuracy: 0.6586\n",
      "Epoch 3/50\n",
      "319/319 [==============================] - 5s 15ms/step - loss: 0.5963 - accuracy: 0.6964 - val_loss: 0.5489 - val_accuracy: 0.7259\n",
      "Epoch 4/50\n",
      "319/319 [==============================] - 5s 14ms/step - loss: 0.5140 - accuracy: 0.7429 - val_loss: 0.4708 - val_accuracy: 0.7683\n",
      "Epoch 5/50\n",
      "319/319 [==============================] - 5s 14ms/step - loss: 0.4776 - accuracy: 0.7731 - val_loss: 0.4588 - val_accuracy: 0.7714\n",
      "Epoch 6/50\n",
      "319/319 [==============================] - 5s 15ms/step - loss: 0.4401 - accuracy: 0.7911 - val_loss: 0.4650 - val_accuracy: 0.7758\n",
      "Epoch 7/50\n",
      "319/319 [==============================] - 5s 15ms/step - loss: 0.4390 - accuracy: 0.7882 - val_loss: 0.4183 - val_accuracy: 0.7999\n",
      "Epoch 8/50\n",
      "319/319 [==============================] - 4s 14ms/step - loss: 0.4206 - accuracy: 0.8046 - val_loss: 0.4281 - val_accuracy: 0.7941\n",
      "Epoch 9/50\n",
      "319/319 [==============================] - 5s 14ms/step - loss: 0.4097 - accuracy: 0.8062 - val_loss: 0.4190 - val_accuracy: 0.7932\n",
      "Epoch 10/50\n",
      "319/319 [==============================] - 5s 14ms/step - loss: 0.4007 - accuracy: 0.8131 - val_loss: 0.4045 - val_accuracy: 0.8035\n",
      "Epoch 11/50\n",
      "319/319 [==============================] - 5s 14ms/step - loss: 0.3918 - accuracy: 0.8151 - val_loss: 0.3912 - val_accuracy: 0.8079\n",
      "Epoch 12/50\n",
      "319/319 [==============================] - 5s 15ms/step - loss: 0.3937 - accuracy: 0.8171 - val_loss: 0.4110 - val_accuracy: 0.8026\n",
      "Epoch 13/50\n",
      "319/319 [==============================] - 5s 14ms/step - loss: 0.3805 - accuracy: 0.8261 - val_loss: 0.3743 - val_accuracy: 0.8258\n",
      "Epoch 14/50\n",
      "319/319 [==============================] - 5s 15ms/step - loss: 0.3724 - accuracy: 0.8304 - val_loss: 0.3640 - val_accuracy: 0.8365\n",
      "Epoch 15/50\n",
      "319/319 [==============================] - 5s 17ms/step - loss: 0.3671 - accuracy: 0.8341 - val_loss: 0.3541 - val_accuracy: 0.8284\n",
      "Epoch 16/50\n",
      "319/319 [==============================] - 5s 15ms/step - loss: 0.3557 - accuracy: 0.8420 - val_loss: 0.3546 - val_accuracy: 0.8409\n",
      "Epoch 17/50\n",
      "319/319 [==============================] - 5s 15ms/step - loss: 0.3406 - accuracy: 0.8457 - val_loss: 0.3267 - val_accuracy: 0.8534\n",
      "Epoch 18/50\n",
      "319/319 [==============================] - 5s 15ms/step - loss: 0.3212 - accuracy: 0.8563 - val_loss: 0.3277 - val_accuracy: 0.8592\n",
      "Epoch 19/50\n",
      "319/319 [==============================] - 5s 15ms/step - loss: 0.3114 - accuracy: 0.8630 - val_loss: 0.3162 - val_accuracy: 0.8610\n",
      "Epoch 20/50\n",
      "319/319 [==============================] - 5s 15ms/step - loss: 0.3017 - accuracy: 0.8675 - val_loss: 0.3208 - val_accuracy: 0.8592\n",
      "Epoch 21/50\n",
      "319/319 [==============================] - 5s 15ms/step - loss: 0.2930 - accuracy: 0.8736 - val_loss: 0.3791 - val_accuracy: 0.8409\n",
      "Epoch 22/50\n",
      "319/319 [==============================] - 5s 15ms/step - loss: 0.2862 - accuracy: 0.8788 - val_loss: 0.4636 - val_accuracy: 0.7513\n"
     ]
    },
    {
     "data": {
      "text/plain": [
       "<keras.callbacks.History at 0x2c178a7a740>"
      ]
     },
     "execution_count": 72,
     "metadata": {},
     "output_type": "execute_result"
    }
   ],
   "source": [
    "model4.fit(X_train, y_train, epochs=50, batch_size=32, validation_data=(X_val, y_val), callbacks=[early_stopping])"
   ]
  },
  {
   "cell_type": "code",
   "execution_count": 73,
   "id": "b5f242d5",
   "metadata": {},
   "outputs": [],
   "source": [
    "model4 = tf.keras.Sequential([\n",
    "    tf.keras.layers.LSTM(32, input_shape=(x_train.shape[1], 1)),\n",
    "    \n",
    "    tf.keras.layers.Dense(32, activation='relu'),\n",
    "    tf.keras.layers.Dense(1, activation='sigmoid')  # binary classification\n",
    "])"
   ]
  },
  {
   "cell_type": "code",
   "execution_count": 74,
   "id": "45cdbd16",
   "metadata": {},
   "outputs": [],
   "source": [
    "model4.compile(optimizer='adam', loss='binary_crossentropy', metrics=['accuracy'])\n"
   ]
  },
  {
   "cell_type": "code",
   "execution_count": 75,
   "id": "5d2df62e",
   "metadata": {},
   "outputs": [
    {
     "name": "stdout",
     "output_type": "stream",
     "text": [
      "Epoch 1/50\n",
      "319/319 [==============================] - 8s 21ms/step - loss: 0.6569 - accuracy: 0.6125 - val_loss: 0.6540 - val_accuracy: 0.6243\n",
      "Epoch 2/50\n",
      "319/319 [==============================] - 5s 15ms/step - loss: 0.6241 - accuracy: 0.6659 - val_loss: 0.5969 - val_accuracy: 0.6988\n",
      "Epoch 3/50\n",
      "319/319 [==============================] - 5s 15ms/step - loss: 0.5588 - accuracy: 0.7303 - val_loss: 0.5530 - val_accuracy: 0.7166\n",
      "Epoch 4/50\n",
      "319/319 [==============================] - 5s 15ms/step - loss: 0.5174 - accuracy: 0.7460 - val_loss: 0.5233 - val_accuracy: 0.7420\n",
      "Epoch 5/50\n",
      "319/319 [==============================] - 5s 15ms/step - loss: 0.4502 - accuracy: 0.7872 - val_loss: 0.4807 - val_accuracy: 0.7709\n",
      "Epoch 6/50\n",
      "319/319 [==============================] - 5s 14ms/step - loss: 0.4150 - accuracy: 0.8060 - val_loss: 0.4240 - val_accuracy: 0.7946\n",
      "Epoch 7/50\n",
      "319/319 [==============================] - 5s 15ms/step - loss: 0.4040 - accuracy: 0.8083 - val_loss: 0.3823 - val_accuracy: 0.8146\n",
      "Epoch 8/50\n",
      "319/319 [==============================] - 5s 15ms/step - loss: 0.3894 - accuracy: 0.8177 - val_loss: 0.4045 - val_accuracy: 0.8137\n",
      "Epoch 9/50\n",
      "319/319 [==============================] - 5s 15ms/step - loss: 0.3722 - accuracy: 0.8279 - val_loss: 0.3580 - val_accuracy: 0.8391\n",
      "Epoch 10/50\n",
      "319/319 [==============================] - 5s 14ms/step - loss: 0.3568 - accuracy: 0.8384 - val_loss: 0.3572 - val_accuracy: 0.8449\n",
      "Epoch 11/50\n",
      "319/319 [==============================] - 5s 15ms/step - loss: 0.3515 - accuracy: 0.8479 - val_loss: 0.3739 - val_accuracy: 0.8556\n",
      "Epoch 12/50\n",
      "319/319 [==============================] - 5s 15ms/step - loss: 0.3248 - accuracy: 0.8626 - val_loss: 0.3120 - val_accuracy: 0.8717\n",
      "Epoch 13/50\n",
      "319/319 [==============================] - 5s 15ms/step - loss: 0.3069 - accuracy: 0.8715 - val_loss: 0.2853 - val_accuracy: 0.8819\n",
      "Epoch 14/50\n",
      "319/319 [==============================] - 5s 15ms/step - loss: 0.2888 - accuracy: 0.8820 - val_loss: 0.3857 - val_accuracy: 0.8587\n",
      "Epoch 15/50\n",
      "319/319 [==============================] - 5s 15ms/step - loss: 0.2777 - accuracy: 0.8888 - val_loss: 0.2914 - val_accuracy: 0.8837\n",
      "Epoch 16/50\n",
      "319/319 [==============================] - 5s 15ms/step - loss: 0.2828 - accuracy: 0.8877 - val_loss: 0.3684 - val_accuracy: 0.8427\n"
     ]
    },
    {
     "data": {
      "text/plain": [
       "<keras.callbacks.History at 0x2c17d95db10>"
      ]
     },
     "execution_count": 75,
     "metadata": {},
     "output_type": "execute_result"
    }
   ],
   "source": [
    "model4.fit(X_train, y_train, epochs=50, batch_size=32, validation_data=(X_val, y_val), callbacks=[early_stopping])"
   ]
  },
  {
   "cell_type": "code",
   "execution_count": 76,
   "id": "4fdb0fe0",
   "metadata": {},
   "outputs": [
    {
     "name": "stdout",
     "output_type": "stream",
     "text": [
      "Epoch 1/100\n",
      "100/100 [==============================] - 3s 28ms/step - loss: 0.2917 - accuracy: 0.8853 - val_loss: 0.3161 - val_accuracy: 0.8748\n",
      "Epoch 2/100\n",
      "100/100 [==============================] - 2s 22ms/step - loss: 0.2856 - accuracy: 0.8872 - val_loss: 0.2749 - val_accuracy: 0.8930\n",
      "Epoch 3/100\n",
      "100/100 [==============================] - 2s 21ms/step - loss: 0.2766 - accuracy: 0.8853 - val_loss: 0.2785 - val_accuracy: 0.8899\n",
      "Epoch 4/100\n",
      "100/100 [==============================] - 2s 19ms/step - loss: 0.2909 - accuracy: 0.8813 - val_loss: 0.2882 - val_accuracy: 0.8873\n",
      "Epoch 5/100\n",
      "100/100 [==============================] - 2s 19ms/step - loss: 0.2751 - accuracy: 0.8925 - val_loss: 0.2867 - val_accuracy: 0.8935\n"
     ]
    },
    {
     "data": {
      "text/plain": [
       "<keras.callbacks.History at 0x2c1814c93c0>"
      ]
     },
     "execution_count": 76,
     "metadata": {},
     "output_type": "execute_result"
    }
   ],
   "source": [
    "model4.fit(X_train, y_train, epochs=100, batch_size=32, validation_data=(X_val, y_val), callbacks=[early_stopping],steps_per_epoch=100)"
   ]
  },
  {
   "cell_type": "code",
   "execution_count": 77,
   "id": "66306672",
   "metadata": {},
   "outputs": [
    {
     "name": "stdout",
     "output_type": "stream",
     "text": [
      "Epoch 1/100\n",
      "100/100 [==============================] - 3s 28ms/step - loss: 0.2656 - accuracy: 0.8922 - val_loss: 0.2797 - val_accuracy: 0.8890\n",
      "Epoch 2/100\n",
      "100/100 [==============================] - 2s 23ms/step - loss: 0.2784 - accuracy: 0.8894 - val_loss: 0.2701 - val_accuracy: 0.8971\n",
      "Epoch 3/100\n",
      "100/100 [==============================] - 2s 20ms/step - loss: 0.2902 - accuracy: 0.8825 - val_loss: 0.2655 - val_accuracy: 0.8988\n",
      "Epoch 4/100\n",
      "100/100 [==============================] - 2s 19ms/step - loss: 0.2686 - accuracy: 0.8925 - val_loss: 0.2748 - val_accuracy: 0.8957\n",
      "Epoch 5/100\n",
      "100/100 [==============================] - 2s 19ms/step - loss: 0.2598 - accuracy: 0.8947 - val_loss: 0.2591 - val_accuracy: 0.8980\n",
      "Epoch 6/100\n",
      "100/100 [==============================] - 2s 19ms/step - loss: 0.2848 - accuracy: 0.8838 - val_loss: 0.3001 - val_accuracy: 0.8801\n",
      "Epoch 7/100\n",
      "100/100 [==============================] - 2s 19ms/step - loss: 0.2613 - accuracy: 0.8984 - val_loss: 0.2850 - val_accuracy: 0.8908\n",
      "Epoch 8/100\n",
      "100/100 [==============================] - 2s 19ms/step - loss: 0.2814 - accuracy: 0.8909 - val_loss: 0.2660 - val_accuracy: 0.8962\n"
     ]
    },
    {
     "data": {
      "text/plain": [
       "<keras.callbacks.History at 0x2c18150d750>"
      ]
     },
     "execution_count": 77,
     "metadata": {},
     "output_type": "execute_result"
    }
   ],
   "source": [
    "model4.fit(X_train, y_train, epochs=100, batch_size=32, validation_data=(X_val, y_val), callbacks=[early_stopping],steps_per_epoch=100)"
   ]
  },
  {
   "cell_type": "code",
   "execution_count": 79,
   "id": "b4528c8a",
   "metadata": {},
   "outputs": [
    {
     "name": "stdout",
     "output_type": "stream",
     "text": [
      "Epoch 1/10\n",
      "100/100 [==============================] - 3s 27ms/step - loss: 0.2721 - accuracy: 0.8913 - val_loss: 0.2554 - val_accuracy: 0.9015\n",
      "Epoch 2/10\n",
      "100/100 [==============================] - 2s 24ms/step - loss: 0.2496 - accuracy: 0.9038 - val_loss: 0.3109 - val_accuracy: 0.8757\n",
      "Epoch 3/10\n",
      "100/100 [==============================] - 2s 21ms/step - loss: 0.2644 - accuracy: 0.8966 - val_loss: 0.2531 - val_accuracy: 0.9046\n",
      "Epoch 4/10\n",
      "100/100 [==============================] - 2s 19ms/step - loss: 0.2729 - accuracy: 0.8906 - val_loss: 0.2667 - val_accuracy: 0.8966\n",
      "Epoch 5/10\n",
      "100/100 [==============================] - 2s 18ms/step - loss: 0.2609 - accuracy: 0.9016 - val_loss: 0.2884 - val_accuracy: 0.8841\n",
      "Epoch 6/10\n",
      "100/100 [==============================] - 2s 18ms/step - loss: 0.2474 - accuracy: 0.9038 - val_loss: 0.2600 - val_accuracy: 0.9042\n",
      "Epoch 7/10\n",
      "100/100 [==============================] - 2s 18ms/step - loss: 0.2481 - accuracy: 0.9069 - val_loss: 0.2480 - val_accuracy: 0.9078\n",
      "Epoch 8/10\n",
      "100/100 [==============================] - 2s 19ms/step - loss: 0.2665 - accuracy: 0.8909 - val_loss: 0.3273 - val_accuracy: 0.8672\n",
      "Epoch 9/10\n",
      "100/100 [==============================] - 2s 18ms/step - loss: 0.2446 - accuracy: 0.9075 - val_loss: 0.2464 - val_accuracy: 0.9037\n",
      "Epoch 10/10\n",
      "100/100 [==============================] - 2s 19ms/step - loss: 0.2676 - accuracy: 0.8925 - val_loss: 0.2571 - val_accuracy: 0.9015\n"
     ]
    },
    {
     "data": {
      "text/plain": [
       "<keras.callbacks.History at 0x2c18146beb0>"
      ]
     },
     "execution_count": 79,
     "metadata": {},
     "output_type": "execute_result"
    }
   ],
   "source": [
    "model4.fit(X_train, y_train, epochs=10, batch_size=32, validation_data=(X_val, y_val), steps_per_epoch=100)"
   ]
  },
  {
   "cell_type": "code",
   "execution_count": 80,
   "id": "dc78a50a",
   "metadata": {},
   "outputs": [
    {
     "name": "stdout",
     "output_type": "stream",
     "text": [
      "Epoch 1/10\n",
      "100/100 [==============================] - 3s 27ms/step - loss: 0.2369 - accuracy: 0.9119 - val_loss: 0.2660 - val_accuracy: 0.9011\n",
      "Epoch 2/10\n",
      "100/100 [==============================] - 2s 22ms/step - loss: 0.2298 - accuracy: 0.9087 - val_loss: 0.2482 - val_accuracy: 0.9033\n",
      "Epoch 3/10\n",
      "100/100 [==============================] - 2s 20ms/step - loss: 0.2568 - accuracy: 0.8991 - val_loss: 0.2492 - val_accuracy: 0.9042\n",
      "Epoch 4/10\n",
      "100/100 [==============================] - 2s 18ms/step - loss: 0.2419 - accuracy: 0.9038 - val_loss: 0.2547 - val_accuracy: 0.8984\n",
      "Epoch 5/10\n",
      "100/100 [==============================] - 2s 18ms/step - loss: 0.2434 - accuracy: 0.8997 - val_loss: 0.4370 - val_accuracy: 0.8119\n",
      "Epoch 6/10\n",
      "100/100 [==============================] - 2s 18ms/step - loss: 0.2454 - accuracy: 0.9025 - val_loss: 0.2563 - val_accuracy: 0.8975\n",
      "Epoch 7/10\n",
      "100/100 [==============================] - 2s 18ms/step - loss: 0.2367 - accuracy: 0.9075 - val_loss: 0.2670 - val_accuracy: 0.8984\n",
      "Epoch 8/10\n",
      "100/100 [==============================] - 2s 18ms/step - loss: 0.2353 - accuracy: 0.9128 - val_loss: 0.2459 - val_accuracy: 0.9046\n",
      "Epoch 9/10\n",
      "100/100 [==============================] - 2s 18ms/step - loss: 0.2406 - accuracy: 0.9094 - val_loss: 0.2552 - val_accuracy: 0.9060\n",
      "Epoch 10/10\n",
      "100/100 [==============================] - 2s 19ms/step - loss: 0.2359 - accuracy: 0.9075 - val_loss: 0.2513 - val_accuracy: 0.9051\n"
     ]
    },
    {
     "data": {
      "text/plain": [
       "<keras.callbacks.History at 0x2c1814c9ae0>"
      ]
     },
     "execution_count": 80,
     "metadata": {},
     "output_type": "execute_result"
    }
   ],
   "source": [
    "model4.fit(X_train, y_train, epochs=10, batch_size=32, validation_data=(X_val, y_val), steps_per_epoch=100)"
   ]
  },
  {
   "cell_type": "code",
   "execution_count": 86,
   "id": "d68f084b",
   "metadata": {},
   "outputs": [],
   "source": [
    "model7 = tf.keras.Sequential([\n",
    "    tf.keras.layers.LSTM(32, input_shape=(x_train.shape[1], 1)),\n",
    "    \n",
    "\n",
    "    tf.keras.layers.Dense(32, activation='relu'),\n",
    "    tf.keras.layers.Dropout(0.2),  # Add dropout with a dropout rate of 0.2\n",
    "\n",
    "    tf.keras.layers.Dense(1, activation='sigmoid')  # binary classification\n",
    "])"
   ]
  },
  {
   "cell_type": "code",
   "execution_count": 87,
   "id": "b6155a6f",
   "metadata": {},
   "outputs": [],
   "source": [
    "model7.compile(optimizer='adam', loss='binary_crossentropy', metrics=['accuracy'])\n"
   ]
  },
  {
   "cell_type": "code",
   "execution_count": 88,
   "id": "11459920",
   "metadata": {},
   "outputs": [
    {
     "name": "stdout",
     "output_type": "stream",
     "text": [
      "Epoch 1/10\n",
      "100/100 [==============================] - 5s 32ms/step - loss: 0.6908 - accuracy: 0.5309 - val_loss: 0.6837 - val_accuracy: 0.6096\n",
      "Epoch 2/10\n",
      "100/100 [==============================] - 2s 23ms/step - loss: 0.6634 - accuracy: 0.6150 - val_loss: 0.6485 - val_accuracy: 0.6448\n",
      "Epoch 3/10\n",
      "100/100 [==============================] - 2s 21ms/step - loss: 0.6436 - accuracy: 0.6413 - val_loss: 0.6396 - val_accuracy: 0.6439\n",
      "Epoch 4/10\n",
      "100/100 [==============================] - 2s 19ms/step - loss: 0.6353 - accuracy: 0.6541 - val_loss: 0.6370 - val_accuracy: 0.6560\n",
      "Epoch 5/10\n",
      "100/100 [==============================] - 2s 19ms/step - loss: 0.6324 - accuracy: 0.6587 - val_loss: 0.6318 - val_accuracy: 0.6613\n",
      "Epoch 6/10\n",
      "100/100 [==============================] - 2s 19ms/step - loss: 0.6430 - accuracy: 0.6444 - val_loss: 0.6318 - val_accuracy: 0.6569\n",
      "Epoch 7/10\n",
      "100/100 [==============================] - 2s 19ms/step - loss: 0.6277 - accuracy: 0.6631 - val_loss: 0.6314 - val_accuracy: 0.6609\n",
      "Epoch 8/10\n",
      "100/100 [==============================] - 2s 19ms/step - loss: 0.6337 - accuracy: 0.6566 - val_loss: 0.6282 - val_accuracy: 0.6671\n",
      "Epoch 9/10\n",
      "100/100 [==============================] - 2s 19ms/step - loss: 0.6337 - accuracy: 0.6619 - val_loss: 0.6515 - val_accuracy: 0.6448\n",
      "Epoch 10/10\n",
      "100/100 [==============================] - 2s 21ms/step - loss: 0.6256 - accuracy: 0.6744 - val_loss: 0.6377 - val_accuracy: 0.6453\n"
     ]
    },
    {
     "data": {
      "text/plain": [
       "<keras.callbacks.History at 0x2c1870e69b0>"
      ]
     },
     "execution_count": 88,
     "metadata": {},
     "output_type": "execute_result"
    }
   ],
   "source": [
    "model7.fit(X_train, y_train, epochs=10, batch_size=32, validation_data=(X_val, y_val), callbacks=[early_stopping],steps_per_epoch=100)"
   ]
  },
  {
   "cell_type": "code",
   "execution_count": 89,
   "id": "80efa24d",
   "metadata": {},
   "outputs": [
    {
     "name": "stdout",
     "output_type": "stream",
     "text": [
      "Epoch 1/10\n",
      "100/100 [==============================] - 2s 24ms/step - loss: 0.6244 - accuracy: 0.6772 - val_loss: 0.6461 - val_accuracy: 0.6377\n",
      "Epoch 2/10\n",
      "100/100 [==============================] - 2s 21ms/step - loss: 0.6225 - accuracy: 0.6722 - val_loss: 0.6199 - val_accuracy: 0.6760\n",
      "Epoch 3/10\n",
      "100/100 [==============================] - 2s 19ms/step - loss: 0.6264 - accuracy: 0.6694 - val_loss: 0.6451 - val_accuracy: 0.6221\n",
      "Epoch 4/10\n",
      "100/100 [==============================] - 2s 18ms/step - loss: 0.6126 - accuracy: 0.6806 - val_loss: 0.6458 - val_accuracy: 0.6283\n",
      "Epoch 5/10\n",
      "100/100 [==============================] - 2s 19ms/step - loss: 0.6205 - accuracy: 0.6766 - val_loss: 0.6101 - val_accuracy: 0.6760\n",
      "Epoch 6/10\n",
      "100/100 [==============================] - 2s 19ms/step - loss: 0.6053 - accuracy: 0.6975 - val_loss: 0.6649 - val_accuracy: 0.6119\n",
      "Epoch 7/10\n",
      "100/100 [==============================] - 2s 18ms/step - loss: 0.5922 - accuracy: 0.7053 - val_loss: 0.6122 - val_accuracy: 0.6881\n",
      "Epoch 8/10\n",
      "100/100 [==============================] - 2s 19ms/step - loss: 0.5966 - accuracy: 0.7031 - val_loss: 0.5952 - val_accuracy: 0.6961\n",
      "Epoch 9/10\n",
      "100/100 [==============================] - 2s 19ms/step - loss: 0.5769 - accuracy: 0.7153 - val_loss: 0.5763 - val_accuracy: 0.7063\n",
      "Epoch 10/10\n",
      "100/100 [==============================] - 2s 19ms/step - loss: 0.5649 - accuracy: 0.7200 - val_loss: 0.6021 - val_accuracy: 0.6827\n"
     ]
    },
    {
     "data": {
      "text/plain": [
       "<keras.callbacks.History at 0x2c17694d3c0>"
      ]
     },
     "execution_count": 89,
     "metadata": {},
     "output_type": "execute_result"
    }
   ],
   "source": [
    "model7.fit(X_train, y_train, epochs=10, batch_size=32, validation_data=(X_val, y_val), callbacks=[early_stopping],steps_per_epoch=100)"
   ]
  },
  {
   "cell_type": "code",
   "execution_count": 90,
   "id": "54d25c55",
   "metadata": {},
   "outputs": [],
   "source": [
    "model8 = tf.keras.Sequential([\n",
    "    tf.keras.layers.LSTM(128, input_shape=(x_train.shape[1], 1)),\n",
    "    \n",
    "\n",
    "    tf.keras.layers.Dense(32, activation='relu'),\n",
    "   \n",
    "    tf.keras.layers.Dense(1, activation='sigmoid')  # binary classification\n",
    "])"
   ]
  },
  {
   "cell_type": "code",
   "execution_count": 91,
   "id": "b4860caf",
   "metadata": {},
   "outputs": [],
   "source": [
    "model8.compile(optimizer='adam', loss='binary_crossentropy', metrics=['accuracy'])\n"
   ]
  },
  {
   "cell_type": "code",
   "execution_count": 92,
   "id": "61024d92",
   "metadata": {},
   "outputs": [
    {
     "name": "stdout",
     "output_type": "stream",
     "text": [
      "Epoch 1/10\n",
      "100/100 [==============================] - 5s 37ms/step - loss: 0.6741 - accuracy: 0.5928 - val_loss: 0.7186 - val_accuracy: 0.4483\n",
      "Epoch 2/10\n",
      "100/100 [==============================] - 3s 28ms/step - loss: 0.6941 - accuracy: 0.5359 - val_loss: 0.6840 - val_accuracy: 0.6007\n",
      "Epoch 3/10\n",
      "100/100 [==============================] - 2s 25ms/step - loss: 0.6804 - accuracy: 0.5872 - val_loss: 0.6592 - val_accuracy: 0.6435\n",
      "Epoch 4/10\n",
      "100/100 [==============================] - 2s 24ms/step - loss: 0.6613 - accuracy: 0.6175 - val_loss: 0.6594 - val_accuracy: 0.6038\n",
      "Epoch 5/10\n",
      "100/100 [==============================] - 2s 23ms/step - loss: 0.6507 - accuracy: 0.6369 - val_loss: 0.6631 - val_accuracy: 0.6096\n",
      "Epoch 6/10\n",
      "100/100 [==============================] - 2s 23ms/step - loss: 0.5938 - accuracy: 0.6997 - val_loss: 0.5046 - val_accuracy: 0.7616\n",
      "Epoch 7/10\n",
      "100/100 [==============================] - 2s 23ms/step - loss: 0.5370 - accuracy: 0.7416 - val_loss: 0.5429 - val_accuracy: 0.7246\n",
      "Epoch 8/10\n",
      "100/100 [==============================] - 2s 24ms/step - loss: 0.4826 - accuracy: 0.7709 - val_loss: 0.5087 - val_accuracy: 0.7669\n",
      "Epoch 9/10\n",
      "100/100 [==============================] - 2s 24ms/step - loss: 0.4594 - accuracy: 0.7872 - val_loss: 0.5296 - val_accuracy: 0.7353\n"
     ]
    },
    {
     "data": {
      "text/plain": [
       "<keras.callbacks.History at 0x2c176166230>"
      ]
     },
     "execution_count": 92,
     "metadata": {},
     "output_type": "execute_result"
    }
   ],
   "source": [
    "model8.fit(X_train, y_train, epochs=10, batch_size=32, validation_data=(X_val, y_val), callbacks=[early_stopping],steps_per_epoch=100)"
   ]
  },
  {
   "cell_type": "code",
   "execution_count": null,
   "id": "bfd43e4b",
   "metadata": {},
   "outputs": [],
   "source": []
  }
 ],
 "metadata": {
  "kernelspec": {
   "display_name": "Python 3 (ipykernel)",
   "language": "python",
   "name": "python3"
  },
  "language_info": {
   "codemirror_mode": {
    "name": "ipython",
    "version": 3
   },
   "file_extension": ".py",
   "mimetype": "text/x-python",
   "name": "python",
   "nbconvert_exporter": "python",
   "pygments_lexer": "ipython3",
   "version": "3.10.9"
  }
 },
 "nbformat": 4,
 "nbformat_minor": 5
}
