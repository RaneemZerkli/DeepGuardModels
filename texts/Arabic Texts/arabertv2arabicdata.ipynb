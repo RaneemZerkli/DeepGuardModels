{
 "cells": [
  {
   "cell_type": "code",
   "execution_count": 2,
   "id": "3de1ec33",
   "metadata": {},
   "outputs": [],
   "source": [
    "import pandas as pd"
   ]
  },
  {
   "cell_type": "code",
   "execution_count": 3,
   "id": "6cbd0c38",
   "metadata": {},
   "outputs": [],
   "source": [
    "df=pd.read_csv('fakeandrealdata.csv')"
   ]
  },
  {
   "cell_type": "code",
   "execution_count": 4,
   "id": "b631074d",
   "metadata": {},
   "outputs": [],
   "source": [
    "df=df.drop(columns='Unnamed: 0')"
   ]
  },
  {
   "cell_type": "code",
   "execution_count": 8,
   "id": "77c35939",
   "metadata": {},
   "outputs": [],
   "source": [
    "df=df.drop_duplicates()"
   ]
  },
  {
   "cell_type": "code",
   "execution_count": 11,
   "id": "0e02c419",
   "metadata": {},
   "outputs": [],
   "source": [
    "df = df[df['Inputs'].str.contains(\"عتاب \") == False]"
   ]
  },
  {
   "cell_type": "code",
   "execution_count": 12,
   "id": "139fc8ef",
   "metadata": {},
   "outputs": [
    {
     "data": {
      "text/html": [
       "<div>\n",
       "<style scoped>\n",
       "    .dataframe tbody tr th:only-of-type {\n",
       "        vertical-align: middle;\n",
       "    }\n",
       "\n",
       "    .dataframe tbody tr th {\n",
       "        vertical-align: top;\n",
       "    }\n",
       "\n",
       "    .dataframe thead th {\n",
       "        text-align: right;\n",
       "    }\n",
       "</style>\n",
       "<table border=\"1\" class=\"dataframe\">\n",
       "  <thead>\n",
       "    <tr style=\"text-align: right;\">\n",
       "      <th></th>\n",
       "      <th>Inputs</th>\n",
       "      <th>Label</th>\n",
       "    </tr>\n",
       "  </thead>\n",
       "  <tbody>\n",
       "    <tr>\n",
       "      <th>0</th>\n",
       "      <td>أعلنت شركة “ بي.بي. آي ” ، المتخصصة في مجال تص...</td>\n",
       "      <td>0</td>\n",
       "    </tr>\n",
       "    <tr>\n",
       "      <th>1</th>\n",
       "      <td>فاجأ المطرب الشاب مصطفى سيد جمهوره بأغنية “ ال...</td>\n",
       "      <td>0</td>\n",
       "    </tr>\n",
       "    <tr>\n",
       "      <th>2</th>\n",
       "      <td>القبض على رئيس مجلس بلدة الرهوة أقدم مواطن ( 4...</td>\n",
       "      <td>0</td>\n",
       "    </tr>\n",
       "    <tr>\n",
       "      <th>3</th>\n",
       "      <td>تعقد شركة أرامكو السعودية لأول مرة في الرياض م...</td>\n",
       "      <td>0</td>\n",
       "    </tr>\n",
       "    <tr>\n",
       "      <th>5</th>\n",
       "      <td>عادت فرقة \" \" دايسكي \" من كوريا الجنوبية الى ا...</td>\n",
       "      <td>0</td>\n",
       "    </tr>\n",
       "    <tr>\n",
       "      <th>...</th>\n",
       "      <td>...</td>\n",
       "      <td>...</td>\n",
       "    </tr>\n",
       "    <tr>\n",
       "      <th>99995</th>\n",
       "      <td>رائع وموقعه مميز . موقع الفندق بالقرب من الخور...</td>\n",
       "      <td>1</td>\n",
       "    </tr>\n",
       "    <tr>\n",
       "      <th>99996</th>\n",
       "      <td>رحلة مميزة بالقرب من الحرم . تعامل الموظفين كا...</td>\n",
       "      <td>1</td>\n",
       "    </tr>\n",
       "    <tr>\n",
       "      <th>99997</th>\n",
       "      <td>حجز لثلاث اشخاص . تسجيل الدخول للفندق و تسجيل ...</td>\n",
       "      <td>1</td>\n",
       "    </tr>\n",
       "    <tr>\n",
       "      <th>99998</th>\n",
       "      <td>مخيب للأمل. . تسجيل الدخول استغرق اكثر من ساعتين</td>\n",
       "      <td>1</td>\n",
       "    </tr>\n",
       "    <tr>\n",
       "      <th>99999</th>\n",
       "      <td>فندق رائع لمن يبحث الاسترخاء والمتعة . كل شئ م...</td>\n",
       "      <td>1</td>\n",
       "    </tr>\n",
       "  </tbody>\n",
       "</table>\n",
       "<p>79410 rows × 2 columns</p>\n",
       "</div>"
      ],
      "text/plain": [
       "                                                  Inputs  Label\n",
       "0      أعلنت شركة “ بي.بي. آي ” ، المتخصصة في مجال تص...      0\n",
       "1      فاجأ المطرب الشاب مصطفى سيد جمهوره بأغنية “ ال...      0\n",
       "2      القبض على رئيس مجلس بلدة الرهوة أقدم مواطن ( 4...      0\n",
       "3      تعقد شركة أرامكو السعودية لأول مرة في الرياض م...      0\n",
       "5      عادت فرقة \" \" دايسكي \" من كوريا الجنوبية الى ا...      0\n",
       "...                                                  ...    ...\n",
       "99995  رائع وموقعه مميز . موقع الفندق بالقرب من الخور...      1\n",
       "99996  رحلة مميزة بالقرب من الحرم . تعامل الموظفين كا...      1\n",
       "99997  حجز لثلاث اشخاص . تسجيل الدخول للفندق و تسجيل ...      1\n",
       "99998   مخيب للأمل. . تسجيل الدخول استغرق اكثر من ساعتين      1\n",
       "99999  فندق رائع لمن يبحث الاسترخاء والمتعة . كل شئ م...      1\n",
       "\n",
       "[79410 rows x 2 columns]"
      ]
     },
     "execution_count": 12,
     "metadata": {},
     "output_type": "execute_result"
    }
   ],
   "source": [
    "df"
   ]
  },
  {
   "cell_type": "code",
   "execution_count": 13,
   "id": "c21af9aa",
   "metadata": {},
   "outputs": [
    {
     "data": {
      "text/plain": [
       "1    43726\n",
       "0    35684\n",
       "Name: Label, dtype: int64"
      ]
     },
     "execution_count": 13,
     "metadata": {},
     "output_type": "execute_result"
    }
   ],
   "source": [
    "df.Label.value_counts()"
   ]
  },
  {
   "cell_type": "code",
   "execution_count": 14,
   "id": "4286d179",
   "metadata": {},
   "outputs": [],
   "source": [
    "class_2,class_1 = df.Label.value_counts()\n",
    "c2 = df[df['Label'] == 0]\n",
    "c1 = df[df['Label'] == 1]\n",
    "df_2_over = c2.sample(class_2, replace=True)"
   ]
  },
  {
   "cell_type": "code",
   "execution_count": 15,
   "id": "cb7a92b8",
   "metadata": {},
   "outputs": [],
   "source": [
    "df = pd.concat([df_2_over,c1],axis=0)"
   ]
  },
  {
   "cell_type": "code",
   "execution_count": 16,
   "id": "5b94af71",
   "metadata": {},
   "outputs": [
    {
     "data": {
      "text/plain": [
       "0    43726\n",
       "1    43726\n",
       "Name: Label, dtype: int64"
      ]
     },
     "execution_count": 16,
     "metadata": {},
     "output_type": "execute_result"
    }
   ],
   "source": [
    "df.Label.value_counts()"
   ]
  },
  {
   "cell_type": "code",
   "execution_count": 17,
   "id": "3c604a40",
   "metadata": {},
   "outputs": [
    {
     "data": {
      "text/html": [
       "<div>\n",
       "<style scoped>\n",
       "    .dataframe tbody tr th:only-of-type {\n",
       "        vertical-align: middle;\n",
       "    }\n",
       "\n",
       "    .dataframe tbody tr th {\n",
       "        vertical-align: top;\n",
       "    }\n",
       "\n",
       "    .dataframe thead th {\n",
       "        text-align: right;\n",
       "    }\n",
       "</style>\n",
       "<table border=\"1\" class=\"dataframe\">\n",
       "  <thead>\n",
       "    <tr style=\"text-align: right;\">\n",
       "      <th></th>\n",
       "      <th>Inputs</th>\n",
       "      <th>Label</th>\n",
       "    </tr>\n",
       "  </thead>\n",
       "  <tbody>\n",
       "    <tr>\n",
       "      <th>34977</th>\n",
       "      <td>برنامج Essentials Pro 9. 0. 2. 1. 6 Portable ي...</td>\n",
       "      <td>0</td>\n",
       "    </tr>\n",
       "    <tr>\n",
       "      <th>46463</th>\n",
       "      <td>عرب بت - أعلنت اللجنة المنظمة لمهرجان التسوق ا...</td>\n",
       "      <td>0</td>\n",
       "    </tr>\n",
       "    <tr>\n",
       "      <th>36231</th>\n",
       "      <td>وكانت وزارة الاستثمار قد رفعت أسعار تلك الخدما...</td>\n",
       "      <td>0</td>\n",
       "    </tr>\n",
       "    <tr>\n",
       "      <th>71</th>\n",
       "      <td>قال وزير الخارجية البريطاني ، ويليام هيج ، الي...</td>\n",
       "      <td>0</td>\n",
       "    </tr>\n",
       "    <tr>\n",
       "      <th>42859</th>\n",
       "      <td>حجز تشيلسي فرصة التتويج بلقب دوري أبطال أوروبا...</td>\n",
       "      <td>0</td>\n",
       "    </tr>\n",
       "    <tr>\n",
       "      <th>...</th>\n",
       "      <td>...</td>\n",
       "      <td>...</td>\n",
       "    </tr>\n",
       "    <tr>\n",
       "      <th>99995</th>\n",
       "      <td>رائع وموقعه مميز . موقع الفندق بالقرب من الخور...</td>\n",
       "      <td>1</td>\n",
       "    </tr>\n",
       "    <tr>\n",
       "      <th>99996</th>\n",
       "      <td>رحلة مميزة بالقرب من الحرم . تعامل الموظفين كا...</td>\n",
       "      <td>1</td>\n",
       "    </tr>\n",
       "    <tr>\n",
       "      <th>99997</th>\n",
       "      <td>حجز لثلاث اشخاص . تسجيل الدخول للفندق و تسجيل ...</td>\n",
       "      <td>1</td>\n",
       "    </tr>\n",
       "    <tr>\n",
       "      <th>99998</th>\n",
       "      <td>مخيب للأمل. . تسجيل الدخول استغرق اكثر من ساعتين</td>\n",
       "      <td>1</td>\n",
       "    </tr>\n",
       "    <tr>\n",
       "      <th>99999</th>\n",
       "      <td>فندق رائع لمن يبحث الاسترخاء والمتعة . كل شئ م...</td>\n",
       "      <td>1</td>\n",
       "    </tr>\n",
       "  </tbody>\n",
       "</table>\n",
       "<p>87452 rows × 2 columns</p>\n",
       "</div>"
      ],
      "text/plain": [
       "                                                  Inputs  Label\n",
       "34977  برنامج Essentials Pro 9. 0. 2. 1. 6 Portable ي...      0\n",
       "46463  عرب بت - أعلنت اللجنة المنظمة لمهرجان التسوق ا...      0\n",
       "36231  وكانت وزارة الاستثمار قد رفعت أسعار تلك الخدما...      0\n",
       "71     قال وزير الخارجية البريطاني ، ويليام هيج ، الي...      0\n",
       "42859  حجز تشيلسي فرصة التتويج بلقب دوري أبطال أوروبا...      0\n",
       "...                                                  ...    ...\n",
       "99995  رائع وموقعه مميز . موقع الفندق بالقرب من الخور...      1\n",
       "99996  رحلة مميزة بالقرب من الحرم . تعامل الموظفين كا...      1\n",
       "99997  حجز لثلاث اشخاص . تسجيل الدخول للفندق و تسجيل ...      1\n",
       "99998   مخيب للأمل. . تسجيل الدخول استغرق اكثر من ساعتين      1\n",
       "99999  فندق رائع لمن يبحث الاسترخاء والمتعة . كل شئ م...      1\n",
       "\n",
       "[87452 rows x 2 columns]"
      ]
     },
     "execution_count": 17,
     "metadata": {},
     "output_type": "execute_result"
    }
   ],
   "source": [
    "df"
   ]
  },
  {
   "cell_type": "code",
   "execution_count": 18,
   "id": "d7e280c3",
   "metadata": {},
   "outputs": [
    {
     "name": "stderr",
     "output_type": "stream",
     "text": [
      "Some weights of the model checkpoint at aubmindlab/bert-base-arabertv02 were not used when initializing BertModel: ['cls.predictions.transform.LayerNorm.weight', 'cls.predictions.transform.LayerNorm.bias', 'cls.predictions.transform.dense.bias', 'cls.predictions.decoder.weight', 'cls.seq_relationship.weight', 'cls.predictions.bias', 'cls.predictions.transform.dense.weight', 'cls.predictions.decoder.bias', 'cls.seq_relationship.bias']\n",
      "- This IS expected if you are initializing BertModel from the checkpoint of a model trained on another task or with another architecture (e.g. initializing a BertForSequenceClassification model from a BertForPreTraining model).\n",
      "- This IS NOT expected if you are initializing BertModel from the checkpoint of a model that you expect to be exactly identical (initializing a BertForSequenceClassification model from a BertForSequenceClassification model).\n"
     ]
    }
   ],
   "source": [
    "tokenizer = AutoTokenizer.from_pretrained(\"aubmindlab/bert-base-arabertv02\")\n",
    "model = AutoModel.from_pretrained(\"aubmindlab/bert-base-arabertv02\")\n"
   ]
  },
  {
   "cell_type": "code",
   "execution_count": 19,
   "id": "301539dd",
   "metadata": {},
   "outputs": [],
   "source": [
    "from sklearn.model_selection import train_test_split\n",
    "text = df['Inputs']\n",
    "label = df['Label']\n"
   ]
  },
  {
   "cell_type": "code",
   "execution_count": 20,
   "id": "2c7ce8c3",
   "metadata": {},
   "outputs": [],
   "source": [
    "X_train, X_val, y_train, y_val = train_test_split(text, label, test_size=0.25, stratify=label)"
   ]
  },
  {
   "cell_type": "code",
   "execution_count": 21,
   "id": "787e2182",
   "metadata": {},
   "outputs": [],
   "source": [
    "def tokenize_data(tokenizer, texts):\n",
    "  \"\"\"Tokenizes a list of text strings using the given BERT tokenizer.\n",
    "\n",
    "  Args:\n",
    "    tokenizer: A BERT tokenizer.\n",
    "    texts: A list of text strings.\n",
    "\n",
    "  Returns:\n",
    "    A list of tokenized sentences, where each sentence is a list of token IDs.\n",
    "  \"\"\"\n",
    "\n",
    "  tokenized_texts = []\n",
    "  for text in texts:\n",
    "    # Fix the error by removing the `return_tensors='pt'` argument.\n",
    "    tokens = tokenizer(text, padding=True, truncation=True, max_length=128)['input_ids']\n",
    "    tokenized_texts.append(tokens)\n",
    "\n",
    "  return tokenized_texts"
   ]
  },
  {
   "cell_type": "code",
   "execution_count": 22,
   "id": "15360f05",
   "metadata": {},
   "outputs": [],
   "source": [
    "x =tokenize_data(tokenizer, X_train)"
   ]
  },
  {
   "cell_type": "code",
   "execution_count": 23,
   "id": "06e773d2",
   "metadata": {},
   "outputs": [],
   "source": [
    "x1 =tokenize_data(tokenizer, X_val)"
   ]
  },
  {
   "cell_type": "code",
   "execution_count": 24,
   "id": "65d94d33",
   "metadata": {},
   "outputs": [],
   "source": [
    "import keras\n",
    "import transformers\n",
    "import pandas as pd\n",
    "import numpy as np\n",
    "from transformers import BertTokenizer, BertModel\n",
    "from tensorflow.keras.preprocessing.sequence import pad_sequences\n",
    "from keras.layers import Embedding, LSTM, Dense\n",
    "from keras.models import Sequential\n",
    "x_train=pad_sequences(x)\n",
    "x_val=pad_sequences(x1)"
   ]
  },
  {
   "cell_type": "code",
   "execution_count": 25,
   "id": "a414286c",
   "metadata": {},
   "outputs": [],
   "source": [
    "embedding_layer = Embedding(\n",
    "    input_dim=model.config.vocab_size,\n",
    "    output_dim=model.config.hidden_size,\n",
    "    weights=[model.embeddings.word_embeddings.weight.detach()],\n",
    "    trainable=True)"
   ]
  },
  {
   "cell_type": "code",
   "execution_count": 26,
   "id": "f207ba2b",
   "metadata": {},
   "outputs": [],
   "source": [
    "import tensorflow as tf\n",
    "model = tf.keras.models.Sequential([\n",
    "    embedding_layer,\n",
    "    tf.keras.layers.LSTM(128),\n",
    "    tf.keras.layers.Dense(1, activation='sigmoid')\n",
    "])"
   ]
  },
  {
   "cell_type": "code",
   "execution_count": 27,
   "id": "05fb4de9",
   "metadata": {},
   "outputs": [],
   "source": [
    "model.compile(optimizer='adam', loss='binary_crossentropy', metrics=['accuracy'],)\n"
   ]
  },
  {
   "cell_type": "code",
   "execution_count": 28,
   "id": "95fa8920",
   "metadata": {},
   "outputs": [
    {
     "name": "stdout",
     "output_type": "stream",
     "text": [
      "Epoch 1/10\n",
      "100/100 [==============================] - 14s 57ms/step - loss: 0.1446 - accuracy: 0.9328\n",
      "Epoch 2/10\n",
      "100/100 [==============================] - 5s 50ms/step - loss: 0.0468 - accuracy: 0.9841\n",
      "Epoch 3/10\n",
      "100/100 [==============================] - 5s 51ms/step - loss: 0.0314 - accuracy: 0.9922\n",
      "Epoch 4/10\n",
      "100/100 [==============================] - 5s 51ms/step - loss: 0.0294 - accuracy: 0.9916\n",
      "Epoch 5/10\n",
      "100/100 [==============================] - 5s 52ms/step - loss: 0.0200 - accuracy: 0.9947\n",
      "Epoch 6/10\n",
      "100/100 [==============================] - 5s 52ms/step - loss: 0.0215 - accuracy: 0.9925\n",
      "Epoch 7/10\n",
      "100/100 [==============================] - 5s 52ms/step - loss: 0.0172 - accuracy: 0.9953\n",
      "Epoch 8/10\n",
      "100/100 [==============================] - 5s 51ms/step - loss: 0.0171 - accuracy: 0.9947\n",
      "Epoch 9/10\n",
      "100/100 [==============================] - 5s 51ms/step - loss: 0.0145 - accuracy: 0.9944\n",
      "Epoch 10/10\n",
      "100/100 [==============================] - 5s 50ms/step - loss: 0.0119 - accuracy: 0.9953\n"
     ]
    },
    {
     "data": {
      "text/plain": [
       "<keras.callbacks.History at 0x1b03f6667d0>"
      ]
     },
     "execution_count": 28,
     "metadata": {},
     "output_type": "execute_result"
    }
   ],
   "source": [
    "model.fit(x_train, y_train, epochs=10,steps_per_epoch=100,batch_size=32)\n"
   ]
  },
  {
   "cell_type": "code",
   "execution_count": 29,
   "id": "722f69c8",
   "metadata": {},
   "outputs": [
    {
     "name": "stdout",
     "output_type": "stream",
     "text": [
      "100/100 [==============================] - 2s 11ms/step - loss: 0.0165 - accuracy: 0.9950\n"
     ]
    },
    {
     "data": {
      "text/plain": [
       "[0.01652875542640686, 0.9949686527252197]"
      ]
     },
     "execution_count": 29,
     "metadata": {},
     "output_type": "execute_result"
    }
   ],
   "source": [
    "model.evaluate(x_val,y_val,steps=100)"
   ]
  },
  {
   "cell_type": "code",
   "execution_count": 64,
   "id": "d6776457",
   "metadata": {},
   "outputs": [
    {
     "name": "stdout",
     "output_type": "stream",
     "text": [
      "1/1 [==============================] - 0s 26ms/step\n",
      "Predicted class: machine generated [[0.00026796]]\n"
     ]
    }
   ],
   "source": [
    "import numpy as np\n",
    "text=\"بالطبع، يمكنني توليد كود لنموذج BiLSTM باستخدام  وKeras. هذا هو مثال على كيفية إنشاء نموذج BiLSTM باستخدام TensorFlow وKeras:\"\n",
    "text_p = [text]\n",
    "x2 = tokenize_data(tokenizer, text_p)\n",
    "\n",
    "# Make a prediction\n",
    "prediction_input = np.array(x2).reshape(-1)\n",
    "prediction_input=pad_sequences([prediction_input],128)\n",
    "\n",
    "\n",
    "output = model.predict(prediction_input)\n",
    "\n",
    "\n",
    "\n",
    "\n",
    "if output > 0.5:\n",
    "    predicted_class = 'human written'\n",
    "else:\n",
    "    predicted_class = 'machine generated'\n",
    "\n",
    "# Print the predicted class\n",
    "print('Predicted class:', predicted_class,output)\n"
   ]
  },
  {
   "cell_type": "code",
   "execution_count": 45,
   "id": "96e766d6",
   "metadata": {},
   "outputs": [],
   "source": [
    "model.save('arabicbertfordeepfaketextdetection.h5')"
   ]
  },
  {
   "cell_type": "code",
   "execution_count": null,
   "id": "6dd8ff0a",
   "metadata": {},
   "outputs": [],
   "source": []
  }
 ],
 "metadata": {
  "kernelspec": {
   "display_name": "Python 3 (ipykernel)",
   "language": "python",
   "name": "python3"
  },
  "language_info": {
   "codemirror_mode": {
    "name": "ipython",
    "version": 3
   },
   "file_extension": ".py",
   "mimetype": "text/x-python",
   "name": "python",
   "nbconvert_exporter": "python",
   "pygments_lexer": "ipython3",
   "version": "3.10.9"
  }
 },
 "nbformat": 4,
 "nbformat_minor": 5
}
